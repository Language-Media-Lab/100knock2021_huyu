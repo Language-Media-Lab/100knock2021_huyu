{
  "nbformat": 4,
  "nbformat_minor": 0,
  "metadata": {
    "colab": {
      "name": "chapter05_kei.ipynb",
      "provenance": [],
      "collapsed_sections": []
    },
    "kernelspec": {
      "name": "python3",
      "display_name": "Python 3"
    }
  },
  "cells": [
    {
      "cell_type": "markdown",
      "metadata": {
        "id": "Fp0N2LP4fuTR"
      },
      "source": [
        "# 言語処理100本ノック　第5章 係り受け解析"
      ]
    },
    {
      "cell_type": "markdown",
      "source": [
        "##40の準備"
      ],
      "metadata": {
        "id": "Q4Dy6PcftR8F"
      }
    },
    {
      "cell_type": "code",
      "source": [
        "\"\"\"ここを参考に準備：https://qiita.com/yamaru/items/48dcc527f433c22e0af9\"\"\""
      ],
      "metadata": {
        "colab": {
          "base_uri": "https://localhost:8080/",
          "height": 35
        },
        "id": "Rp5zzGnmsCFs",
        "outputId": "01f75500-2b3f-4fa5-8f81-b9faa5124143"
      },
      "execution_count": 1,
      "outputs": [
        {
          "output_type": "execute_result",
          "data": {
            "application/vnd.google.colaboratory.intrinsic+json": {
              "type": "string"
            },
            "text/plain": [
              "'ここを参考に準備：https://qiita.com/yamaru/items/48dcc527f433c22e0af9'"
            ]
          },
          "metadata": {},
          "execution_count": 1
        }
      ]
    },
    {
      "cell_type": "code",
      "source": [
        "!wget https://nlp100.github.io/data/ai.ja.zip"
      ],
      "metadata": {
        "id": "fdi8sZ1mjTVa",
        "colab": {
          "base_uri": "https://localhost:8080/"
        },
        "outputId": "24d0416b-0b2c-45a9-a55d-6de8fa1c2093"
      },
      "execution_count": 2,
      "outputs": [
        {
          "output_type": "stream",
          "name": "stdout",
          "text": [
            "--2022-02-03 14:09:20--  https://nlp100.github.io/data/ai.ja.zip\n",
            "Resolving nlp100.github.io (nlp100.github.io)... 185.199.108.153, 185.199.109.153, 185.199.110.153, ...\n",
            "Connecting to nlp100.github.io (nlp100.github.io)|185.199.108.153|:443... connected.\n",
            "HTTP request sent, awaiting response... 200 OK\n",
            "Length: 17516 (17K) [application/zip]\n",
            "Saving to: ‘ai.ja.zip’\n",
            "\n",
            "ai.ja.zip           100%[===================>]  17.11K  --.-KB/s    in 0.001s  \n",
            "\n",
            "2022-02-03 14:09:21 (27.0 MB/s) - ‘ai.ja.zip’ saved [17516/17516]\n",
            "\n"
          ]
        }
      ]
    },
    {
      "cell_type": "code",
      "source": [
        "!unzip ai.ja.zip\n",
        "#will use ai.ja.txt"
      ],
      "metadata": {
        "id": "r-tDrT9PkD7H",
        "colab": {
          "base_uri": "https://localhost:8080/"
        },
        "outputId": "c040fa38-79ab-43bd-d608-3406db690f84"
      },
      "execution_count": 3,
      "outputs": [
        {
          "output_type": "stream",
          "name": "stdout",
          "text": [
            "Archive:  ai.ja.zip\n",
            "  inflating: ai.ja.txt               \n",
            "  inflating: readme.ai.ja.md         \n"
          ]
        }
      ]
    },
    {
      "cell_type": "code",
      "source": [
        "# MeCabのインストール\n",
        "!apt install mecab libmecab-dev mecab-ipadic-utf8"
      ],
      "metadata": {
        "id": "Uclu_uLwkSXE"
      },
      "execution_count": null,
      "outputs": []
    },
    {
      "cell_type": "code",
      "source": [
        "# CRF++のソースファイルのダウンロード・解凍・インストール\n",
        "FILE_ID = \"0B4y35FiV1wh7QVR6VXJ5dWExSTQ\"\n",
        "FILE_NAME = \"crfpp.tar.gz\"\n",
        "!wget 'https://docs.google.com/uc?export=download&id=$FILE_ID' -O $FILE_NAME\n",
        "!tar xvf crfpp.tar.gz\n",
        "%cd CRF++-0.58\n",
        "!./configure && make && make install && ldconfig\n",
        "%cd .."
      ],
      "metadata": {
        "id": "9balEp1hru2j"
      },
      "execution_count": null,
      "outputs": []
    },
    {
      "cell_type": "code",
      "source": [
        "# CaboChaのソースファイルのダウンロード・解凍・インストール\n",
        "FILE_ID = \"0B4y35FiV1wh7SDd1Q1dUQkZQaUU\"\n",
        "FILE_NAME = \"cabocha-0.69.tar.bz2\"\n",
        "!wget --load-cookies /tmp/cookies.txt \"https://docs.google.com/uc?export=download&confirm=$(wget --quiet --save-cookies /tmp/cookies.txt --keep-session-cookies --no-check-certificate 'https://docs.google.com/uc?export=download&id=$FILE_ID' -O- | sed -rn 's/.*confirm=([0-9A-Za-z_]+).*/\\1\\n/p')&id=$FILE_ID\" -O $FILE_NAME && rm -rf /tmp/cookies.txt\n",
        "!tar -xvf cabocha-0.69.tar.bz2\n",
        "%cd cabocha-0.69\n",
        "!./configure -with-charset=utf-8 && make && make check && make install && ldconfig\n",
        "%cd .."
      ],
      "metadata": {
        "id": "hoHniSbhr8CN"
      },
      "execution_count": null,
      "outputs": []
    },
    {
      "cell_type": "code",
      "source": [
        "#cabochaでai.ja.txtを係り受け解析した結果をai.ja.parsedに書き込み\n",
        "!cabocha -f1 -o ai.ja.txt.parsed ai.ja.txt "
      ],
      "metadata": {
        "id": "ZDSx8K7EskLO"
      },
      "execution_count": 7,
      "outputs": []
    },
    {
      "cell_type": "markdown",
      "metadata": {
        "id": "ylMr-x-TfxdN"
      },
      "source": [
        "## 40. 係り受け解析結果の読み込み（形態素）\n",
        "形態素を表すクラスMorphを実装せよ．このクラスは表層形（surface），基本形（base），品詞（pos），品詞細分類1（pos1）をメンバ変数に持つこととする．さらに，係り受け解析の結果（ai.ja.txt.parsed）を読み込み，各文をMorphオブジェクトのリストとして表現し，冒頭の説明文の形態素列を表示せよ．"
      ]
    },
    {
      "cell_type": "markdown",
      "source": [
        "ヒント：https://nlp100.github.io/data/ai.ja.zip からデータをダウンロードする．"
      ],
      "metadata": {
        "id": "0WuI7a9hhtEC"
      }
    },
    {
      "cell_type": "code",
      "source": [
        "\"\"\"\n",
        "係り受けとは：ある単位同士が結びついて1つの意味を成していること。前のことばが後ろに「係っている」。後のことばが前のことばから「受けている」。\n",
        "ざっくりとした説明：  http://国語文法.com/%E3%80%8C%E4%BF%82%E3%82%8A%E5%8F%97%E3%81%91%E3%80%8D%E3%81%A8%E3%81%AF.html\n",
        "3つの係り受け解析：  http://kanji.zinbun.kyoto-u.ac.jp/~yasuoka/publications/kakariuke.html\n",
        "\"\"\""
      ],
      "metadata": {
        "id": "ithBT3nHmrmX"
      },
      "execution_count": null,
      "outputs": []
    },
    {
      "cell_type": "code",
      "source": [
        "\"\"\"defining Morph class\"\"\"\n",
        "class Morph:\n",
        "  def __init__(self, surface, base, pos, pos1):\n",
        "    self.surface = surface\n",
        "    self.base = base\n",
        "    self.pos = pos\n",
        "    self.pos1 = pos1\n",
        "  def show(self):\n",
        "    print(f\"surface: {self.surface}, base: {self.base}, pos: {self.pos}, pos1: {self.pos1}\")"
      ],
      "metadata": {
        "id": "agIm-5sOhtkY"
      },
      "execution_count": 9,
      "outputs": []
    },
    {
      "cell_type": "code",
      "source": [
        "filename = 'ai.ja.txt.parsed'\n",
        "morph_sens = list()\n",
        "tmp_sen = list()\n",
        "count=0\n",
        "with open(filename, mode='r') as f:\n",
        "  for line in f:\n",
        "    if line!=\"EOS\\n\":#文末を表すEOSでなければ＝1文まで(ai.ja.txtは句読点で区切られていないことも笑)\n",
        "      if line[0]!=\"*\":#係り受け解析結果は無視\n",
        "        sp = line.split()#\\tでsplitし、末尾の\\nを除去\n",
        "        m = sp[1].split(',')\n",
        "        a = Morph(sp[0], m[6], m[0], m[1])\n",
        "        tmp_sen.append(a)\n",
        "    elif tmp_sen:\n",
        "        morph_sens.append(tmp_sen)\n",
        "        tmp_sen = list()\n"
      ],
      "metadata": {
        "id": "l5C4mFsnt44C"
      },
      "execution_count": 10,
      "outputs": []
    },
    {
      "cell_type": "code",
      "source": [
        "morph_sens\n",
        "\"\"\"\n",
        "for m in morph_sens[:2]:\n",
        "  for i in m:\n",
        "    i.show()\n",
        "\"\"\""
      ],
      "metadata": {
        "colab": {
          "base_uri": "https://localhost:8080/",
          "height": 35
        },
        "id": "Y1aY8m3c0gj5",
        "outputId": "afe323da-354b-4d48-ccf2-ca9f7b172833"
      },
      "execution_count": 11,
      "outputs": [
        {
          "output_type": "execute_result",
          "data": {
            "application/vnd.google.colaboratory.intrinsic+json": {
              "type": "string"
            },
            "text/plain": [
              "'\\nfor m in morph_sens[:2]:\\n  for i in m:\\n    i.show()\\n'"
            ]
          },
          "metadata": {},
          "execution_count": 11
        }
      ]
    },
    {
      "cell_type": "markdown",
      "metadata": {
        "id": "hjWX4Ui0tftv"
      },
      "source": [
        "## 41. 係り受け解析結果の読み込み（文節・係り受け）\n",
        "40に加えて，文節を表すクラスChunkを実装せよ．このクラスは形態素（Morphオブジェクト）のリスト（morphs），係り先文節インデックス番号（dst），係り元文節インデックス番号のリスト（srcs）をメンバ変数に持つこととする．さらに，入力テキストの係り受け解析結果を読み込み，１文をChunkオブジェクトのリストとして表現し，冒頭の説明文の文節の文字列と係り先を表示せよ．本章の残りの問題では，ここで作ったプログラムを活用せよ．"
      ]
    },
    {
      "cell_type": "code",
      "source": [
        "\"\"\"文節を表すクラスChunk\"\"\"\n",
        "class Chunk:\n",
        "  def __init__(self, morphs:list, dst:int):\n",
        "    self.morphs = morphs\n",
        "    self.dst = dst\n",
        "    self.srcs = list()\n",
        "  def show(self):\n",
        "    print('morphs:')\n",
        "    for morph in self.morphs:\n",
        "      morph.show()\n",
        "    print('dst: ', self.dst)\n",
        "    print('srcs: ', self.srcs)"
      ],
      "metadata": {
        "id": "CPHMXXNq2hon"
      },
      "execution_count": 12,
      "outputs": []
    },
    {
      "cell_type": "code",
      "source": [
        "#cabochaでは、文節間の係り受けを解析している\n",
        "filename = 'ai.ja.txt.parsed'\n",
        "sentences = list()\n",
        "chunk_sen = list()\n",
        "tmp_chunks = list()\n",
        "dst = 0\n",
        "with open(filename, mode='r') as f:\n",
        "  for line in f:\n",
        "    if line[0]==\"*\":#係り受け解析結果\n",
        "      if tmp_chunks:#１つのchunkが終了\n",
        "        b = Chunk(tmp_chunks, dst)\n",
        "        chunk_sen.append(b)\n",
        "        tmp_chunks = list()\n",
        "        dst = 0\n",
        "      ch = line.split()\n",
        "      dst = int(ch[2].split(\"D\")[0])\n",
        "    elif line!=\"EOS\\n\":#形態素解析結果\n",
        "      sp = line.split()\n",
        "      m = sp[1].split(',')\n",
        "      a = Morph(sp[0], m[6], m[0], m[1])\n",
        "      tmp_chunks.append(a)\n",
        "    elif line==\"EOS\\n\":#EOS\n",
        "      if tmp_chunks:#１つのchunkが終了\n",
        "          b = Chunk(tmp_chunks, dst)\n",
        "          chunk_sen.append(b)\n",
        "          tmp_chunks = list()\n",
        "          dst = 0\n",
        "      for i, chunk in enumerate(chunk_sen):\n",
        "        if dst!=-1:\n",
        "          chunk_sen[chunk.dst].srcs.append(i)\n",
        "      sentences.append(chunk_sen)\n",
        "      chunk_sen = list()"
      ],
      "metadata": {
        "id": "O2848thG3Aah"
      },
      "execution_count": 13,
      "outputs": []
    },
    {
      "cell_type": "code",
      "source": [
        "\"\"\"確認用\"\"\"\n",
        "for sentence in sentences[:3]:\n",
        "  for i, chunk in enumerate(sentence):\n",
        "    print(i)\n",
        "    chunk.show()\n",
        "    print('-----')"
      ],
      "metadata": {
        "id": "h9bB5qcp7aPZ",
        "colab": {
          "base_uri": "https://localhost:8080/"
        },
        "outputId": "65f896d5-4f48-4b78-8238-9270c2737c0d"
      },
      "execution_count": 14,
      "outputs": [
        {
          "output_type": "stream",
          "name": "stdout",
          "text": [
            "0\n",
            "morphs:\n",
            "surface: 人工, base: 人工, pos: 名詞, pos1: 一般\n",
            "surface: 知能, base: 知能, pos: 名詞, pos1: 一般\n",
            "dst:  -1\n",
            "srcs:  [0]\n",
            "-----\n",
            "0\n",
            "morphs:\n",
            "surface: 人工, base: 人工, pos: 名詞, pos1: 一般\n",
            "surface: 知能, base: 知能, pos: 名詞, pos1: 一般\n",
            "dst:  17\n",
            "srcs:  []\n",
            "-----\n",
            "1\n",
            "morphs:\n",
            "surface: （, base: （, pos: 記号, pos1: 括弧開\n",
            "surface: じん, base: じん, pos: 名詞, pos1: 一般\n",
            "surface: こうち, base: こうち, pos: 名詞, pos1: 一般\n",
            "surface: のう, base: のう, pos: 助詞, pos1: 終助詞\n",
            "surface: 、, base: 、, pos: 記号, pos1: 読点\n",
            "surface: 、, base: 、, pos: 記号, pos1: 読点\n",
            "dst:  17\n",
            "srcs:  []\n",
            "-----\n",
            "2\n",
            "morphs:\n",
            "surface: AI, base: *, pos: 名詞, pos1: 一般\n",
            "dst:  3\n",
            "srcs:  []\n",
            "-----\n",
            "3\n",
            "morphs:\n",
            "surface: 〈, base: 〈, pos: 記号, pos1: 括弧開\n",
            "surface: エーアイ, base: *, pos: 名詞, pos1: 固有名詞\n",
            "surface: 〉, base: 〉, pos: 記号, pos1: 括弧閉\n",
            "surface: ）, base: ）, pos: 記号, pos1: 括弧閉\n",
            "surface: と, base: と, pos: 助詞, pos1: 格助詞\n",
            "surface: は, base: は, pos: 助詞, pos1: 係助詞\n",
            "surface: 、, base: 、, pos: 記号, pos1: 読点\n",
            "dst:  17\n",
            "srcs:  [2]\n",
            "-----\n",
            "4\n",
            "morphs:\n",
            "surface: 「, base: 「, pos: 記号, pos1: 括弧開\n",
            "surface: 『, base: 『, pos: 記号, pos1: 括弧開\n",
            "surface: 計算, base: 計算, pos: 名詞, pos1: サ変接続\n",
            "dst:  5\n",
            "srcs:  []\n",
            "-----\n",
            "5\n",
            "morphs:\n",
            "surface: （, base: （, pos: 記号, pos1: 括弧開\n",
            "surface: ）, base: ）, pos: 記号, pos1: 括弧閉\n",
            "surface: 』, base: 』, pos: 記号, pos1: 括弧閉\n",
            "surface: という, base: という, pos: 助詞, pos1: 格助詞\n",
            "dst:  9\n",
            "srcs:  [4]\n",
            "-----\n",
            "6\n",
            "morphs:\n",
            "surface: 概念, base: 概念, pos: 名詞, pos1: 一般\n",
            "surface: と, base: と, pos: 助詞, pos1: 並立助詞\n",
            "dst:  9\n",
            "srcs:  []\n",
            "-----\n",
            "7\n",
            "morphs:\n",
            "surface: 『, base: 『, pos: 記号, pos1: 括弧開\n",
            "surface: コンピュータ, base: コンピュータ, pos: 名詞, pos1: 一般\n",
            "dst:  8\n",
            "srcs:  []\n",
            "-----\n",
            "8\n",
            "morphs:\n",
            "surface: （, base: （, pos: 記号, pos1: 括弧開\n",
            "surface: ）, base: ）, pos: 記号, pos1: 括弧閉\n",
            "surface: 』, base: 』, pos: 記号, pos1: 括弧閉\n",
            "surface: という, base: という, pos: 助詞, pos1: 格助詞\n",
            "dst:  9\n",
            "srcs:  [7]\n",
            "-----\n",
            "9\n",
            "morphs:\n",
            "surface: 道具, base: 道具, pos: 名詞, pos1: 一般\n",
            "surface: を, base: を, pos: 助詞, pos1: 格助詞\n",
            "dst:  10\n",
            "srcs:  [5, 6, 8]\n",
            "-----\n",
            "10\n",
            "morphs:\n",
            "surface: 用い, base: 用いる, pos: 動詞, pos1: 自立\n",
            "surface: て, base: て, pos: 助詞, pos1: 接続助詞\n",
            "dst:  12\n",
            "srcs:  [9]\n",
            "-----\n",
            "11\n",
            "morphs:\n",
            "surface: 『, base: 『, pos: 記号, pos1: 括弧開\n",
            "surface: 知能, base: 知能, pos: 名詞, pos1: 一般\n",
            "surface: 』, base: 』, pos: 記号, pos1: 括弧閉\n",
            "surface: を, base: を, pos: 助詞, pos1: 格助詞\n",
            "dst:  12\n",
            "srcs:  []\n",
            "-----\n",
            "12\n",
            "morphs:\n",
            "surface: 研究, base: 研究, pos: 名詞, pos1: サ変接続\n",
            "surface: する, base: する, pos: 動詞, pos1: 自立\n",
            "dst:  13\n",
            "srcs:  [10, 11]\n",
            "-----\n",
            "13\n",
            "morphs:\n",
            "surface: 計算, base: 計算, pos: 名詞, pos1: サ変接続\n",
            "surface: 機, base: 機, pos: 名詞, pos1: 接尾\n",
            "surface: 科学, base: 科学, pos: 名詞, pos1: 一般\n",
            "dst:  14\n",
            "srcs:  [12]\n",
            "-----\n",
            "14\n",
            "morphs:\n",
            "surface: （, base: （, pos: 記号, pos1: 括弧開\n",
            "surface: ）, base: ）, pos: 記号, pos1: 括弧閉\n",
            "surface: の, base: の, pos: 助詞, pos1: 連体化\n",
            "dst:  15\n",
            "srcs:  [13]\n",
            "-----\n",
            "15\n",
            "morphs:\n",
            "surface: 一, base: 一, pos: 名詞, pos1: 数\n",
            "surface: 分野, base: 分野, pos: 名詞, pos1: 一般\n",
            "surface: 」, base: 」, pos: 記号, pos1: 括弧閉\n",
            "surface: を, base: を, pos: 助詞, pos1: 格助詞\n",
            "dst:  16\n",
            "srcs:  [14]\n",
            "-----\n",
            "16\n",
            "morphs:\n",
            "surface: 指す, base: 指す, pos: 動詞, pos1: 自立\n",
            "dst:  17\n",
            "srcs:  [15]\n",
            "-----\n",
            "17\n",
            "morphs:\n",
            "surface: 語, base: 語, pos: 名詞, pos1: 一般\n",
            "surface: 。, base: 。, pos: 記号, pos1: 句点\n",
            "dst:  34\n",
            "srcs:  [0, 1, 3, 16]\n",
            "-----\n",
            "18\n",
            "morphs:\n",
            "surface: 「, base: 「, pos: 記号, pos1: 括弧開\n",
            "surface: 言語, base: 言語, pos: 名詞, pos1: 一般\n",
            "surface: の, base: の, pos: 助詞, pos1: 連体化\n",
            "dst:  20\n",
            "srcs:  []\n",
            "-----\n",
            "19\n",
            "morphs:\n",
            "surface: 理解, base: 理解, pos: 名詞, pos1: サ変接続\n",
            "surface: や, base: や, pos: 助詞, pos1: 並立助詞\n",
            "dst:  20\n",
            "srcs:  []\n",
            "-----\n",
            "20\n",
            "morphs:\n",
            "surface: 推論, base: 推論, pos: 名詞, pos1: サ変接続\n",
            "surface: 、, base: 、, pos: 記号, pos1: 読点\n",
            "dst:  21\n",
            "srcs:  [18, 19]\n",
            "-----\n",
            "21\n",
            "morphs:\n",
            "surface: 問題, base: 問題, pos: 名詞, pos1: ナイ形容詞語幹\n",
            "surface: 解決, base: 解決, pos: 名詞, pos1: サ変接続\n",
            "surface: など, base: など, pos: 助詞, pos1: 副助詞\n",
            "surface: の, base: の, pos: 助詞, pos1: 連体化\n",
            "dst:  22\n",
            "srcs:  [20]\n",
            "-----\n",
            "22\n",
            "morphs:\n",
            "surface: 知的, base: 知的, pos: 名詞, pos1: 一般\n",
            "surface: 行動, base: 行動, pos: 名詞, pos1: サ変接続\n",
            "surface: を, base: を, pos: 助詞, pos1: 格助詞\n",
            "dst:  24\n",
            "srcs:  [21]\n",
            "-----\n",
            "23\n",
            "morphs:\n",
            "surface: 人間, base: 人間, pos: 名詞, pos1: 一般\n",
            "surface: に, base: に, pos: 助詞, pos1: 格助詞\n",
            "dst:  24\n",
            "srcs:  []\n",
            "-----\n",
            "24\n",
            "morphs:\n",
            "surface: 代わっ, base: 代わる, pos: 動詞, pos1: 自立\n",
            "surface: て, base: て, pos: 助詞, pos1: 接続助詞\n",
            "dst:  26\n",
            "srcs:  [22, 23]\n",
            "-----\n",
            "25\n",
            "morphs:\n",
            "surface: コンピューター, base: コンピューター, pos: 名詞, pos1: 一般\n",
            "surface: に, base: に, pos: 助詞, pos1: 格助詞\n",
            "dst:  26\n",
            "srcs:  []\n",
            "-----\n",
            "26\n",
            "morphs:\n",
            "surface: 行わ, base: 行う, pos: 動詞, pos1: 自立\n",
            "surface: せる, base: せる, pos: 動詞, pos1: 接尾\n",
            "dst:  27\n",
            "srcs:  [24, 25]\n",
            "-----\n",
            "27\n",
            "morphs:\n",
            "surface: 技術, base: 技術, pos: 名詞, pos1: 一般\n",
            "surface: 」, base: 」, pos: 記号, pos1: 括弧閉\n",
            "surface: 、, base: 、, pos: 記号, pos1: 読点\n",
            "surface: または, base: または, pos: 接続詞, pos1: *\n",
            "surface: 、, base: 、, pos: 記号, pos1: 読点\n",
            "dst:  34\n",
            "srcs:  [26]\n",
            "-----\n",
            "28\n",
            "morphs:\n",
            "surface: 「, base: 「, pos: 記号, pos1: 括弧開\n",
            "surface: 計算, base: 計算, pos: 名詞, pos1: サ変接続\n",
            "surface: 機, base: 機, pos: 名詞, pos1: 接尾\n",
            "dst:  29\n",
            "srcs:  []\n",
            "-----\n",
            "29\n",
            "morphs:\n",
            "surface: （, base: （, pos: 記号, pos1: 括弧開\n",
            "surface: コンピュータ, base: コンピュータ, pos: 名詞, pos1: 一般\n",
            "surface: ）, base: ）, pos: 記号, pos1: 括弧閉\n",
            "surface: による, base: による, pos: 助詞, pos1: 格助詞\n",
            "dst:  31\n",
            "srcs:  [28]\n",
            "-----\n",
            "30\n",
            "morphs:\n",
            "surface: 知的, base: 知的, pos: 名詞, pos1: 形容動詞語幹\n",
            "surface: な, base: だ, pos: 助動詞, pos1: *\n",
            "dst:  31\n",
            "srcs:  []\n",
            "-----\n",
            "31\n",
            "morphs:\n",
            "surface: 情報処理, base: 情報処理, pos: 名詞, pos1: 一般\n",
            "surface: システム, base: システム, pos: 名詞, pos1: 一般\n",
            "surface: の, base: の, pos: 助詞, pos1: 連体化\n",
            "dst:  33\n",
            "srcs:  [29, 30]\n",
            "-----\n",
            "32\n",
            "morphs:\n",
            "surface: 設計, base: 設計, pos: 名詞, pos1: サ変接続\n",
            "surface: や, base: や, pos: 助詞, pos1: 並立助詞\n",
            "dst:  33\n",
            "srcs:  []\n",
            "-----\n",
            "33\n",
            "morphs:\n",
            "surface: 実現, base: 実現, pos: 名詞, pos1: サ変接続\n",
            "surface: に関する, base: に関する, pos: 助詞, pos1: 格助詞\n",
            "dst:  34\n",
            "srcs:  [31, 32]\n",
            "-----\n",
            "34\n",
            "morphs:\n",
            "surface: 研究, base: 研究, pos: 名詞, pos1: サ変接続\n",
            "surface: 分野, base: 分野, pos: 名詞, pos1: 一般\n",
            "surface: 」, base: 」, pos: 記号, pos1: 括弧閉\n",
            "surface: と, base: と, pos: 助詞, pos1: 格助詞\n",
            "surface: も, base: も, pos: 助詞, pos1: 係助詞\n",
            "dst:  35\n",
            "srcs:  [17, 27, 33]\n",
            "-----\n",
            "35\n",
            "morphs:\n",
            "surface: さ, base: する, pos: 動詞, pos1: 自立\n",
            "surface: れる, base: れる, pos: 動詞, pos1: 接尾\n",
            "surface: 。, base: 。, pos: 記号, pos1: 句点\n",
            "dst:  -1\n",
            "srcs:  [34, 35]\n",
            "-----\n"
          ]
        }
      ]
    },
    {
      "cell_type": "markdown",
      "metadata": {
        "id": "QA2Ap-rX7XVj"
      },
      "source": [
        "## 42. 係り元と係り先の文節の表示\n",
        "係り元の文節と係り先の文節のテキストをタブ区切り形式ですべて抽出せよ．ただし，句読点などの記号は出力しないようにせよ．"
      ]
    },
    {
      "cell_type": "code",
      "source": [
        "for sentence in sentences[:3]:#sentences[:3]　最初の3文まで\n",
        "  for chunk in sentence:\n",
        "    for morph in chunk.morphs:#係り元の文節を表示\n",
        "      if morph.pos!=\"記号\":\n",
        "        print(morph.surface, end='')\n",
        "    print('\\t', end='')\n",
        "    for morph in sentence[chunk.dst].morphs:#係り先の文節を表示\n",
        "      if morph.pos!=\"記号\":\n",
        "        print(morph.surface, end='')\n",
        "    print('')"
      ],
      "metadata": {
        "id": "2BPlvnNGWEif",
        "colab": {
          "base_uri": "https://localhost:8080/"
        },
        "outputId": "269910b2-5588-4ba4-dd9a-3cc5593d2b5c"
      },
      "execution_count": 15,
      "outputs": [
        {
          "output_type": "stream",
          "name": "stdout",
          "text": [
            "人工知能\t人工知能\n",
            "人工知能\t語\n",
            "じんこうちのう\t語\n",
            "AI\tエーアイとは\n",
            "エーアイとは\t語\n",
            "計算\tという\n",
            "という\t道具を\n",
            "概念と\t道具を\n",
            "コンピュータ\tという\n",
            "という\t道具を\n",
            "道具を\t用いて\n",
            "用いて\t研究する\n",
            "知能を\t研究する\n",
            "研究する\t計算機科学\n",
            "計算機科学\tの\n",
            "の\t一分野を\n",
            "一分野を\t指す\n",
            "指す\t語\n",
            "語\t研究分野とも\n",
            "言語の\t推論\n",
            "理解や\t推論\n",
            "推論\t問題解決などの\n",
            "問題解決などの\t知的行動を\n",
            "知的行動を\t代わって\n",
            "人間に\t代わって\n",
            "代わって\t行わせる\n",
            "コンピューターに\t行わせる\n",
            "行わせる\t技術または\n",
            "技術または\t研究分野とも\n",
            "計算機\tコンピュータによる\n",
            "コンピュータによる\t情報処理システムの\n",
            "知的な\t情報処理システムの\n",
            "情報処理システムの\t実現に関する\n",
            "設計や\t実現に関する\n",
            "実現に関する\t研究分野とも\n",
            "研究分野とも\tされる\n",
            "される\tされる\n"
          ]
        }
      ]
    },
    {
      "cell_type": "markdown",
      "metadata": {
        "id": "g7Z5tLG4bMxY"
      },
      "source": [
        "## 43. 名詞を含む文節が動詞を含む文節に係るものを抽出\n",
        "名詞を含む文節が，動詞を含む文節に係るとき，これらをタブ区切り形式で抽出せよ．ただし，句読点などの記号は出力しないようにせよ．"
      ]
    },
    {
      "cell_type": "code",
      "source": [
        "tmp_pair = str()\n",
        "for sentence in sentences[:3]:\n",
        "  for chunk in sentence:\n",
        "    pos_src = list()#係り元の品詞を格納\n",
        "    sur_src = list()#      の表層系\n",
        "    pos_dst = list()#係り先の品詞\n",
        "    sur_dst = list()#      の表層系\n",
        "      \n",
        "    for morph in chunk.morphs:#係り元の文節を表示\n",
        "      if morph.pos!=\"記号\":\n",
        "        pos_src.append(morph.pos)\n",
        "        sur_src.append(morph.surface)\n",
        "    for morph in sentence[chunk.dst].morphs:#係り先の文節を表示\n",
        "      if morph.pos!=\"記号\":\n",
        "        pos_dst.append(morph.pos)\n",
        "        sur_dst.append(morph.surface)\n",
        "    if '名詞' in pos_src and '動詞' in pos_dst:\n",
        "      print(''.join(sur_src), '\\t', end='')\n",
        "      print(''.join(sur_dst))\n"
      ],
      "metadata": {
        "colab": {
          "base_uri": "https://localhost:8080/"
        },
        "id": "x1D_Q5tFqK_Q",
        "outputId": "6c025393-6c61-467d-b71d-3785da622148"
      },
      "execution_count": 16,
      "outputs": [
        {
          "output_type": "stream",
          "name": "stdout",
          "text": [
            "道具を \t用いて\n",
            "知能を \t研究する\n",
            "一分野を \t指す\n",
            "知的行動を \t代わって\n",
            "人間に \t代わって\n",
            "コンピューターに \t行わせる\n",
            "研究分野とも \tされる\n"
          ]
        }
      ]
    },
    {
      "cell_type": "markdown",
      "metadata": {
        "id": "sxhT8tinFaD-"
      },
      "source": [
        "## 44. 係り受け木の可視化\n",
        "与えられた文の係り受け木を有向グラフとして可視化せよ．可視化には，Graphviz等を用いるとよい．"
      ]
    },
    {
      "cell_type": "code",
      "source": [
        "!pip install graphviz"
      ],
      "metadata": {
        "colab": {
          "base_uri": "https://localhost:8080/"
        },
        "id": "kIsDgBQYv7X_",
        "outputId": "0cd0fa6b-cace-40ce-bcc5-1994558c77ff"
      },
      "execution_count": 17,
      "outputs": [
        {
          "output_type": "stream",
          "name": "stdout",
          "text": [
            "Requirement already satisfied: graphviz in /usr/local/lib/python3.7/dist-packages (0.10.1)\n"
          ]
        }
      ]
    },
    {
      "cell_type": "code",
      "source": [
        "from graphviz import Digraph #有向グラフ\n",
        "\n",
        "dot = Digraph(format='png')\n",
        "\n",
        "sentence = sentences[2]\n",
        "for i, chunk in enumerate(sentence):\n",
        "  dot.node(str(i))\n",
        "  if chunk.dst != -1:\n",
        "    dot.edge(str(i), str(chunk.dst))\n",
        "\n",
        "dot"
      ],
      "metadata": {
        "id": "gOH6Gmfdv-Jj"
      },
      "execution_count": null,
      "outputs": []
    },
    {
      "cell_type": "markdown",
      "metadata": {
        "id": "Am6zVeEGPG5_"
      },
      "source": [
        "## 45. 動詞の格パターンの抽出\n",
        "今回用いている文章をコーパスと見なし，日本語の述語が取りうる格を調査したい． 動詞を述語，動詞に係っている文節の助詞を格と考え，述語と格をタブ区切り形式で出力せよ． ただし，出力は以下の仕様を満たすようにせよ．\n",
        "\n",
        "- 動詞を含む文節において，最左の動詞の基本形を述語とする\n",
        "- 述語に係る助詞を格とする\n",
        "- 述語に係る助詞（文節）が複数あるときは，すべての助詞をスペース区切りで辞書順に並べる\n",
        "\n",
        "「ジョン・マッカーシーはAIに関する最初の会議で人工知能という用語を作り出した。」という例文を考える． この文は「作り出す」という１つの動詞を含み，「作り出す」に係る文節は「ジョン・マッカーシーは」，「会議で」，「用語を」であると解析された場合は，次のような出力になるはずである．\n",
        "\n",
        "\n",
        "```\n",
        "作り出す    で は を\n",
        "```\n",
        "\n",
        "このプログラムの出力をファイルに保存し，以下の事項をUNIXコマンドを用いて確認せよ．  \n",
        "\n",
        "- コーパス中で頻出する述語と格パターンの組み合わせ\n",
        "- 「行う」「なる」「与える」という動詞の格パターン（コーパス中で出現頻度の高い順に並べよ）\n"
      ]
    },
    {
      "cell_type": "code",
      "source": [
        "pat = list()\n",
        "\n",
        "for sentence in sentences:\n",
        "  for chunk in sentence:\n",
        "    for n in chunk.morphs:\n",
        "      if n.pos==\"動詞\":\n",
        "        jyosi=list()\n",
        "        for chunknum in chunk.srcs:\n",
        "          for m in sentence[chunknum].morphs:\n",
        "            if m.pos==\"助詞\":\n",
        "              jyosi.append(m.base)\n",
        "        if jyosi:#係り元に助詞がある場合\n",
        "          pat.append([n.base, ' '.join(jyosi)])#動詞、助詞ペアをpatにappend\n",
        "\n",
        "filename = 'kakupattern.txt'\n",
        "with open(filename,'w') as f:\n",
        "  for p in pat:\n",
        "    f.write('{}\\t{}\\n'.format(p[0], p[1]))"
      ],
      "metadata": {
        "id": "pepg8omzhsId"
      },
      "execution_count": 19,
      "outputs": []
    },
    {
      "cell_type": "code",
      "source": [
        "# UNIXコマンドの検索＆説明　https://www.tutorialspoint.com/unix_commands/\n",
        "!cat ./kakupattern.txt | sort | uniq -c | sort -nr | head -n 10"
      ],
      "metadata": {
        "colab": {
          "base_uri": "https://localhost:8080/"
        },
        "id": "gXwCSxJX8Pn5",
        "outputId": "10b552f7-6aff-4dd3-e32f-866e3b09e6a6"
      },
      "execution_count": 20,
      "outputs": [
        {
          "output_type": "stream",
          "name": "stdout",
          "text": [
            "    184 する\tを\n",
            "    137 する\tて を\n",
            "     81 する\tが は が\n",
            "     57 ある\tは て は が\n",
            "     24 いる\tで は の に て\n",
            "     13 れる\tとして は も\n",
            "      9 行う\tを\n",
            "      9 なる\tから で と\n",
            "      9 られる\tが\n",
            "      8 する\tと まで と\n"
          ]
        }
      ]
    },
    {
      "cell_type": "code",
      "source": [
        "!cat ./kakupattern.txt | grep '行う' | sort | uniq -c | sort -nr | head -n 5"
      ],
      "metadata": {
        "colab": {
          "base_uri": "https://localhost:8080/"
        },
        "id": "hPKECNtYBfSd",
        "outputId": "ef502a23-9733-440e-aba3-cc1be0e1a952"
      },
      "execution_count": 21,
      "outputs": [
        {
          "output_type": "stream",
          "name": "stdout",
          "text": [
            "      9 行う\tを\n",
            "      5 行う\tを に を\n",
            "      3 行う\tて に\n",
            "      2 行う\tで は て が に\n",
            "      1 行う\tまで を に\n"
          ]
        }
      ]
    },
    {
      "cell_type": "markdown",
      "metadata": {
        "id": "8Ox_UrffwXXe"
      },
      "source": [
        "## 46. 動詞の格フレーム情報の抽出\n",
        "45のプログラムを改変し，述語と格パターンに続けて項（述語に係っている文節そのもの）をタブ区切り形式で出力せよ．45の仕様に加えて，以下の仕様を満たすようにせよ．\n",
        "\n",
        "- 項は述語に係っている文節の単語列とする（末尾の助詞を取り除く必要はない）\n",
        "- 述語に係る文節が複数あるときは，助詞と同一の基準・順序でスペース区切りで並べる\n",
        "\n",
        "「ジョン・マッカーシーはAIに関する最初の会議で人工知能という用語を作り出した。」という例文を考える． この文は「作り出す」という１つの動詞を含み，「作り出す」に係る文節は「ジョン・マッカーシーは」，「会議で」，「用語を」であると解析された場合は，次のような出力になるはずである．\n",
        "\n",
        "```\n",
        "作り出す\tで は を\t会議で ジョンマッカーシーは 用語を\n",
        "```"
      ]
    },
    {
      "cell_type": "code",
      "source": [
        "pat = list()\n",
        "\n",
        "for sentence in sentences:\n",
        "  for chunk in sentence:\n",
        "    for n in chunk.morphs:\n",
        "      if n.pos==\"動詞\":\n",
        "        jyosi = list()\n",
        "        kou = list()\n",
        "        for chunknum in chunk.srcs:\n",
        "          for m in sentence[chunknum].morphs:\n",
        "            if m.pos==\"助詞\":\n",
        "              jyosi.append(m.base)\n",
        "              kou.append(''.join([m.surface for m in sentence[chunknum].morphs]))\n",
        "        if jyosi:#係り元に助詞がある場合\n",
        "          pat.append([n.base, ' '.join(jyosi), ' '.join(kou)])#動詞、助詞ペアをpatにappend\n",
        "\n",
        "filename = '46.txt'\n",
        "with open(filename,'w') as f:\n",
        "  for p in pat:\n",
        "    f.write('{}\\t{}\\t{}\\n'.format(p[0], p[1], p[2]))"
      ],
      "metadata": {
        "id": "gQYN3bRqBG6L"
      },
      "execution_count": 24,
      "outputs": []
    },
    {
      "cell_type": "markdown",
      "metadata": {
        "id": "VM9uhNIvRH1d"
      },
      "source": [
        "## 47. 機能動詞構文のマイニング\n",
        "動詞のヲ格にサ変接続名詞が入っている場合のみに着目したい．46のプログラムを以下の仕様を満たすように改変せよ．\n",
        "\n",
        "- 「サ変接続名詞+を（助詞）」で構成される文節が動詞に係る場合のみを対象とする\n",
        "- 述語は「サ変接続名詞+を+動詞の基本形」とし，文節中に複数の動詞があるときは，最左の動詞を用いる\n",
        "- 述語に係る助詞（文節）が複数あるときは，すべての助詞をスペース区切りで辞書順に並べる\n",
        "- 述語に係る文節が複数ある場合は，すべての項をスペース区切りで並べる（助詞の並び順と揃えよ）\n",
        "\n",
        "例えば「また、自らの経験を元に学習を行う強化学習という手法もある。」という文から，以下の出力が得られるはずである．\n",
        "\n",
        "```\n",
        "学習を行う\tに を\t元に 経験を\n",
        "```"
      ]
    },
    {
      "cell_type": "code",
      "source": [
        "\"\"\"\n",
        "サ変名詞（さへんめいし）https://ja.wiktionary.org/wiki/%E3%82%B5%E5%A4%89%E5%90%8D%E8%A9%9E\n",
        "\n",
        "(日本語文法) 動詞「する」に接続してサ行変格活用の動詞となりうる名詞のこと。\n",
        "「該当（する）」、「エンジョイ（する）」など、動作を表わす漢語や名詞化した動詞の外来語などがこれにあたる。\n",
        "\"\"\""
      ],
      "metadata": {
        "id": "QC7iwhBgJsgN"
      },
      "execution_count": null,
      "outputs": []
    },
    {
      "cell_type": "code",
      "source": [
        "pat = list()\n",
        "\n",
        "for sentence in sentences:\n",
        "  for chunk in sentence:#それぞれの文節で\n",
        "    for n in chunk.morphs:#文節の形態素結果をみる\n",
        "      if n.pos==\"動詞\":\n",
        "        jyosi = list()\n",
        "        kou = list()\n",
        "        marumaruwo = str()\n",
        "        for chunknum in chunk.srcs:#この文節に係っている文節\n",
        "          for m in sentence[chunknum].morphs:\n",
        "            if m.pos==\"助詞\":\n",
        "              jyosi.append(m.base)\n",
        "              if m.base==\"を\" and \"サ変接続\" in [l.pos1 for l in sentence[chunknum].morphs]:\n",
        "                  marumaruwo+=(''.join([l.surface for l in sentence[chunknum].morphs]))\n",
        "                  continue\n",
        "              kou.append(''.join([m.base for m in sentence[chunknum].morphs]))\n",
        "        if marumaruwo:#係り元に助詞がある場合\n",
        "          pat.append([marumaruwo+n.base, ' '.join(jyosi), ' '.join(kou)])#動詞、助詞ペアをpatにappend\n",
        "\n",
        "filename = '47.txt'\n",
        "with open(filename,'w') as f:\n",
        "  for p in pat:\n",
        "    f.write('{}\\t{}\\t{}\\n'.format(p[0], p[1], p[2]))"
      ],
      "metadata": {
        "id": "UBx8aRPADO2v"
      },
      "execution_count": 29,
      "outputs": []
    },
    {
      "cell_type": "markdown",
      "metadata": {
        "id": "VPRpfyGrRM-c"
      },
      "source": [
        "## 48. 名詞から根へのパスの抽出\n",
        "文中のすべての名詞を含む文節に対し，その文節から構文木の根に至るパスを抽出せよ． ただし，構文木上のパスは以下の仕様を満たすものとする．\n",
        "\n",
        "- 各文節は（表層形の）形態素列で表現する\n",
        "- パスの開始文節から終了文節に至るまで，各文節の表現を” -> “で連結する\n",
        "\n",
        "「ジョン・マッカーシーはAIに関する最初の会議で人工知能という用語を作り出した。」という例文を考える． CaboChaを係り受け解析に用いた場合，次のような出力が得られると思われる．\n",
        "```\n",
        "ジョンマッカーシーは -> 作り出した\n",
        "AIに関する -> 最初の -> 会議で -> 作り出した\n",
        "最初の -> 会議で -> 作り出した\n",
        "会議で -> 作り出した\n",
        "人工知能という -> 用語を -> 作り出した\n",
        "用語を -> 作り出した\n",
        "```\n",
        "KNPを係り受け解析に用いた場合，次のような出力が得られると思われる．\n",
        "\n",
        "```\n",
        "ジョンマッカーシーは -> 作り出した\n",
        "ＡＩに -> 関する -> 会議で -> 作り出した\n",
        "会議で -> 作り出した\n",
        "人工知能と -> いう -> 用語を -> 作り出した\n",
        "用語を -> 作り出した\n",
        "```"
      ]
    },
    {
      "cell_type": "code",
      "metadata": {
        "id": "47UOOEa6RMqx",
        "colab": {
          "base_uri": "https://localhost:8080/"
        },
        "outputId": "d9598e87-22f4-4771-c594-b1f7ca6172bf"
      },
      "source": [
        "for sentence in sentences[5:6]:\n",
        "  for i, chunk in enumerate(sentence):#それぞれの文節で\n",
        "    if \"名詞\" in [l.pos for l in chunk.morphs]:#\"名詞\"を含む場合\n",
        "      curdst = chunk.dst\n",
        "      curchunk = i\n",
        "      print(''.join([m.surface for m in sentence[curchunk].morphs]), end=' ')\n",
        "      curchunk = sentence[curchunk].dst\n",
        "      while sentence[curchunk].dst>0:\n",
        "        print('->', ''.join([m.surface for m in sentence[curchunk].morphs]), end=' ')\n",
        "        curchunk = sentence[curchunk].dst\n",
        "      print('\\n')"
      ],
      "execution_count": 42,
      "outputs": [
        {
          "output_type": "stream",
          "name": "stdout",
          "text": [
            "人間の -> 知的能力を -> 実現する、 -> 技術・ソフトウェア・コンピュータシステム。 -> ある。 -> 命名された。 -> 使われている。 \n",
            "\n",
            "知的能力を -> 実現する、 -> 技術・ソフトウェア・コンピュータシステム。 -> ある。 -> 命名された。 -> 使われている。 \n",
            "\n",
            "コンピュータ上で -> 実現する、 -> 技術・ソフトウェア・コンピュータシステム。 -> ある。 -> 命名された。 -> 使われている。 \n",
            "\n",
            "実現する、 -> 技術・ソフトウェア・コンピュータシステム。 -> ある。 -> 命名された。 -> 使われている。 \n",
            "\n",
            "様々な -> 技術・ソフトウェア・コンピュータシステム。 -> ある。 -> 命名された。 -> 使われている。 \n",
            "\n",
            "技術・ソフトウェア・コンピュータシステム。 -> ある。 -> 命名された。 -> 使われている。 \n",
            "\n",
            "応用例は -> ある。 -> 命名された。 -> 使われている。 \n",
            "\n",
            "自然言語処理 -> （機械翻訳・かな漢字変換・構文解析等）、 -> 専門家の -> 推論・判断を -> 模倣する -> エキスパートシステム、 -> 画像認識等が -> ある。 -> 命名された。 -> 使われている。 \n",
            "\n",
            "（機械翻訳・かな漢字変換・構文解析等）、 -> 専門家の -> 推論・判断を -> 模倣する -> エキスパートシステム、 -> 画像認識等が -> ある。 -> 命名された。 -> 使われている。 \n",
            "\n",
            "専門家の -> 推論・判断を -> 模倣する -> エキスパートシステム、 -> 画像認識等が -> ある。 -> 命名された。 -> 使われている。 \n",
            "\n",
            "推論・判断を -> 模倣する -> エキスパートシステム、 -> 画像認識等が -> ある。 -> 命名された。 -> 使われている。 \n",
            "\n",
            "模倣する -> エキスパートシステム、 -> 画像認識等が -> ある。 -> 命名された。 -> 使われている。 \n",
            "\n",
            "エキスパートシステム、 -> 画像認識等が -> ある。 -> 命名された。 -> 使われている。 \n",
            "\n",
            "画像データを -> 解析して -> 検出・抽出したりする -> 画像認識等が -> ある。 -> 命名された。 -> 使われている。 \n",
            "\n",
            "解析して -> 検出・抽出したりする -> 画像認識等が -> ある。 -> 命名された。 -> 使われている。 \n",
            "\n",
            "特定の -> パターンを -> 検出・抽出したりする -> 画像認識等が -> ある。 -> 命名された。 -> 使われている。 \n",
            "\n",
            "パターンを -> 検出・抽出したりする -> 画像認識等が -> ある。 -> 命名された。 -> 使われている。 \n",
            "\n",
            "検出・抽出したりする -> 画像認識等が -> ある。 -> 命名された。 -> 使われている。 \n",
            "\n",
            "画像認識等が -> ある。 -> 命名された。 -> 使われている。 \n",
            "\n",
            "1956年に -> 命名された。 -> 使われている。 \n",
            "\n",
            "ダートマス会議で -> 命名された。 -> 使われている。 \n",
            "\n",
            "ジョン・マッカーシーにより -> 命名された。 -> 使われている。 \n",
            "\n",
            "命名された。 -> 使われている。 \n",
            "\n",
            "現在では、 -> 使われている。 \n",
            "\n",
            "記号処理を -> 用いた -> 知能の -> 記述を -> する -> 研究での -> アプローチという -> 意味あいでも -> 使われている。 \n",
            "\n",
            "知能の -> 記述を -> する -> 研究での -> アプローチという -> 意味あいでも -> 使われている。 \n",
            "\n",
            "記述を -> する -> 研究での -> アプローチという -> 意味あいでも -> 使われている。 \n",
            "\n",
            "主体と -> する -> 研究での -> アプローチという -> 意味あいでも -> 使われている。 \n",
            "\n",
            "情報処理や -> 研究での -> アプローチという -> 意味あいでも -> 使われている。 \n",
            "\n",
            "研究での -> アプローチという -> 意味あいでも -> 使われている。 \n",
            "\n",
            "アプローチという -> 意味あいでも -> 使われている。 \n",
            "\n",
            "意味あいでも -> 使われている。 \n",
            "\n",
            "家庭用電気機械器具の -> 制御システムや -> 思考ルーチンも -> 呼ばれる -> ことも \n",
            "\n",
            "制御システムや -> 思考ルーチンも -> 呼ばれる -> ことも \n",
            "\n",
            "ゲームソフトの -> 思考ルーチンも -> 呼ばれる -> ことも \n",
            "\n",
            "思考ルーチンも -> 呼ばれる -> ことも \n",
            "\n",
            "ことも \n",
            "\n"
          ]
        }
      ]
    },
    {
      "cell_type": "markdown",
      "metadata": {
        "id": "rwN4f-VORXSm"
      },
      "source": [
        "## 49. 名詞間の係り受けパスの抽出\n",
        "文中のすべての名詞句のペアを結ぶ最短係り受けパスを抽出せよ．ただし，名詞句ペアの文節番号が$i$と$j$（$i$<$j$）のとき，係り受けパスは以下の仕様を満たすものとする．\n",
        "\n",
        "\n",
        "- 問題48と同様に，パスは開始文節から終了文節に至るまでの各文節の表現（表層形の形態素列）を” -> “で連結して表現する\n",
        "- 文節$i$と$j$に含まれる名詞句はそれぞれ，XとYに置換する\n",
        "\n",
        "また，係り受けパスの形状は，以下の2通りが考えられる．\n",
        "\n",
        "- 文節$i$から構文木の根に至る経路上に文節$j$が存在する場合: 文節$i$から文節$j$のパスを表示\n",
        "- 上記以外で，文節$i$と文節$j$から構文木の根に至る経路上で共通の文節$k$で交わる場合: 文節$i$から文節$k$に至る直前のパスと文節$j$から文節$k$に至る直前までのパス，文節$k$の内容を” | “で連結して表示"
      ]
    },
    {
      "cell_type": "markdown",
      "metadata": {
        "id": "LOkFiNQNR1HH"
      },
      "source": [
        "「ジョン・マッカーシーはAIに関する最初の会議で人工知能という用語を作り出した。」という例文を考える． CaboChaを係り受け解析に用いた場合，次のような出力が得られると思われる．\n",
        "```\n",
        "Xは | Yに関する -> 最初の -> 会議で | 作り出した\n",
        "Xは | Yの -> 会議で | 作り出した\n",
        "Xは | Yで | 作り出した\n",
        "Xは | Yという -> 用語を | 作り出した\n",
        "Xは | Yを | 作り出した\n",
        "Xに関する -> Yの\n",
        "Xに関する -> 最初の -> Yで\n",
        "Xに関する -> 最初の -> 会議で | Yという -> 用語を | 作り出した\n",
        "Xに関する -> 最初の -> 会議で | Yを | 作り出した\n",
        "Xの -> Yで\n",
        "Xの -> 会議で | Yという -> 用語を | 作り出した\n",
        "Xの -> 会議で | Yを | 作り出した\n",
        "Xで | Yという -> 用語を | 作り出した\n",
        "Xで | Yを | 作り出した\n",
        "Xという -> Yを\n",
        "```\n",
        "\n",
        "KNPを係り受け解析に用いた場合，次のような出力が得られると思われる．\n",
        "\n",
        "```\n",
        "Xは | Yに -> 関する -> 会議で | 作り出した。\n",
        "Xは | Yで | 作り出した。\n",
        "Xは | Yと -> いう -> 用語を | 作り出した。\n",
        "Xは | Yを | 作り出した。\n",
        "Xに -> 関する -> Yで\n",
        "Xに -> 関する -> 会議で | Yと -> いう -> 用語を | 作り出した。\n",
        "Xに -> 関する -> 会議で | Yを | 作り出した。\n",
        "Xで | Yと -> いう -> 用語を | 作り出した。\n",
        "Xで | Yを | 作り出した。\n",
        "Xと -> いう -> Yを\n",
        "```"
      ]
    },
    {
      "cell_type": "code",
      "metadata": {
        "id": "bnUdTrVAR72F",
        "colab": {
          "base_uri": "https://localhost:8080/"
        },
        "outputId": "50b6e2f3-d42c-4091-eae3-d0d05bb48983"
      },
      "source": [
        "\"\"\"pattern 1 done. pattern 2, i dunno how to do it...\"\"\"\n",
        "for sentence in sentences[5:6]:\n",
        "  for i, chunk in enumerate(sentence):#それぞれの文節で\n",
        "    if \"名詞\" in [l.pos for l in chunk.morphs]:#\"名詞\"を含む場合\n",
        "      curdst = chunk.dst\n",
        "      curchunk = i\n",
        "      prevchunk = int()\n",
        "      ku=str()\n",
        "      for m in sentence[curchunk].morphs:\n",
        "        if m.pos==\"名詞\":\n",
        "          ku+='X'\n",
        "        else:\n",
        "          ku+=m.surface\n",
        "      print(ku, end=' ')\n",
        "      prevchunk = curchunk\n",
        "      curchunk = sentence[curchunk].dst\n",
        "      flag=0\n",
        "      while sentence[curchunk].dst>0:\n",
        "        ku =str()\n",
        "        for m in sentence[curchunk].morphs:\n",
        "          if m.pos==\"名詞\":\n",
        "            ku+=\"Y\"\n",
        "            flag=1\n",
        "          else:\n",
        "            ku+=m.surface\n",
        "        if flag==1:\n",
        "          print('->', ku, end=' ')\n",
        "          break\n",
        "        else:\n",
        "          print('->', ku , end=' ')\n",
        "        prevchunk = curchunk\n",
        "        curchunk = sentence[curchunk].dst\n",
        "      print('\\n')"
      ],
      "execution_count": 45,
      "outputs": [
        {
          "output_type": "stream",
          "name": "stdout",
          "text": [
            "Xの -> YYを \n",
            "\n",
            "XXを -> Yする、 \n",
            "\n",
            "XXで -> Yする、 \n",
            "\n",
            "Xする、 -> Y・Y・YY。 \n",
            "\n",
            "Xな -> Y・Y・YY。 \n",
            "\n",
            "X・X・XX。 -> ある。 -> Yされた。 \n",
            "\n",
            "XXは -> ある。 -> Yされた。 \n",
            "\n",
            "XXX -> （YY・YY・YYY）、 \n",
            "\n",
            "（XX・XX・XXX）、 -> YYの \n",
            "\n",
            "XXの -> Y・Yを \n",
            "\n",
            "X・Xを -> Yする \n",
            "\n",
            "Xする -> YY、 \n",
            "\n",
            "XX、 -> YYYが \n",
            "\n",
            "XXを -> Yして \n",
            "\n",
            "Xして -> Y・Yしたりする \n",
            "\n",
            "Xの -> Yを \n",
            "\n",
            "Xを -> Y・Yしたりする \n",
            "\n",
            "X・Xしたりする -> YYYが \n",
            "\n",
            "XXXが -> ある。 -> Yされた。 \n",
            "\n",
            "XXに -> Yされた。 \n",
            "\n",
            "XXXで -> Yされた。 \n",
            "\n",
            "X・Xにより -> Yされた。 \n",
            "\n",
            "Xされた。 -> 使われている。 \n",
            "\n",
            "Xでは、 -> 使われている。 \n",
            "\n",
            "XXを -> 用いた -> Yの \n",
            "\n",
            "Xの -> Yを \n",
            "\n",
            "Xを -> する -> Yでの \n",
            "\n",
            "Xと -> する -> Yでの \n",
            "\n",
            "Xや -> Yでの \n",
            "\n",
            "Xでの -> Yという \n",
            "\n",
            "Xという -> Yでも \n",
            "\n",
            "Xでも -> 使われている。 \n",
            "\n",
            "XXXXXの -> YYや \n",
            "\n",
            "XXや -> YYも \n",
            "\n",
            "XXの -> YYも \n",
            "\n",
            "XXも -> 呼ばれる -> Yも \n",
            "\n",
            "Xも \n",
            "\n"
          ]
        }
      ]
    }
  ]
}