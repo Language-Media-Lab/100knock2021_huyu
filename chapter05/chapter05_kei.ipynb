{
  "nbformat": 4,
  "nbformat_minor": 0,
  "metadata": {
    "colab": {
      "name": "chapter05_kei.ipynb",
      "provenance": [],
      "collapsed_sections": []
    },
    "kernelspec": {
      "name": "python3",
      "display_name": "Python 3"
    }
  },
  "cells": [
    {
      "cell_type": "markdown",
      "metadata": {
        "id": "Fp0N2LP4fuTR"
      },
      "source": [
        "# 言語処理100本ノック　第5章 係り受け解析"
      ]
    },
    {
      "cell_type": "markdown",
      "source": [
        "##40の準備"
      ],
      "metadata": {
        "id": "Q4Dy6PcftR8F"
      }
    },
    {
      "cell_type": "code",
      "source": [
        "\"\"\"ここを参考に準備：https://qiita.com/yamaru/items/48dcc527f433c22e0af9\"\"\""
      ],
      "metadata": {
        "colab": {
          "base_uri": "https://localhost:8080/",
          "height": 35
        },
        "id": "Rp5zzGnmsCFs",
        "outputId": "6086c54a-194d-4d07-af1d-2719437ed2f3"
      },
      "execution_count": 1,
      "outputs": [
        {
          "output_type": "execute_result",
          "data": {
            "application/vnd.google.colaboratory.intrinsic+json": {
              "type": "string"
            },
            "text/plain": [
              "'ここを参考に準備：https://qiita.com/yamaru/items/48dcc527f433c22e0af9'"
            ]
          },
          "metadata": {},
          "execution_count": 1
        }
      ]
    },
    {
      "cell_type": "code",
      "source": [
        "!wget https://nlp100.github.io/data/ai.ja.zip"
      ],
      "metadata": {
        "id": "fdi8sZ1mjTVa"
      },
      "execution_count": null,
      "outputs": []
    },
    {
      "cell_type": "code",
      "source": [
        "!unzip ai.ja.zip\n",
        "#will use ai.ja.txt"
      ],
      "metadata": {
        "id": "r-tDrT9PkD7H",
        "colab": {
          "base_uri": "https://localhost:8080/"
        },
        "outputId": "608ac2bf-784a-4eb0-d336-57623e61a4dd"
      },
      "execution_count": 3,
      "outputs": [
        {
          "output_type": "stream",
          "name": "stdout",
          "text": [
            "Archive:  ai.ja.zip\n",
            "  inflating: ai.ja.txt               \n",
            "  inflating: readme.ai.ja.md         \n"
          ]
        }
      ]
    },
    {
      "cell_type": "code",
      "source": [
        "# MeCabのインストール\n",
        "!apt install mecab libmecab-dev mecab-ipadic-utf8"
      ],
      "metadata": {
        "id": "Uclu_uLwkSXE"
      },
      "execution_count": null,
      "outputs": []
    },
    {
      "cell_type": "code",
      "source": [
        "# CRF++のソースファイルのダウンロード・解凍・インストール\n",
        "FILE_ID = \"0B4y35FiV1wh7QVR6VXJ5dWExSTQ\"\n",
        "FILE_NAME = \"crfpp.tar.gz\"\n",
        "!wget 'https://docs.google.com/uc?export=download&id=$FILE_ID' -O $FILE_NAME\n",
        "!tar xvf crfpp.tar.gz\n",
        "%cd CRF++-0.58\n",
        "!./configure && make && make install && ldconfig\n",
        "%cd .."
      ],
      "metadata": {
        "id": "9balEp1hru2j"
      },
      "execution_count": null,
      "outputs": []
    },
    {
      "cell_type": "code",
      "source": [
        "# CaboChaのソースファイルのダウンロード・解凍・インストール\n",
        "FILE_ID = \"0B4y35FiV1wh7SDd1Q1dUQkZQaUU\"\n",
        "FILE_NAME = \"cabocha-0.69.tar.bz2\"\n",
        "!wget --load-cookies /tmp/cookies.txt \"https://docs.google.com/uc?export=download&confirm=$(wget --quiet --save-cookies /tmp/cookies.txt --keep-session-cookies --no-check-certificate 'https://docs.google.com/uc?export=download&id=$FILE_ID' -O- | sed -rn 's/.*confirm=([0-9A-Za-z_]+).*/\\1\\n/p')&id=$FILE_ID\" -O $FILE_NAME && rm -rf /tmp/cookies.txt\n",
        "!tar -xvf cabocha-0.69.tar.bz2\n",
        "%cd cabocha-0.69\n",
        "!./configure -with-charset=utf-8 && make && make check && make install && ldconfig\n",
        "%cd .."
      ],
      "metadata": {
        "id": "hoHniSbhr8CN"
      },
      "execution_count": null,
      "outputs": []
    },
    {
      "cell_type": "code",
      "source": [
        "#cabochaでai.ja.txtを係り受け解析した結果をai.ja.parsedに書き込み\n",
        "!cabocha -f1 -o ai.ja.txt.parsed ai.ja.txt "
      ],
      "metadata": {
        "id": "ZDSx8K7EskLO"
      },
      "execution_count": 7,
      "outputs": []
    },
    {
      "cell_type": "markdown",
      "metadata": {
        "id": "ylMr-x-TfxdN"
      },
      "source": [
        "## 40. 係り受け解析結果の読み込み（形態素）\n",
        "形態素を表すクラスMorphを実装せよ．このクラスは表層形（surface），基本形（base），品詞（pos），品詞細分類1（pos1）をメンバ変数に持つこととする．さらに，係り受け解析の結果（ai.ja.txt.parsed）を読み込み，各文をMorphオブジェクトのリストとして表現し，冒頭の説明文の形態素列を表示せよ．"
      ]
    },
    {
      "cell_type": "markdown",
      "source": [
        "ヒント：https://nlp100.github.io/data/ai.ja.zip からデータをダウンロードする．"
      ],
      "metadata": {
        "id": "0WuI7a9hhtEC"
      }
    },
    {
      "cell_type": "code",
      "source": [
        "\"\"\"\n",
        "係り受けとは：ある単位同士が結びついて1つの意味を成していること。前のことばが後ろに「係っている」。後のことばが前のことばから「受けている」。\n",
        "ざっくりとした説明：  http://国語文法.com/%E3%80%8C%E4%BF%82%E3%82%8A%E5%8F%97%E3%81%91%E3%80%8D%E3%81%A8%E3%81%AF.html\n",
        "3つの係り受け解析：  http://kanji.zinbun.kyoto-u.ac.jp/~yasuoka/publications/kakariuke.html\n",
        "\"\"\""
      ],
      "metadata": {
        "colab": {
          "base_uri": "https://localhost:8080/",
          "height": 71
        },
        "id": "ithBT3nHmrmX",
        "outputId": "7f76ec0b-1baa-4cc6-aee6-1c98281bac1c"
      },
      "execution_count": 8,
      "outputs": [
        {
          "output_type": "execute_result",
          "data": {
            "application/vnd.google.colaboratory.intrinsic+json": {
              "type": "string"
            },
            "text/plain": [
              "'\\n係り受けとは：ある単位同士が結びついて1つの意味を成していること。前のことばが後ろに「係っている」。後のことばが前のことばから「受けている」。\\nざっくりとした説明：  http://国語文法.com/%E3%80%8C%E4%BF%82%E3%82%8A%E5%8F%97%E3%81%91%E3%80%8D%E3%81%A8%E3%81%AF.html\\n3つの係り受け解析：  http://kanji.zinbun.kyoto-u.ac.jp/~yasuoka/publications/kakariuke.html\\n'"
            ]
          },
          "metadata": {},
          "execution_count": 8
        }
      ]
    },
    {
      "cell_type": "code",
      "source": [
        "\"\"\"defining Morph class\"\"\"\n",
        "class Morph:\n",
        "  def __init__(self, surface, base, pos, pos1):\n",
        "    self.surface = surface\n",
        "    self.base = base\n",
        "    self.pos = pos\n",
        "    self.pos1 = pos1\n",
        "  def show(self):\n",
        "    print(f\"surface: {self.surface}, base: {self.base}, pos: {self.pos}, pos1: {self.pos1}\")"
      ],
      "metadata": {
        "id": "agIm-5sOhtkY"
      },
      "execution_count": 119,
      "outputs": []
    },
    {
      "cell_type": "code",
      "source": [
        "filename = 'ai.ja.txt.parsed'\n",
        "morph_sens = list()\n",
        "tmp_sen = list()\n",
        "count=0\n",
        "with open(filename, mode='r') as f:\n",
        "  for line in f:\n",
        "    if line!=\"EOS\\n\":#文末を表すEOSでなければ＝1文まで(ai.ja.txtは句読点で区切られていないことも笑)\n",
        "      if line[0]!=\"*\":#係り受け解析結果は無視\n",
        "        sp = line.split()#\\tでsplitし、末尾の\\nを除去\n",
        "        m = sp[1].split(',')\n",
        "        a = Morph(sp[0], m[6], m[0], m[1])\n",
        "        tmp_sen.append(a)\n",
        "    elif tmp_sen:\n",
        "        morph_sens.append(tmp_sen)\n",
        "        tmp_sen = list()\n"
      ],
      "metadata": {
        "id": "l5C4mFsnt44C"
      },
      "execution_count": 120,
      "outputs": []
    },
    {
      "cell_type": "code",
      "source": [
        "morph_sens\n",
        "\"\"\"\n",
        "for m in morph_sens[:2]:\n",
        "  for i in m:\n",
        "    i.show()\n",
        "\"\"\""
      ],
      "metadata": {
        "colab": {
          "base_uri": "https://localhost:8080/",
          "height": 35
        },
        "id": "Y1aY8m3c0gj5",
        "outputId": "1e11c8ec-dee9-47a7-b77c-2139a3c2a584"
      },
      "execution_count": 11,
      "outputs": [
        {
          "output_type": "execute_result",
          "data": {
            "application/vnd.google.colaboratory.intrinsic+json": {
              "type": "string"
            },
            "text/plain": [
              "'\\nfor m in morph_sens[:2]:\\n  for i in m:\\n    i.show()\\n'"
            ]
          },
          "metadata": {},
          "execution_count": 11
        }
      ]
    },
    {
      "cell_type": "markdown",
      "metadata": {
        "id": "hjWX4Ui0tftv"
      },
      "source": [
        "## 41. 係り受け解析結果の読み込み（文節・係り受け）\n",
        "40に加えて，文節を表すクラスChunkを実装せよ．このクラスは形態素（Morphオブジェクト）のリスト（morphs），係り先文節インデックス番号（dst），係り元文節インデックス番号のリスト（srcs）をメンバ変数に持つこととする．さらに，入力テキストの係り受け解析結果を読み込み，１文をChunkオブジェクトのリストとして表現し，冒頭の説明文の文節の文字列と係り先を表示せよ．本章の残りの問題では，ここで作ったプログラムを活用せよ．"
      ]
    },
    {
      "cell_type": "code",
      "source": [
        "\"\"\"文節を表すクラスChunk\"\"\"\n",
        "class Chunk:\n",
        "  def __init__(self, morphs:list, dst:int):\n",
        "    self.morphs = morphs\n",
        "    self.dst = dst\n",
        "    self.srcs = list()\n",
        "  def show(self):\n",
        "    print('morphs:')\n",
        "    for morph in self.morphs:\n",
        "      morph.show()\n",
        "    print('dst: ', self.dst)\n",
        "    print('srcs: ', self.srcs)"
      ],
      "metadata": {
        "id": "CPHMXXNq2hon"
      },
      "execution_count": 121,
      "outputs": []
    },
    {
      "cell_type": "code",
      "source": [
        "#cabochaでは、文節間の係り受けを解析している\n",
        "filename = 'ai.ja.txt.parsed'\n",
        "sentences = list()\n",
        "chunk_sen = list()\n",
        "tmp_chunks = list()\n",
        "dst = 0\n",
        "with open(filename, mode='r') as f:\n",
        "  for line in f:\n",
        "    if line[0]==\"*\":#係り受け解析結果\n",
        "      if tmp_chunks:#１つのchunkが終了\n",
        "        b = Chunk(tmp_chunks, dst)\n",
        "        chunk_sen.append(b)\n",
        "        tmp_chunks = list()\n",
        "        dst = 0\n",
        "      ch = line.split()\n",
        "      dst = int(ch[2].split(\"D\")[0])\n",
        "    elif line!=\"EOS\\n\":#形態素解析結果\n",
        "      sp = line.split()\n",
        "      m = sp[1].split(',')\n",
        "      a = Morph(sp[0], m[6], m[0], m[1])\n",
        "      tmp_chunks.append(a)\n",
        "    elif line==\"EOS\\n\":#EOS\n",
        "      if tmp_chunks:#１つのchunkが終了\n",
        "          b = Chunk(tmp_chunks, dst)\n",
        "          chunk_sen.append(b)\n",
        "          tmp_chunks = list()\n",
        "          dst = 0\n",
        "      for i, chunk in enumerate(chunk_sen):\n",
        "        if dst!=-1:\n",
        "          chunk_sen[chunk.dst].srcs.append(i)\n",
        "      sentences.append(chunk_sen)\n",
        "      chunk_sen = list()"
      ],
      "metadata": {
        "id": "O2848thG3Aah"
      },
      "execution_count": 122,
      "outputs": []
    },
    {
      "cell_type": "code",
      "source": [
        "\"\"\"確認用\"\"\"\n",
        "for sentence in sentences[:3]:\n",
        "  for i, chunk in enumerate(sentence):\n",
        "    print(i)\n",
        "    chunk.show()\n",
        "    print('-----')"
      ],
      "metadata": {
        "id": "h9bB5qcp7aPZ"
      },
      "execution_count": null,
      "outputs": []
    },
    {
      "cell_type": "markdown",
      "metadata": {
        "id": "QA2Ap-rX7XVj"
      },
      "source": [
        "## 42. 係り元と係り先の文節の表示\n",
        "係り元の文節と係り先の文節のテキストをタブ区切り形式ですべて抽出せよ．ただし，句読点などの記号は出力しないようにせよ．"
      ]
    },
    {
      "cell_type": "code",
      "source": [
        "for sentence in sentences[:3]:#sentences[:3]　最初の3文まで\n",
        "  for chunk in sentence:\n",
        "    for morph in chunk.morphs:#係り元の文節を表示\n",
        "      if morph.pos!=\"記号\":\n",
        "        print(morph.surface, end='')\n",
        "    print('\\t', end='')\n",
        "    for morph in sentence[chunk.dst].morphs:#係り先の文節を表示\n",
        "      if morph.pos!=\"記号\":\n",
        "        print(morph.surface, end='')\n",
        "    print('')"
      ],
      "metadata": {
        "id": "2BPlvnNGWEif"
      },
      "execution_count": null,
      "outputs": []
    },
    {
      "cell_type": "markdown",
      "metadata": {
        "id": "g7Z5tLG4bMxY"
      },
      "source": [
        "## 43. 名詞を含む文節が動詞を含む文節に係るものを抽出\n",
        "名詞を含む文節が，動詞を含む文節に係るとき，これらをタブ区切り形式で抽出せよ．ただし，句読点などの記号は出力しないようにせよ．"
      ]
    },
    {
      "cell_type": "code",
      "source": [
        "tmp_pair = str()\n",
        "for sentence in sentences[:3]:\n",
        "  for chunk in sentence:\n",
        "    pos_src = list()#係り元の品詞を格納\n",
        "    sur_src = list()#      の表層系\n",
        "    pos_dst = list()#係り先の品詞\n",
        "    sur_dst = list()#      の表層系\n",
        "      \n",
        "    for morph in chunk.morphs:#係り元の文節を表示\n",
        "      if morph.pos!=\"記号\":\n",
        "        pos_src.append(morph.pos)\n",
        "        sur_src.append(morph.surface)\n",
        "    for morph in sentence[chunk.dst].morphs:#係り先の文節を表示\n",
        "      if morph.pos!=\"記号\":\n",
        "        pos_dst.append(morph.pos)\n",
        "        sur_dst.append(morph.surface)\n",
        "    if '名詞' in pos_src and '動詞' in pos_dst:\n",
        "      print(''.join(sur_src), '\\t', end='')\n",
        "      print(''.join(sur_dst))\n"
      ],
      "metadata": {
        "colab": {
          "base_uri": "https://localhost:8080/"
        },
        "id": "x1D_Q5tFqK_Q",
        "outputId": "d72e1288-8443-4b16-9c64-1589b3c3bb7c"
      },
      "execution_count": 124,
      "outputs": [
        {
          "output_type": "stream",
          "name": "stdout",
          "text": [
            "道具を \t用いて\n",
            "知能を \t研究する\n",
            "一分野を \t指す\n",
            "知的行動を \t代わって\n",
            "人間に \t代わって\n",
            "コンピューターに \t行わせる\n",
            "研究分野とも \tされる\n"
          ]
        }
      ]
    },
    {
      "cell_type": "markdown",
      "metadata": {
        "id": "sxhT8tinFaD-"
      },
      "source": [
        "## 44. 係り受け木の可視化\n",
        "与えられた文の係り受け木を有向グラフとして可視化せよ．可視化には，Graphviz等を用いるとよい．"
      ]
    },
    {
      "cell_type": "code",
      "source": [
        "!pip install graphviz"
      ],
      "metadata": {
        "colab": {
          "base_uri": "https://localhost:8080/"
        },
        "id": "kIsDgBQYv7X_",
        "outputId": "da9bf3b8-148c-42a6-a181-460bd567bbff"
      },
      "execution_count": 97,
      "outputs": [
        {
          "output_type": "stream",
          "name": "stdout",
          "text": [
            "Requirement already satisfied: graphviz in /usr/local/lib/python3.7/dist-packages (0.10.1)\n"
          ]
        }
      ]
    },
    {
      "cell_type": "code",
      "source": [
        "from graphviz import Digraph #有向グラフ\n",
        "\n",
        "dot = Digraph(format='png')\n",
        "\n",
        "sentence = sentences[2]\n",
        "for i, chunk in enumerate(sentence):\n",
        "  dot.node(str(i))\n",
        "  if chunk.dst != -1:\n",
        "    dot.edge(str(i), str(chunk.dst))\n",
        "\n",
        "dot"
      ],
      "metadata": {
        "colab": {
          "base_uri": "https://localhost:8080/",
          "height": 1000
        },
        "id": "gOH6Gmfdv-Jj",
        "outputId": "37301659-c9a7-489a-8de5-e7cf7146b0c6"
      },
      "execution_count": 126,
      "outputs": [
        {
          "output_type": "execute_result",
          "data": {
            "text/plain": [
              "<graphviz.dot.Digraph at 0x7f77eb2f6550>"
            ],
            "image/svg+xml": "<?xml version=\"1.0\" encoding=\"UTF-8\" standalone=\"no\"?>\n<!DOCTYPE svg PUBLIC \"-//W3C//DTD SVG 1.1//EN\"\n \"http://www.w3.org/Graphics/SVG/1.1/DTD/svg11.dtd\">\n<!-- Generated by graphviz version 2.40.1 (20161225.0304)\n -->\n<!-- Title: %3 Pages: 1 -->\n<svg width=\"674pt\" height=\"836pt\"\n viewBox=\"0.00 0.00 674.00 836.00\" xmlns=\"http://www.w3.org/2000/svg\" xmlns:xlink=\"http://www.w3.org/1999/xlink\">\n<g id=\"graph0\" class=\"graph\" transform=\"scale(1 1) rotate(0) translate(4 832)\">\n<title>%3</title>\n<polygon fill=\"#ffffff\" stroke=\"transparent\" points=\"-4,4 -4,-832 670,-832 670,4 -4,4\"/>\n<!-- 0 -->\n<g id=\"node1\" class=\"node\">\n<title>0</title>\n<ellipse fill=\"none\" stroke=\"#000000\" cx=\"459\" cy=\"-234\" rx=\"27\" ry=\"18\"/>\n<text text-anchor=\"middle\" x=\"459\" y=\"-230.3\" font-family=\"Times,serif\" font-size=\"14.00\" fill=\"#000000\">0</text>\n</g>\n<!-- 17 -->\n<g id=\"node2\" class=\"node\">\n<title>17</title>\n<ellipse fill=\"none\" stroke=\"#000000\" cx=\"351\" cy=\"-162\" rx=\"27\" ry=\"18\"/>\n<text text-anchor=\"middle\" x=\"351\" y=\"-158.3\" font-family=\"Times,serif\" font-size=\"14.00\" fill=\"#000000\">17</text>\n</g>\n<!-- 0&#45;&gt;17 -->\n<g id=\"edge1\" class=\"edge\">\n<title>0&#45;&gt;17</title>\n<path fill=\"none\" stroke=\"#000000\" d=\"M439.6918,-221.1278C422.6445,-209.763 397.5981,-193.0654 378.4656,-180.3104\"/>\n<polygon fill=\"#000000\" stroke=\"#000000\" points=\"380.4031,-177.3956 370.1411,-174.7607 376.5201,-183.2199 380.4031,-177.3956\"/>\n</g>\n<!-- 34 -->\n<g id=\"node19\" class=\"node\">\n<title>34</title>\n<ellipse fill=\"none\" stroke=\"#000000\" cx=\"351\" cy=\"-90\" rx=\"27\" ry=\"18\"/>\n<text text-anchor=\"middle\" x=\"351\" y=\"-86.3\" font-family=\"Times,serif\" font-size=\"14.00\" fill=\"#000000\">34</text>\n</g>\n<!-- 17&#45;&gt;34 -->\n<g id=\"edge18\" class=\"edge\">\n<title>17&#45;&gt;34</title>\n<path fill=\"none\" stroke=\"#000000\" d=\"M351,-143.8314C351,-136.131 351,-126.9743 351,-118.4166\"/>\n<polygon fill=\"#000000\" stroke=\"#000000\" points=\"354.5001,-118.4132 351,-108.4133 347.5001,-118.4133 354.5001,-118.4132\"/>\n</g>\n<!-- 1 -->\n<g id=\"node3\" class=\"node\">\n<title>1</title>\n<ellipse fill=\"none\" stroke=\"#000000\" cx=\"387\" cy=\"-234\" rx=\"27\" ry=\"18\"/>\n<text text-anchor=\"middle\" x=\"387\" y=\"-230.3\" font-family=\"Times,serif\" font-size=\"14.00\" fill=\"#000000\">1</text>\n</g>\n<!-- 1&#45;&gt;17 -->\n<g id=\"edge2\" class=\"edge\">\n<title>1&#45;&gt;17</title>\n<path fill=\"none\" stroke=\"#000000\" d=\"M378.2854,-216.5708C374.0403,-208.0807 368.8464,-197.6929 364.1337,-188.2674\"/>\n<polygon fill=\"#000000\" stroke=\"#000000\" points=\"367.237,-186.6477 359.6343,-179.2687 360.976,-189.7782 367.237,-186.6477\"/>\n</g>\n<!-- 2 -->\n<g id=\"node4\" class=\"node\">\n<title>2</title>\n<ellipse fill=\"none\" stroke=\"#000000\" cx=\"243\" cy=\"-306\" rx=\"27\" ry=\"18\"/>\n<text text-anchor=\"middle\" x=\"243\" y=\"-302.3\" font-family=\"Times,serif\" font-size=\"14.00\" fill=\"#000000\">2</text>\n</g>\n<!-- 3 -->\n<g id=\"node5\" class=\"node\">\n<title>3</title>\n<ellipse fill=\"none\" stroke=\"#000000\" cx=\"243\" cy=\"-234\" rx=\"27\" ry=\"18\"/>\n<text text-anchor=\"middle\" x=\"243\" y=\"-230.3\" font-family=\"Times,serif\" font-size=\"14.00\" fill=\"#000000\">3</text>\n</g>\n<!-- 2&#45;&gt;3 -->\n<g id=\"edge3\" class=\"edge\">\n<title>2&#45;&gt;3</title>\n<path fill=\"none\" stroke=\"#000000\" d=\"M243,-287.8314C243,-280.131 243,-270.9743 243,-262.4166\"/>\n<polygon fill=\"#000000\" stroke=\"#000000\" points=\"246.5001,-262.4132 243,-252.4133 239.5001,-262.4133 246.5001,-262.4132\"/>\n</g>\n<!-- 3&#45;&gt;17 -->\n<g id=\"edge4\" class=\"edge\">\n<title>3&#45;&gt;17</title>\n<path fill=\"none\" stroke=\"#000000\" d=\"M262.3082,-221.1278C279.3555,-209.763 304.4019,-193.0654 323.5344,-180.3104\"/>\n<polygon fill=\"#000000\" stroke=\"#000000\" points=\"325.4799,-183.2199 331.8589,-174.7607 321.5969,-177.3956 325.4799,-183.2199\"/>\n</g>\n<!-- 4 -->\n<g id=\"node6\" class=\"node\">\n<title>4</title>\n<ellipse fill=\"none\" stroke=\"#000000\" cx=\"207\" cy=\"-810\" rx=\"27\" ry=\"18\"/>\n<text text-anchor=\"middle\" x=\"207\" y=\"-806.3\" font-family=\"Times,serif\" font-size=\"14.00\" fill=\"#000000\">4</text>\n</g>\n<!-- 5 -->\n<g id=\"node7\" class=\"node\">\n<title>5</title>\n<ellipse fill=\"none\" stroke=\"#000000\" cx=\"207\" cy=\"-738\" rx=\"27\" ry=\"18\"/>\n<text text-anchor=\"middle\" x=\"207\" y=\"-734.3\" font-family=\"Times,serif\" font-size=\"14.00\" fill=\"#000000\">5</text>\n</g>\n<!-- 4&#45;&gt;5 -->\n<g id=\"edge5\" class=\"edge\">\n<title>4&#45;&gt;5</title>\n<path fill=\"none\" stroke=\"#000000\" d=\"M207,-791.8314C207,-784.131 207,-774.9743 207,-766.4166\"/>\n<polygon fill=\"#000000\" stroke=\"#000000\" points=\"210.5001,-766.4132 207,-756.4133 203.5001,-766.4133 210.5001,-766.4132\"/>\n</g>\n<!-- 9 -->\n<g id=\"node8\" class=\"node\">\n<title>9</title>\n<ellipse fill=\"none\" stroke=\"#000000\" cx=\"279\" cy=\"-666\" rx=\"27\" ry=\"18\"/>\n<text text-anchor=\"middle\" x=\"279\" y=\"-662.3\" font-family=\"Times,serif\" font-size=\"14.00\" fill=\"#000000\">9</text>\n</g>\n<!-- 5&#45;&gt;9 -->\n<g id=\"edge6\" class=\"edge\">\n<title>5&#45;&gt;9</title>\n<path fill=\"none\" stroke=\"#000000\" d=\"M222.2693,-722.7307C232.197,-712.803 245.3153,-699.6847 256.4363,-688.5637\"/>\n<polygon fill=\"#000000\" stroke=\"#000000\" points=\"259.1564,-690.7933 263.7527,-681.2473 254.2067,-685.8436 259.1564,-690.7933\"/>\n</g>\n<!-- 10 -->\n<g id=\"node12\" class=\"node\">\n<title>10</title>\n<ellipse fill=\"none\" stroke=\"#000000\" cx=\"279\" cy=\"-594\" rx=\"27\" ry=\"18\"/>\n<text text-anchor=\"middle\" x=\"279\" y=\"-590.3\" font-family=\"Times,serif\" font-size=\"14.00\" fill=\"#000000\">10</text>\n</g>\n<!-- 9&#45;&gt;10 -->\n<g id=\"edge10\" class=\"edge\">\n<title>9&#45;&gt;10</title>\n<path fill=\"none\" stroke=\"#000000\" d=\"M279,-647.8314C279,-640.131 279,-630.9743 279,-622.4166\"/>\n<polygon fill=\"#000000\" stroke=\"#000000\" points=\"282.5001,-622.4132 279,-612.4133 275.5001,-622.4133 282.5001,-622.4132\"/>\n</g>\n<!-- 6 -->\n<g id=\"node9\" class=\"node\">\n<title>6</title>\n<ellipse fill=\"none\" stroke=\"#000000\" cx=\"279\" cy=\"-738\" rx=\"27\" ry=\"18\"/>\n<text text-anchor=\"middle\" x=\"279\" y=\"-734.3\" font-family=\"Times,serif\" font-size=\"14.00\" fill=\"#000000\">6</text>\n</g>\n<!-- 6&#45;&gt;9 -->\n<g id=\"edge7\" class=\"edge\">\n<title>6&#45;&gt;9</title>\n<path fill=\"none\" stroke=\"#000000\" d=\"M279,-719.8314C279,-712.131 279,-702.9743 279,-694.4166\"/>\n<polygon fill=\"#000000\" stroke=\"#000000\" points=\"282.5001,-694.4132 279,-684.4133 275.5001,-694.4133 282.5001,-694.4132\"/>\n</g>\n<!-- 7 -->\n<g id=\"node10\" class=\"node\">\n<title>7</title>\n<ellipse fill=\"none\" stroke=\"#000000\" cx=\"351\" cy=\"-810\" rx=\"27\" ry=\"18\"/>\n<text text-anchor=\"middle\" x=\"351\" y=\"-806.3\" font-family=\"Times,serif\" font-size=\"14.00\" fill=\"#000000\">7</text>\n</g>\n<!-- 8 -->\n<g id=\"node11\" class=\"node\">\n<title>8</title>\n<ellipse fill=\"none\" stroke=\"#000000\" cx=\"351\" cy=\"-738\" rx=\"27\" ry=\"18\"/>\n<text text-anchor=\"middle\" x=\"351\" y=\"-734.3\" font-family=\"Times,serif\" font-size=\"14.00\" fill=\"#000000\">8</text>\n</g>\n<!-- 7&#45;&gt;8 -->\n<g id=\"edge8\" class=\"edge\">\n<title>7&#45;&gt;8</title>\n<path fill=\"none\" stroke=\"#000000\" d=\"M351,-791.8314C351,-784.131 351,-774.9743 351,-766.4166\"/>\n<polygon fill=\"#000000\" stroke=\"#000000\" points=\"354.5001,-766.4132 351,-756.4133 347.5001,-766.4133 354.5001,-766.4132\"/>\n</g>\n<!-- 8&#45;&gt;9 -->\n<g id=\"edge9\" class=\"edge\">\n<title>8&#45;&gt;9</title>\n<path fill=\"none\" stroke=\"#000000\" d=\"M335.7307,-722.7307C325.803,-712.803 312.6847,-699.6847 301.5637,-688.5637\"/>\n<polygon fill=\"#000000\" stroke=\"#000000\" points=\"303.7933,-685.8436 294.2473,-681.2473 298.8436,-690.7933 303.7933,-685.8436\"/>\n</g>\n<!-- 12 -->\n<g id=\"node13\" class=\"node\">\n<title>12</title>\n<ellipse fill=\"none\" stroke=\"#000000\" cx=\"315\" cy=\"-522\" rx=\"27\" ry=\"18\"/>\n<text text-anchor=\"middle\" x=\"315\" y=\"-518.3\" font-family=\"Times,serif\" font-size=\"14.00\" fill=\"#000000\">12</text>\n</g>\n<!-- 10&#45;&gt;12 -->\n<g id=\"edge11\" class=\"edge\">\n<title>10&#45;&gt;12</title>\n<path fill=\"none\" stroke=\"#000000\" d=\"M287.7146,-576.5708C291.9597,-568.0807 297.1536,-557.6929 301.8663,-548.2674\"/>\n<polygon fill=\"#000000\" stroke=\"#000000\" points=\"305.024,-549.7782 306.3657,-539.2687 298.763,-546.6477 305.024,-549.7782\"/>\n</g>\n<!-- 13 -->\n<g id=\"node15\" class=\"node\">\n<title>13</title>\n<ellipse fill=\"none\" stroke=\"#000000\" cx=\"315\" cy=\"-450\" rx=\"27\" ry=\"18\"/>\n<text text-anchor=\"middle\" x=\"315\" y=\"-446.3\" font-family=\"Times,serif\" font-size=\"14.00\" fill=\"#000000\">13</text>\n</g>\n<!-- 12&#45;&gt;13 -->\n<g id=\"edge13\" class=\"edge\">\n<title>12&#45;&gt;13</title>\n<path fill=\"none\" stroke=\"#000000\" d=\"M315,-503.8314C315,-496.131 315,-486.9743 315,-478.4166\"/>\n<polygon fill=\"#000000\" stroke=\"#000000\" points=\"318.5001,-478.4132 315,-468.4133 311.5001,-478.4133 318.5001,-478.4132\"/>\n</g>\n<!-- 11 -->\n<g id=\"node14\" class=\"node\">\n<title>11</title>\n<ellipse fill=\"none\" stroke=\"#000000\" cx=\"351\" cy=\"-594\" rx=\"27\" ry=\"18\"/>\n<text text-anchor=\"middle\" x=\"351\" y=\"-590.3\" font-family=\"Times,serif\" font-size=\"14.00\" fill=\"#000000\">11</text>\n</g>\n<!-- 11&#45;&gt;12 -->\n<g id=\"edge12\" class=\"edge\">\n<title>11&#45;&gt;12</title>\n<path fill=\"none\" stroke=\"#000000\" d=\"M342.2854,-576.5708C338.0403,-568.0807 332.8464,-557.6929 328.1337,-548.2674\"/>\n<polygon fill=\"#000000\" stroke=\"#000000\" points=\"331.237,-546.6477 323.6343,-539.2687 324.976,-549.7782 331.237,-546.6477\"/>\n</g>\n<!-- 14 -->\n<g id=\"node16\" class=\"node\">\n<title>14</title>\n<ellipse fill=\"none\" stroke=\"#000000\" cx=\"315\" cy=\"-378\" rx=\"27\" ry=\"18\"/>\n<text text-anchor=\"middle\" x=\"315\" y=\"-374.3\" font-family=\"Times,serif\" font-size=\"14.00\" fill=\"#000000\">14</text>\n</g>\n<!-- 13&#45;&gt;14 -->\n<g id=\"edge14\" class=\"edge\">\n<title>13&#45;&gt;14</title>\n<path fill=\"none\" stroke=\"#000000\" d=\"M315,-431.8314C315,-424.131 315,-414.9743 315,-406.4166\"/>\n<polygon fill=\"#000000\" stroke=\"#000000\" points=\"318.5001,-406.4132 315,-396.4133 311.5001,-406.4133 318.5001,-406.4132\"/>\n</g>\n<!-- 15 -->\n<g id=\"node17\" class=\"node\">\n<title>15</title>\n<ellipse fill=\"none\" stroke=\"#000000\" cx=\"315\" cy=\"-306\" rx=\"27\" ry=\"18\"/>\n<text text-anchor=\"middle\" x=\"315\" y=\"-302.3\" font-family=\"Times,serif\" font-size=\"14.00\" fill=\"#000000\">15</text>\n</g>\n<!-- 14&#45;&gt;15 -->\n<g id=\"edge15\" class=\"edge\">\n<title>14&#45;&gt;15</title>\n<path fill=\"none\" stroke=\"#000000\" d=\"M315,-359.8314C315,-352.131 315,-342.9743 315,-334.4166\"/>\n<polygon fill=\"#000000\" stroke=\"#000000\" points=\"318.5001,-334.4132 315,-324.4133 311.5001,-334.4133 318.5001,-334.4132\"/>\n</g>\n<!-- 16 -->\n<g id=\"node18\" class=\"node\">\n<title>16</title>\n<ellipse fill=\"none\" stroke=\"#000000\" cx=\"315\" cy=\"-234\" rx=\"27\" ry=\"18\"/>\n<text text-anchor=\"middle\" x=\"315\" y=\"-230.3\" font-family=\"Times,serif\" font-size=\"14.00\" fill=\"#000000\">16</text>\n</g>\n<!-- 15&#45;&gt;16 -->\n<g id=\"edge16\" class=\"edge\">\n<title>15&#45;&gt;16</title>\n<path fill=\"none\" stroke=\"#000000\" d=\"M315,-287.8314C315,-280.131 315,-270.9743 315,-262.4166\"/>\n<polygon fill=\"#000000\" stroke=\"#000000\" points=\"318.5001,-262.4132 315,-252.4133 311.5001,-262.4133 318.5001,-262.4132\"/>\n</g>\n<!-- 16&#45;&gt;17 -->\n<g id=\"edge17\" class=\"edge\">\n<title>16&#45;&gt;17</title>\n<path fill=\"none\" stroke=\"#000000\" d=\"M323.7146,-216.5708C327.9597,-208.0807 333.1536,-197.6929 337.8663,-188.2674\"/>\n<polygon fill=\"#000000\" stroke=\"#000000\" points=\"341.024,-189.7782 342.3657,-179.2687 334.763,-186.6477 341.024,-189.7782\"/>\n</g>\n<!-- 35 -->\n<g id=\"node36\" class=\"node\">\n<title>35</title>\n<ellipse fill=\"none\" stroke=\"#000000\" cx=\"351\" cy=\"-18\" rx=\"27\" ry=\"18\"/>\n<text text-anchor=\"middle\" x=\"351\" y=\"-14.3\" font-family=\"Times,serif\" font-size=\"14.00\" fill=\"#000000\">35</text>\n</g>\n<!-- 34&#45;&gt;35 -->\n<g id=\"edge35\" class=\"edge\">\n<title>34&#45;&gt;35</title>\n<path fill=\"none\" stroke=\"#000000\" d=\"M351,-71.8314C351,-64.131 351,-54.9743 351,-46.4166\"/>\n<polygon fill=\"#000000\" stroke=\"#000000\" points=\"354.5001,-46.4132 351,-36.4133 347.5001,-46.4133 354.5001,-46.4132\"/>\n</g>\n<!-- 18 -->\n<g id=\"node20\" class=\"node\">\n<title>18</title>\n<ellipse fill=\"none\" stroke=\"#000000\" cx=\"27\" cy=\"-594\" rx=\"27\" ry=\"18\"/>\n<text text-anchor=\"middle\" x=\"27\" y=\"-590.3\" font-family=\"Times,serif\" font-size=\"14.00\" fill=\"#000000\">18</text>\n</g>\n<!-- 20 -->\n<g id=\"node21\" class=\"node\">\n<title>20</title>\n<ellipse fill=\"none\" stroke=\"#000000\" cx=\"63\" cy=\"-522\" rx=\"27\" ry=\"18\"/>\n<text text-anchor=\"middle\" x=\"63\" y=\"-518.3\" font-family=\"Times,serif\" font-size=\"14.00\" fill=\"#000000\">20</text>\n</g>\n<!-- 18&#45;&gt;20 -->\n<g id=\"edge19\" class=\"edge\">\n<title>18&#45;&gt;20</title>\n<path fill=\"none\" stroke=\"#000000\" d=\"M35.7146,-576.5708C39.9597,-568.0807 45.1536,-557.6929 49.8663,-548.2674\"/>\n<polygon fill=\"#000000\" stroke=\"#000000\" points=\"53.024,-549.7782 54.3657,-539.2687 46.763,-546.6477 53.024,-549.7782\"/>\n</g>\n<!-- 21 -->\n<g id=\"node23\" class=\"node\">\n<title>21</title>\n<ellipse fill=\"none\" stroke=\"#000000\" cx=\"63\" cy=\"-450\" rx=\"27\" ry=\"18\"/>\n<text text-anchor=\"middle\" x=\"63\" y=\"-446.3\" font-family=\"Times,serif\" font-size=\"14.00\" fill=\"#000000\">21</text>\n</g>\n<!-- 20&#45;&gt;21 -->\n<g id=\"edge21\" class=\"edge\">\n<title>20&#45;&gt;21</title>\n<path fill=\"none\" stroke=\"#000000\" d=\"M63,-503.8314C63,-496.131 63,-486.9743 63,-478.4166\"/>\n<polygon fill=\"#000000\" stroke=\"#000000\" points=\"66.5001,-478.4132 63,-468.4133 59.5001,-478.4133 66.5001,-478.4132\"/>\n</g>\n<!-- 19 -->\n<g id=\"node22\" class=\"node\">\n<title>19</title>\n<ellipse fill=\"none\" stroke=\"#000000\" cx=\"99\" cy=\"-594\" rx=\"27\" ry=\"18\"/>\n<text text-anchor=\"middle\" x=\"99\" y=\"-590.3\" font-family=\"Times,serif\" font-size=\"14.00\" fill=\"#000000\">19</text>\n</g>\n<!-- 19&#45;&gt;20 -->\n<g id=\"edge20\" class=\"edge\">\n<title>19&#45;&gt;20</title>\n<path fill=\"none\" stroke=\"#000000\" d=\"M90.2854,-576.5708C86.0403,-568.0807 80.8464,-557.6929 76.1337,-548.2674\"/>\n<polygon fill=\"#000000\" stroke=\"#000000\" points=\"79.237,-546.6477 71.6343,-539.2687 72.976,-549.7782 79.237,-546.6477\"/>\n</g>\n<!-- 22 -->\n<g id=\"node24\" class=\"node\">\n<title>22</title>\n<ellipse fill=\"none\" stroke=\"#000000\" cx=\"63\" cy=\"-378\" rx=\"27\" ry=\"18\"/>\n<text text-anchor=\"middle\" x=\"63\" y=\"-374.3\" font-family=\"Times,serif\" font-size=\"14.00\" fill=\"#000000\">22</text>\n</g>\n<!-- 21&#45;&gt;22 -->\n<g id=\"edge22\" class=\"edge\">\n<title>21&#45;&gt;22</title>\n<path fill=\"none\" stroke=\"#000000\" d=\"M63,-431.8314C63,-424.131 63,-414.9743 63,-406.4166\"/>\n<polygon fill=\"#000000\" stroke=\"#000000\" points=\"66.5001,-406.4132 63,-396.4133 59.5001,-406.4133 66.5001,-406.4132\"/>\n</g>\n<!-- 24 -->\n<g id=\"node25\" class=\"node\">\n<title>24</title>\n<ellipse fill=\"none\" stroke=\"#000000\" cx=\"99\" cy=\"-306\" rx=\"27\" ry=\"18\"/>\n<text text-anchor=\"middle\" x=\"99\" y=\"-302.3\" font-family=\"Times,serif\" font-size=\"14.00\" fill=\"#000000\">24</text>\n</g>\n<!-- 22&#45;&gt;24 -->\n<g id=\"edge23\" class=\"edge\">\n<title>22&#45;&gt;24</title>\n<path fill=\"none\" stroke=\"#000000\" d=\"M71.7146,-360.5708C75.9597,-352.0807 81.1536,-341.6929 85.8663,-332.2674\"/>\n<polygon fill=\"#000000\" stroke=\"#000000\" points=\"89.024,-333.7782 90.3657,-323.2687 82.763,-330.6477 89.024,-333.7782\"/>\n</g>\n<!-- 26 -->\n<g id=\"node27\" class=\"node\">\n<title>26</title>\n<ellipse fill=\"none\" stroke=\"#000000\" cx=\"171\" cy=\"-234\" rx=\"27\" ry=\"18\"/>\n<text text-anchor=\"middle\" x=\"171\" y=\"-230.3\" font-family=\"Times,serif\" font-size=\"14.00\" fill=\"#000000\">26</text>\n</g>\n<!-- 24&#45;&gt;26 -->\n<g id=\"edge25\" class=\"edge\">\n<title>24&#45;&gt;26</title>\n<path fill=\"none\" stroke=\"#000000\" d=\"M114.2693,-290.7307C124.197,-280.803 137.3153,-267.6847 148.4363,-256.5637\"/>\n<polygon fill=\"#000000\" stroke=\"#000000\" points=\"151.1564,-258.7933 155.7527,-249.2473 146.2067,-253.8436 151.1564,-258.7933\"/>\n</g>\n<!-- 23 -->\n<g id=\"node26\" class=\"node\">\n<title>23</title>\n<ellipse fill=\"none\" stroke=\"#000000\" cx=\"135\" cy=\"-378\" rx=\"27\" ry=\"18\"/>\n<text text-anchor=\"middle\" x=\"135\" y=\"-374.3\" font-family=\"Times,serif\" font-size=\"14.00\" fill=\"#000000\">23</text>\n</g>\n<!-- 23&#45;&gt;24 -->\n<g id=\"edge24\" class=\"edge\">\n<title>23&#45;&gt;24</title>\n<path fill=\"none\" stroke=\"#000000\" d=\"M126.2854,-360.5708C122.0403,-352.0807 116.8464,-341.6929 112.1337,-332.2674\"/>\n<polygon fill=\"#000000\" stroke=\"#000000\" points=\"115.237,-330.6477 107.6343,-323.2687 108.976,-333.7782 115.237,-330.6477\"/>\n</g>\n<!-- 27 -->\n<g id=\"node29\" class=\"node\">\n<title>27</title>\n<ellipse fill=\"none\" stroke=\"#000000\" cx=\"207\" cy=\"-162\" rx=\"27\" ry=\"18\"/>\n<text text-anchor=\"middle\" x=\"207\" y=\"-158.3\" font-family=\"Times,serif\" font-size=\"14.00\" fill=\"#000000\">27</text>\n</g>\n<!-- 26&#45;&gt;27 -->\n<g id=\"edge27\" class=\"edge\">\n<title>26&#45;&gt;27</title>\n<path fill=\"none\" stroke=\"#000000\" d=\"M179.7146,-216.5708C183.9597,-208.0807 189.1536,-197.6929 193.8663,-188.2674\"/>\n<polygon fill=\"#000000\" stroke=\"#000000\" points=\"197.024,-189.7782 198.3657,-179.2687 190.763,-186.6477 197.024,-189.7782\"/>\n</g>\n<!-- 25 -->\n<g id=\"node28\" class=\"node\">\n<title>25</title>\n<ellipse fill=\"none\" stroke=\"#000000\" cx=\"171\" cy=\"-306\" rx=\"27\" ry=\"18\"/>\n<text text-anchor=\"middle\" x=\"171\" y=\"-302.3\" font-family=\"Times,serif\" font-size=\"14.00\" fill=\"#000000\">25</text>\n</g>\n<!-- 25&#45;&gt;26 -->\n<g id=\"edge26\" class=\"edge\">\n<title>25&#45;&gt;26</title>\n<path fill=\"none\" stroke=\"#000000\" d=\"M171,-287.8314C171,-280.131 171,-270.9743 171,-262.4166\"/>\n<polygon fill=\"#000000\" stroke=\"#000000\" points=\"174.5001,-262.4132 171,-252.4133 167.5001,-262.4133 174.5001,-262.4132\"/>\n</g>\n<!-- 27&#45;&gt;34 -->\n<g id=\"edge28\" class=\"edge\">\n<title>27&#45;&gt;34</title>\n<path fill=\"none\" stroke=\"#000000\" d=\"M228.8705,-151.0647C253.2222,-138.8889 292.762,-119.119 320.2285,-105.3858\"/>\n<polygon fill=\"#000000\" stroke=\"#000000\" points=\"322.0165,-108.4049 329.3955,-100.8022 318.886,-102.1439 322.0165,-108.4049\"/>\n</g>\n<!-- 28 -->\n<g id=\"node30\" class=\"node\">\n<title>28</title>\n<ellipse fill=\"none\" stroke=\"#000000\" cx=\"567\" cy=\"-378\" rx=\"27\" ry=\"18\"/>\n<text text-anchor=\"middle\" x=\"567\" y=\"-374.3\" font-family=\"Times,serif\" font-size=\"14.00\" fill=\"#000000\">28</text>\n</g>\n<!-- 29 -->\n<g id=\"node31\" class=\"node\">\n<title>29</title>\n<ellipse fill=\"none\" stroke=\"#000000\" cx=\"567\" cy=\"-306\" rx=\"27\" ry=\"18\"/>\n<text text-anchor=\"middle\" x=\"567\" y=\"-302.3\" font-family=\"Times,serif\" font-size=\"14.00\" fill=\"#000000\">29</text>\n</g>\n<!-- 28&#45;&gt;29 -->\n<g id=\"edge29\" class=\"edge\">\n<title>28&#45;&gt;29</title>\n<path fill=\"none\" stroke=\"#000000\" d=\"M567,-359.8314C567,-352.131 567,-342.9743 567,-334.4166\"/>\n<polygon fill=\"#000000\" stroke=\"#000000\" points=\"570.5001,-334.4132 567,-324.4133 563.5001,-334.4133 570.5001,-334.4132\"/>\n</g>\n<!-- 31 -->\n<g id=\"node32\" class=\"node\">\n<title>31</title>\n<ellipse fill=\"none\" stroke=\"#000000\" cx=\"603\" cy=\"-234\" rx=\"27\" ry=\"18\"/>\n<text text-anchor=\"middle\" x=\"603\" y=\"-230.3\" font-family=\"Times,serif\" font-size=\"14.00\" fill=\"#000000\">31</text>\n</g>\n<!-- 29&#45;&gt;31 -->\n<g id=\"edge30\" class=\"edge\">\n<title>29&#45;&gt;31</title>\n<path fill=\"none\" stroke=\"#000000\" d=\"M575.7146,-288.5708C579.9597,-280.0807 585.1536,-269.6929 589.8663,-260.2674\"/>\n<polygon fill=\"#000000\" stroke=\"#000000\" points=\"593.024,-261.7782 594.3657,-251.2687 586.763,-258.6477 593.024,-261.7782\"/>\n</g>\n<!-- 33 -->\n<g id=\"node34\" class=\"node\">\n<title>33</title>\n<ellipse fill=\"none\" stroke=\"#000000\" cx=\"531\" cy=\"-162\" rx=\"27\" ry=\"18\"/>\n<text text-anchor=\"middle\" x=\"531\" y=\"-158.3\" font-family=\"Times,serif\" font-size=\"14.00\" fill=\"#000000\">33</text>\n</g>\n<!-- 31&#45;&gt;33 -->\n<g id=\"edge32\" class=\"edge\">\n<title>31&#45;&gt;33</title>\n<path fill=\"none\" stroke=\"#000000\" d=\"M587.7307,-218.7307C577.803,-208.803 564.6847,-195.6847 553.5637,-184.5637\"/>\n<polygon fill=\"#000000\" stroke=\"#000000\" points=\"555.7933,-181.8436 546.2473,-177.2473 550.8436,-186.7933 555.7933,-181.8436\"/>\n</g>\n<!-- 30 -->\n<g id=\"node33\" class=\"node\">\n<title>30</title>\n<ellipse fill=\"none\" stroke=\"#000000\" cx=\"639\" cy=\"-306\" rx=\"27\" ry=\"18\"/>\n<text text-anchor=\"middle\" x=\"639\" y=\"-302.3\" font-family=\"Times,serif\" font-size=\"14.00\" fill=\"#000000\">30</text>\n</g>\n<!-- 30&#45;&gt;31 -->\n<g id=\"edge31\" class=\"edge\">\n<title>30&#45;&gt;31</title>\n<path fill=\"none\" stroke=\"#000000\" d=\"M630.2854,-288.5708C626.0403,-280.0807 620.8464,-269.6929 616.1337,-260.2674\"/>\n<polygon fill=\"#000000\" stroke=\"#000000\" points=\"619.237,-258.6477 611.6343,-251.2687 612.976,-261.7782 619.237,-258.6477\"/>\n</g>\n<!-- 33&#45;&gt;34 -->\n<g id=\"edge34\" class=\"edge\">\n<title>33&#45;&gt;34</title>\n<path fill=\"none\" stroke=\"#000000\" d=\"M507.8366,-152.7347C476.3313,-140.1325 419.7927,-117.5171 383.8982,-103.1593\"/>\n<polygon fill=\"#000000\" stroke=\"#000000\" points=\"384.9442,-99.8081 374.3596,-99.3438 382.3444,-106.3075 384.9442,-99.8081\"/>\n</g>\n<!-- 32 -->\n<g id=\"node35\" class=\"node\">\n<title>32</title>\n<ellipse fill=\"none\" stroke=\"#000000\" cx=\"531\" cy=\"-234\" rx=\"27\" ry=\"18\"/>\n<text text-anchor=\"middle\" x=\"531\" y=\"-230.3\" font-family=\"Times,serif\" font-size=\"14.00\" fill=\"#000000\">32</text>\n</g>\n<!-- 32&#45;&gt;33 -->\n<g id=\"edge33\" class=\"edge\">\n<title>32&#45;&gt;33</title>\n<path fill=\"none\" stroke=\"#000000\" d=\"M531,-215.8314C531,-208.131 531,-198.9743 531,-190.4166\"/>\n<polygon fill=\"#000000\" stroke=\"#000000\" points=\"534.5001,-190.4132 531,-180.4133 527.5001,-190.4133 534.5001,-190.4132\"/>\n</g>\n</g>\n</svg>\n"
          },
          "metadata": {},
          "execution_count": 126
        }
      ]
    },
    {
      "cell_type": "markdown",
      "metadata": {
        "id": "Am6zVeEGPG5_"
      },
      "source": [
        "## 45. 動詞の格パターンの抽出\n",
        "今回用いている文章をコーパスと見なし，日本語の述語が取りうる格を調査したい． 動詞を述語，動詞に係っている文節の助詞を格と考え，述語と格をタブ区切り形式で出力せよ． ただし，出力は以下の仕様を満たすようにせよ．  \n",
        "\n",
        "動詞を含む文節において，最左の動詞の基本形を述語とする\n",
        "述語に係る助詞を格とする  \n",
        "述語に係る助詞（文節）が複数あるときは，すべての助詞をスペース区切りで辞書順に並べる  \n",
        "「ジョン・マッカーシーはAIに関する最初の会議で人工知能という用語を作り出した。」という例文を考える． この文は「作り出す」という１つの動詞を含み，「作り出す」に係る文節は「ジョン・マッカーシーは」，「会議で」，「用語を」であると解析された場合は，次のような出力になるはずである．  \n",
        "\n",
        "\n",
        "```\n",
        "作り出す    で は を\n",
        "```\n",
        "\n",
        "このプログラムの出力をファイルに保存し，以下の事項をUNIXコマンドを用いて確認せよ．  \n",
        "\n",
        "- コーパス中で頻出する述語と格パターンの組み合わせ\n",
        "- 「行う」「なる」「与える」という動詞の格パターン（コーパス中で出現頻度の高い順に並べよ）\n"
      ]
    },
    {
      "cell_type": "markdown",
      "metadata": {
        "id": "8Ox_UrffwXXe"
      },
      "source": [
        "## 46. 動詞の格フレーム情報の抽出\n",
        "45のプログラムを改変し，述語と格パターンに続けて項（述語に係っている文節そのもの）をタブ区切り形式で出力せよ．45の仕様に加えて，以下の仕様を満たすようにせよ．\n",
        "\n",
        "項は述語に係っている文節の単語列とする（末尾の助詞を取り除く必要はない）\n",
        "述語に係る文節が複数あるときは，助詞と同一の基準・順序でスペース区切りで並べる\n",
        "「ジョン・マッカーシーはAIに関する最初の会議で人工知能という用語を作り出した。」という例文を考える． この文は「作り出す」という１つの動詞を含み，「作り出す」に係る文節は「ジョン・マッカーシーは」，「会議で」，「用語を」であると解析された場合は，次のような出力になるはずである．\n",
        "\n",
        "```\n",
        "作り出す\tで は を\t会議で ジョンマッカーシーは 用語を\n",
        "```"
      ]
    },
    {
      "cell_type": "markdown",
      "metadata": {
        "id": "bvaOyYwWQ97j"
      },
      "source": [
        "## 46. 動詞の格フレーム情報の抽出\n",
        "45のプログラムを改変し，述語と格パターンに続けて項（述語に係っている文節そのもの）をタブ区切り形式で出力せよ．45の仕様に加えて，以下の仕様を満たすようにせよ．\n",
        "\n",
        "項は述語に係っている文節の単語列とする（末尾の助詞を取り除く必要はない）\n",
        "述語に係る文節が複数あるときは，助詞と同一の基準・順序でスペース区切りで並べる\n",
        "「ジョン・マッカーシーはAIに関する最初の会議で人工知能という用語を作り出した。」という例文を考える． この文は「作り出す」という１つの動詞を含み，「作り出す」に係る文節は「ジョン・マッカーシーは」，「会議で」，「用語を」であると解析された場合は，次のような出力になるはずである．\n",
        "```\n",
        "作り出す\tで は を\t会議で ジョンマッカーシーは 用語を\n",
        "```"
      ]
    },
    {
      "cell_type": "markdown",
      "metadata": {
        "id": "VM9uhNIvRH1d"
      },
      "source": [
        "## 47. 機能動詞構文のマイニング\n",
        "動詞のヲ格にサ変接続名詞が入っている場合のみに着目したい．46のプログラムを以下の仕様を満たすように改変せよ．\n",
        "\n",
        "「サ変接続名詞+を（助詞）」で構成される文節が動詞に係る場合のみを対象とする\n",
        "述語は「サ変接続名詞+を+動詞の基本形」とし，文節中に複数の動詞があるときは，最左の動詞を用いる\n",
        "述語に係る助詞（文節）が複数あるときは，すべての助詞をスペース区切りで辞書順に並べる\n",
        "述語に係る文節が複数ある場合は，すべての項をスペース区切りで並べる（助詞の並び順と揃えよ）\n",
        "例えば「また、自らの経験を元に学習を行う強化学習という手法もある。」という文から，以下の出力が得られるはずである．\n",
        "\n",
        "```\n",
        "学習を行う\tに を\t元に 経験を\n",
        "```"
      ]
    },
    {
      "cell_type": "markdown",
      "metadata": {
        "id": "VPRpfyGrRM-c"
      },
      "source": [
        "## 48. 名詞から根へのパスの抽出\n",
        "文中のすべての名詞を含む文節に対し，その文節から構文木の根に至るパスを抽出せよ． ただし，構文木上のパスは以下の仕様を満たすものとする．\n",
        "\n",
        "各文節は（表層形の）形態素列で表現する\n",
        "パスの開始文節から終了文節に至るまで，各文節の表現を” -> “で連結する\n",
        "「ジョン・マッカーシーはAIに関する最初の会議で人工知能という用語を作り出した。」という例文を考える． CaboChaを係り受け解析に用いた場合，次のような出力が得られると思われる．\n",
        "```\n",
        "ジョンマッカーシーは -> 作り出した\n",
        "AIに関する -> 最初の -> 会議で -> 作り出した\n",
        "最初の -> 会議で -> 作り出した\n",
        "会議で -> 作り出した\n",
        "人工知能という -> 用語を -> 作り出した\n",
        "用語を -> 作り出した\n",
        "```\n",
        "KNPを係り受け解析に用いた場合，次のような出力が得られると思われる．\n",
        "\n",
        "```\n",
        "ジョンマッカーシーは -> 作り出した\n",
        "ＡＩに -> 関する -> 会議で -> 作り出した\n",
        "会議で -> 作り出した\n",
        "人工知能と -> いう -> 用語を -> 作り出した\n",
        "用語を -> 作り出した\n",
        "```"
      ]
    },
    {
      "cell_type": "code",
      "metadata": {
        "id": "47UOOEa6RMqx"
      },
      "source": [
        ""
      ],
      "execution_count": null,
      "outputs": []
    },
    {
      "cell_type": "markdown",
      "metadata": {
        "id": "rwN4f-VORXSm"
      },
      "source": [
        "## 49. 名詞間の係り受けパスの抽出\n",
        "文中のすべての名詞句のペアを結ぶ最短係り受けパスを抽出せよ．ただし，名詞句ペアの文節番号が$i$と$j$（$i$<$j$）のとき，係り受けパスは以下の仕様を満たすものとする．\n",
        "\n",
        "\n",
        "- 問題48と同様に，パスは開始文節から終了文節に至るまでの各文節の表現（表層形の形態素列）を” -> “で連結して表現する\n",
        "- 文節$i$と$j$に含まれる名詞句はそれぞれ，XとYに置換する\n",
        "\n",
        "また，係り受けパスの形状は，以下の2通りが考えられる．\n",
        "\n",
        "- 文節$i$から構文木の根に至る経路上に文節$j$が存在する場合: 文節$i$から文節$j$のパスを表示\n",
        "- 上記以外で，文節$i$と文節$j$から構文木の根に至る経路上で共通の文節$k$で交わる場合: 文節$i$から文節$k$に至る直前のパスと文節$j$から文節$k$に至る直前までのパス，文節$k$の内容を” | “で連結して表示"
      ]
    },
    {
      "cell_type": "markdown",
      "metadata": {
        "id": "LOkFiNQNR1HH"
      },
      "source": [
        "「ジョン・マッカーシーはAIに関する最初の会議で人工知能という用語を作り出した。」という例文を考える． CaboChaを係り受け解析に用いた場合，次のような出力が得られると思われる．\n",
        "```\n",
        "Xは | Yに関する -> 最初の -> 会議で | 作り出した\n",
        "Xは | Yの -> 会議で | 作り出した\n",
        "Xは | Yで | 作り出した\n",
        "Xは | Yという -> 用語を | 作り出した\n",
        "Xは | Yを | 作り出した\n",
        "Xに関する -> Yの\n",
        "Xに関する -> 最初の -> Yで\n",
        "Xに関する -> 最初の -> 会議で | Yという -> 用語を | 作り出した\n",
        "Xに関する -> 最初の -> 会議で | Yを | 作り出した\n",
        "Xの -> Yで\n",
        "Xの -> 会議で | Yという -> 用語を | 作り出した\n",
        "Xの -> 会議で | Yを | 作り出した\n",
        "Xで | Yという -> 用語を | 作り出した\n",
        "Xで | Yを | 作り出した\n",
        "Xという -> Yを\n",
        "```\n",
        "\n",
        "KNPを係り受け解析に用いた場合，次のような出力が得られると思われる．\n",
        "\n",
        "```\n",
        "Xは | Yに -> 関する -> 会議で | 作り出した。\n",
        "Xは | Yで | 作り出した。\n",
        "Xは | Yと -> いう -> 用語を | 作り出した。\n",
        "Xは | Yを | 作り出した。\n",
        "Xに -> 関する -> Yで\n",
        "Xに -> 関する -> 会議で | Yと -> いう -> 用語を | 作り出した。\n",
        "Xに -> 関する -> 会議で | Yを | 作り出した。\n",
        "Xで | Yと -> いう -> 用語を | 作り出した。\n",
        "Xで | Yを | 作り出した。\n",
        "Xと -> いう -> Yを\n",
        "```"
      ]
    },
    {
      "cell_type": "code",
      "metadata": {
        "id": "bnUdTrVAR72F"
      },
      "source": [
        ""
      ],
      "execution_count": null,
      "outputs": []
    }
  ]
}