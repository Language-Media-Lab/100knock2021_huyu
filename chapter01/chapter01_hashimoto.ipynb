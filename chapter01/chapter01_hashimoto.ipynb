{
 "cells": [
  {
   "cell_type": "code",
   "execution_count": 3,
   "id": "c3e524d3",
   "metadata": {
    "scrolled": true
   },
   "outputs": [
    {
     "name": "stdout",
     "output_type": "stream",
     "text": [
      "desserts\n"
     ]
    },
    {
     "data": {
      "text/plain": [
       "'desserts'"
      ]
     },
     "execution_count": 3,
     "metadata": {},
     "output_type": "execute_result"
    }
   ],
   "source": [
    "s=\"stressed\"\n",
    "n=len(s)\n",
    "t=\"\"\n",
    "for i in s:\n",
    "    t=i+t\n",
    "print(t)\n",
    "s[::-1]"
   ]
  },
  {
   "cell_type": "code",
   "execution_count": 2,
   "id": "94d25691",
   "metadata": {},
   "outputs": [
    {
     "data": {
      "text/plain": [
       "'パトカー'"
      ]
     },
     "execution_count": 2,
     "metadata": {},
     "output_type": "execute_result"
    }
   ],
   "source": [
    "s=\"パタトクカシーー\"\n",
    "s[::2]"
   ]
  },
  {
   "cell_type": "code",
   "execution_count": 39,
   "id": "f0a3ff59",
   "metadata": {},
   "outputs": [
    {
     "name": "stdout",
     "output_type": "stream",
     "text": [
      "パタトクカシーー\n"
     ]
    }
   ],
   "source": [
    "s1=\"パトカー\"\n",
    "s2=\"タクシー\"\n",
    "t=\"\"\n",
    "n=len(s1)\n",
    "for i in range(n):\n",
    "    t=t+s1[i]+s2[i]\n",
    "print(t)"
   ]
  },
  {
   "cell_type": "code",
   "execution_count": 51,
   "id": "9e900e8a",
   "metadata": {},
   "outputs": [
    {
     "name": "stdout",
     "output_type": "stream",
     "text": [
      "3\n",
      "1\n",
      "4\n",
      "1\n",
      "5\n",
      "9\n",
      "2\n",
      "6\n",
      "5\n",
      "3\n",
      "5\n",
      "8\n",
      "9\n",
      "7\n",
      "9\n"
     ]
    }
   ],
   "source": [
    "s=\"Now I need a drink, alcoholic of course, after the heavy lectures involving quantum mechanics.\"\n",
    "n=0\n",
    "for i in s:\n",
    "    n+=1\n",
    "    if i==\" \" or i==\",\" or i==\".\":\n",
    "        n-=1\n",
    "        if n!=0:\n",
    "            print(n)\n",
    "            n=0\n",
    "    \n",
    "        "
   ]
  },
  {
   "cell_type": "code",
   "execution_count": 55,
   "id": "114dd267",
   "metadata": {},
   "outputs": [
    {
     "name": "stdout",
     "output_type": "stream",
     "text": [
      "['Now', 'I', 'need', 'a', 'drink,', 'alcoholic', 'of', 'course,', 'after', 'the', 'heavy', 'lectures', 'involving', 'quantum', 'mechanics.']\n",
      "3\n",
      "1\n",
      "4\n",
      "1\n",
      "5\n",
      "9\n",
      "2\n",
      "6\n",
      "5\n",
      "3\n",
      "5\n",
      "8\n",
      "9\n",
      "7\n",
      "9\n"
     ]
    }
   ],
   "source": [
    "s=\"Now I need a drink, alcoholic of course, after the heavy lectures involving quantum mechanics.\"\n",
    "s1=s.split(\" \")\n",
    "print(s1)\n",
    "for s2 in s1:\n",
    "    print(len(s2.replace(\",\",\"\").replace(\".\",\"\")))"
   ]
  },
  {
   "cell_type": "code",
   "execution_count": 22,
   "id": "dddf6ebf",
   "metadata": {},
   "outputs": [
    {
     "name": "stdout",
     "output_type": "stream",
     "text": [
      "['Hi', 'He', 'Lied', 'Because', 'Boron', 'Could', 'Not', 'Oxidize', 'Fluorine.', 'New', 'Nations', 'Might', 'Also', 'Sign', 'Peace', 'Security', 'Clause.', 'Arthur', 'King', 'Can.']\n",
      "H\n",
      "He\n",
      "Li\n",
      "Be\n",
      "B\n",
      "C\n",
      "N\n",
      "O\n",
      "F\n",
      "Ne\n",
      "Na\n",
      "Mi\n",
      "Al\n",
      "Si\n",
      "P\n",
      "S\n",
      "Cl\n",
      "Ar\n",
      "K\n",
      "Ca\n"
     ]
    }
   ],
   "source": [
    "s=\"Hi He Lied Because Boron Could Not Oxidize Fluorine. New Nations Might Also Sign Peace Security Clause. Arthur King Can.\"\n",
    "s1=s.split(\" \")\n",
    "print(s1)\n",
    "i=0\n",
    "elementList={}\n",
    "for s2 in s1:\n",
    "    i+=1\n",
    "    if i==1 or i==5 or i==6 or i==7 or i==8 or i==9 or i==15 or i==16 or i==19:\n",
    "        elementList[i]=s2[0]\n",
    "    else:\n",
    "        elementList[i]=s2[0]+s2[1]\n",
    "for n in elementList:\n",
    "    print(elementList[n])"
   ]
  },
  {
   "cell_type": "code",
   "execution_count": 44,
   "id": "fb67a199",
   "metadata": {},
   "outputs": [
    {
     "name": "stdout",
     "output_type": "stream",
     "text": [
      "Ia\n",
      "ma\n",
      "nN\n",
      "LP\n",
      "er\n"
     ]
    }
   ],
   "source": [
    "def n_gram(n,s):\n",
    "    num=0\n",
    "    s1=s.split(\" \")\n",
    "    s2=\"\"\n",
    "    for i in s1:\n",
    "        s2+=s1[num]\n",
    "        num+=1\n",
    "    num=0\n",
    "    s3=\"\"\n",
    "    for i in s2:\n",
    "        num+=1\n",
    "        s3+=i\n",
    "        if(num==n):\n",
    "            print(s3)\n",
    "            num=0\n",
    "            s3=\"\"\n",
    "            \n",
    "n_gram(2,\"I am an NLPer\")\n"
   ]
  },
  {
   "cell_type": "code",
   "execution_count": 57,
   "id": "e41a22cf",
   "metadata": {},
   "outputs": [
    {
     "name": "stdout",
     "output_type": "stream",
     "text": [
      "['Iam', 'anNLPer']\n"
     ]
    }
   ],
   "source": [
    "def n_gram(n,w,s):         #n:n-gram,w=0:単語bigram,他:文字bigram,s=シーケンス\n",
    "    num=0\n",
    "    s1=s.split(\" \")\n",
    "    s5=[]\n",
    "    if(w==0):              #単語bigram\n",
    "        num=0\n",
    "        s2=\"\"\n",
    "        for i in s1:\n",
    "            num+=1\n",
    "            s2+=i\n",
    "            if(num==n):\n",
    "                s5.append(s2)\n",
    "                num=0\n",
    "                s2=\"\"\n",
    "    else:                  #文字bigram\n",
    "        s3=\"\"\n",
    "        for i in s1:\n",
    "            s3+=s1[num]\n",
    "            num+=1\n",
    "        num=0\n",
    "        s4=\"\"\n",
    "        for i in s3:\n",
    "            num+=1\n",
    "            s4+=i\n",
    "            if(num==n):\n",
    "                s5.append(s4)\n",
    "                num=0\n",
    "                s4=\"\"\n",
    "    return(s5)\n",
    "            \n",
    "print(n_gram(2,0,\"I am an NLPer\"))\n"
   ]
  },
  {
   "cell_type": "code",
   "execution_count": 60,
   "id": "9fbc505f",
   "metadata": {},
   "outputs": [
    {
     "name": "stdout",
     "output_type": "stream",
     "text": [
      "{'se', 'di', 'ra', 'pa'} {'ap', 'ra', 'gr', 'pa'}\n",
      "{'se', 'pa', 'ra', 'di', 'ap', 'gr'} {'ra', 'pa'} {'se', 'di'}\n",
      "1\n",
      "0\n",
      "0\n",
      "0\n",
      "0\n",
      "0\n",
      "0\n",
      "0\n"
     ]
    }
   ],
   "source": [
    "def n_gram(n,s):\n",
    "    num=0\n",
    "    s1=s.split(\" \")\n",
    "    s2=\"\"\n",
    "    s4=[]\n",
    "    for i in s1:\n",
    "        s2+=s1[num]\n",
    "        num+=1\n",
    "    num=0\n",
    "    s3=\"\"\n",
    "    for i in s2:\n",
    "        num+=1\n",
    "        s3+=i\n",
    "        if(num==n):\n",
    "            s4.append(s3)\n",
    "            num=0\n",
    "            s3=\"\"\n",
    "    return(s4)\n",
    "            \n",
    "X=set(n_gram(2,\"paraparaparadise\"))\n",
    "Y=set(n_gram(2,\"paragraph\"))\n",
    "\n",
    "print(X,Y)\n",
    "\n",
    "X_Y_union=X|Y\n",
    "X_Y_intersection=X&Y\n",
    "X_Y_differnce=X-Y\n",
    "\n",
    "print(X_Y_union,X_Y_intersection,X_Y_differnce)\n",
    "\n",
    "for i in X:\n",
    "    if(i==\"se\"):\n",
    "        print(1)\n",
    "    else:\n",
    "        print(0)\n",
    "for i in Y:\n",
    "    if(i==\"se\"):\n",
    "        print(1)\n",
    "    else:\n",
    "        print(0)"
   ]
  },
  {
   "cell_type": "code",
   "execution_count": 73,
   "id": "5080117c",
   "metadata": {},
   "outputs": [
    {
     "name": "stdout",
     "output_type": "stream",
     "text": [
      "12時の気温は22.4\n"
     ]
    }
   ],
   "source": [
    "def temp(x,y,z):\n",
    "    x1=str(x)\n",
    "    y1=str(y)\n",
    "    z1=str(z)\n",
    "    s=\"\"\n",
    "    s=x1+\"時の\"+y1+\"は\"+z1\n",
    "    print(s)\n",
    "\n",
    "temp(12,\"気温\",22.4)"
   ]
  },
  {
   "cell_type": "code",
   "execution_count": null,
   "id": "f0d1b57d",
   "metadata": {},
   "outputs": [],
   "source": [
    "def cipher:\n",
    "    "
   ]
  }
 ],
 "metadata": {
  "kernelspec": {
   "display_name": "Python 3",
   "language": "python",
   "name": "python3"
  },
  "language_info": {
   "codemirror_mode": {
    "name": "ipython",
    "version": 3
   },
   "file_extension": ".py",
   "mimetype": "text/x-python",
   "name": "python",
   "nbconvert_exporter": "python",
   "pygments_lexer": "ipython3",
   "version": "3.8.8"
  }
 },
 "nbformat": 4,
 "nbformat_minor": 5
}
