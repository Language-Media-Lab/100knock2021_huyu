{
 "cells": [
  {
   "cell_type": "code",
   "execution_count": 3,
   "id": "c3e524d3",
   "metadata": {
    "scrolled": true
   },
   "outputs": [
    {
     "name": "stdout",
     "output_type": "stream",
     "text": [
      "desserts\n"
     ]
    },
    {
     "data": {
      "text/plain": [
       "'desserts'"
      ]
     },
     "execution_count": 3,
     "metadata": {},
     "output_type": "execute_result"
    }
   ],
   "source": [
    "#00\n",
    "s=\"stressed\"\n",
    "n=len(s)\n",
    "t=\"\"\n",
    "for i in s:\n",
    "    t=i+t\n",
    "print(t)\n",
    "s[::-1]"
   ]
  },
  {
   "cell_type": "code",
   "execution_count": 46,
   "id": "94d25691",
   "metadata": {},
   "outputs": [
    {
     "data": {
      "text/plain": [
       "'パトカー'"
      ]
     },
     "execution_count": 46,
     "metadata": {},
     "output_type": "execute_result"
    }
   ],
   "source": [
    "#01\n",
    "s=\"パタトクカシーー\"\n",
    "s[::2]\n",
    "#[start:stop:step]"
   ]
  },
  {
   "cell_type": "code",
   "execution_count": 48,
   "id": "f0a3ff59",
   "metadata": {},
   "outputs": [
    {
     "name": "stdout",
     "output_type": "stream",
     "text": [
      "パタトクカシーー\n"
     ]
    }
   ],
   "source": [
    "#02\n",
    "s1=\"パトカー\"\n",
    "s2=\"タクシー\"\n",
    "t=\"\"\n",
    "n=len(s1)\n",
    "for i in range(n):\n",
    "    t+=s1[i]+s2[i]\n",
    "print(t)"
   ]
  },
  {
   "cell_type": "code",
   "execution_count": 51,
   "id": "9e900e8a",
   "metadata": {},
   "outputs": [
    {
     "name": "stdout",
     "output_type": "stream",
     "text": [
      "3\n",
      "1\n",
      "4\n",
      "1\n",
      "5\n",
      "9\n",
      "2\n",
      "6\n",
      "5\n",
      "3\n",
      "5\n",
      "8\n",
      "9\n",
      "7\n",
      "9\n"
     ]
    }
   ],
   "source": [
    "#03\n",
    "s=\"Now I need a drink, alcoholic of course, after the heavy lectures involving quantum mechanics.\"\n",
    "n=0\n",
    "for i in s:\n",
    "    n+=1\n",
    "    if i==\" \" or i==\",\" or i==\".\":\n",
    "        n-=1\n",
    "        if n!=0:\n",
    "            print(n)\n",
    "            n=0\n",
    "    \n",
    "        "
   ]
  },
  {
   "cell_type": "code",
   "execution_count": 55,
   "id": "114dd267",
   "metadata": {},
   "outputs": [
    {
     "name": "stdout",
     "output_type": "stream",
     "text": [
      "['Now', 'I', 'need', 'a', 'drink,', 'alcoholic', 'of', 'course,', 'after', 'the', 'heavy', 'lectures', 'involving', 'quantum', 'mechanics.']\n",
      "3\n",
      "1\n",
      "4\n",
      "1\n",
      "5\n",
      "9\n",
      "2\n",
      "6\n",
      "5\n",
      "3\n",
      "5\n",
      "8\n",
      "9\n",
      "7\n",
      "9\n"
     ]
    }
   ],
   "source": [
    "s=\"Now I need a drink, alcoholic of course, after the heavy lectures involving quantum mechanics.\"\n",
    "s1=s.split(\" \")\n",
    "print(s1)\n",
    "for s2 in s1:\n",
    "    print(len(s2.replace(\",\",\"\").replace(\".\",\"\")))"
   ]
  },
  {
   "cell_type": "code",
   "execution_count": 2,
   "id": "dddf6ebf",
   "metadata": {},
   "outputs": [
    {
     "name": "stdout",
     "output_type": "stream",
     "text": [
      "['Hi', 'He', 'Lied', 'Because', 'Boron', 'Could', 'Not', 'Oxidize', 'Fluorine.', 'New', 'Nations', 'Might', 'Also', 'Sign', 'Peace', 'Security', 'Clause.', 'Arthur', 'King', 'Can.']\n",
      "{1: 'H', 2: 'He', 3: 'Li', 4: 'Be', 5: 'B', 6: 'C', 7: 'N', 8: 'O', 9: 'F', 10: 'Ne', 11: 'Na', 12: 'Mi', 13: 'Al', 14: 'Si', 15: 'P', 16: 'S', 17: 'Cl', 18: 'Ar', 19: 'K', 20: 'Ca'}\n"
     ]
    }
   ],
   "source": [
    "#04\n",
    "s=\"Hi He Lied Because Boron Could Not Oxidize Fluorine. New Nations Might Also Sign Peace Security Clause. Arthur King Can.\"\n",
    "s1=s.split(\" \")\n",
    "print(s1)\n",
    "i=0\n",
    "elementList={}\n",
    "for s2 in s1:\n",
    "    i+=1\n",
    "    if i==1 or i==5 or i==6 or i==7 or i==8 or i==9 or i==15 or i==16 or i==19:\n",
    "        elementList[i]=s2[0] #elementList[key]=s2[value]\n",
    "    else:\n",
    "        elementList[i]=s2[0]+s2[1]\n",
    "\n",
    "print(elementList)"
   ]
  },
  {
   "cell_type": "code",
   "execution_count": 49,
   "id": "fb67a199",
   "metadata": {},
   "outputs": [
    {
     "name": "stdout",
     "output_type": "stream",
     "text": [
      "Ia\n",
      "ma\n",
      "nN\n",
      "LP\n",
      "er\n"
     ]
    }
   ],
   "source": [
    "#05\n",
    "def n_gram(n,s):\n",
    "    num=0\n",
    "    s1=s.split(\" \")\n",
    "    s2=\"\"\n",
    "    for i in s1:\n",
    "        s2+=s1[num]\n",
    "        num+=1\n",
    "    num=0\n",
    "    s3=\"\"\n",
    "    for i in s2:\n",
    "        num+=1\n",
    "        s3+=i\n",
    "        if(num==n):\n",
    "            print(s3)\n",
    "            num=0\n",
    "            s3=\"\"\n",
    "            \n",
    "n_gram(2,\"I am an NLPer\")\n"
   ]
  },
  {
   "cell_type": "code",
   "execution_count": 17,
   "id": "e41a22cf",
   "metadata": {},
   "outputs": [
    {
     "name": "stdout",
     "output_type": "stream",
     "text": [
      "['Iam', 'aman', 'anNLPer']\n"
     ]
    }
   ],
   "source": [
    "#05\n",
    "def n_gram(n,s):\n",
    "    num=0\n",
    "    m=0\n",
    "    s1=\"\"\n",
    "    s2=[]\n",
    "\n",
    "    for i in range(len(s)-n+1):#全体の単語（文字）数-n_gram+1回\n",
    "        for k in range(n):#num番目の数からn個走査\n",
    "            s1+=s[num+m]#文字列s1にnum番目からn個の文字追加\n",
    "            m+=1\n",
    "        s2.append(s1)#文字列s1をリストs2に格納\n",
    "        s1=\"\"#s1を初期化\n",
    "        m=0\n",
    "        num+=1\n",
    "        \n",
    "    return(s2)\n",
    "\n",
    "\n",
    "s=[\"I\",\"am\",\"an\",\"NLPer\"]\n",
    "print(n_gram(2,s))\n",
    "\n"
   ]
  },
  {
   "cell_type": "code",
   "execution_count": 18,
   "id": "9fbc505f",
   "metadata": {},
   "outputs": [
    {
     "name": "stdout",
     "output_type": "stream",
     "text": [
      "{'ar', 'ap', 'di', 'ra', 'is', 'se', 'pa', 'ad'} {'ph', 'ar', 'gr', 'ap', 'ra', 'ag', 'pa'}\n",
      "{'ph', 'ar', 'ap', 'di', 'ra', 'ag', 'is', 'se', 'gr', 'pa', 'ad'} {'ap', 'pa', 'ra', 'ar'} {'ad', 'di', 'is', 'se'}\n",
      "0\n",
      "0\n",
      "0\n",
      "0\n",
      "0\n",
      "1\n",
      "0\n",
      "0\n",
      "0\n",
      "0\n",
      "0\n",
      "0\n",
      "0\n",
      "0\n",
      "0\n"
     ]
    }
   ],
   "source": [
    "#06\n",
    "def n_gram(n,s):\n",
    "    num=0\n",
    "    m=0\n",
    "    s1=\"\"\n",
    "    s2=[]\n",
    "\n",
    "    for i in range(len(s)-n+1):#全体の単語（文字）数-n_gram+1回\n",
    "        for k in range(n):#num番目の数からn個走査\n",
    "            s1+=s[num+m]#文字列s1にnum番目からn個の文字追加\n",
    "            m+=1\n",
    "        s2.append(s1)#文字列s1をリストs2に格納\n",
    "        s1=\"\"#s1を初期化\n",
    "        m=0\n",
    "        num+=1\n",
    "        \n",
    "    return(s2)\n",
    "\n",
    "x=['p','a','r','a','p','a','r','a','p','a','r','a','d','i','s','e']\n",
    "y=['p','a','r','a','g','r','a','p','h']\n",
    "\n",
    "X=set(n_gram(2,x))\n",
    "Y=set(n_gram(2,y))\n",
    "\n",
    "print(X,Y)\n",
    "\n",
    "X_Y_union=X|Y\n",
    "X_Y_intersection=X&Y\n",
    "X_Y_differnce=X-Y\n",
    "\n",
    "print(X_Y_union,X_Y_intersection,X_Y_differnce)\n",
    "\n",
    "for i in X:\n",
    "    if(i==\"se\"):\n",
    "        print(1)\n",
    "    else:\n",
    "        print(0)\n",
    "for i in Y:\n",
    "    if(i==\"se\"):\n",
    "        print(1)\n",
    "    else:\n",
    "        print(0)"
   ]
  },
  {
   "cell_type": "code",
   "execution_count": 73,
   "id": "5080117c",
   "metadata": {},
   "outputs": [
    {
     "name": "stdout",
     "output_type": "stream",
     "text": [
      "12時の気温は22.4\n"
     ]
    }
   ],
   "source": [
    "#07\n",
    "def temp(x,y,z):\n",
    "    x1=str(x)\n",
    "    y1=str(y)\n",
    "    z1=str(z)\n",
    "    s=\"\"\n",
    "    s=x1+\"時の\"+y1+\"は\"+z1\n",
    "    print(s)\n",
    "\n",
    "temp(12,\"気温\",22.4)"
   ]
  },
  {
   "cell_type": "code",
   "execution_count": 64,
   "id": "f0d1b57d",
   "metadata": {},
   "outputs": [
    {
     "name": "stdout",
     "output_type": "stream",
     "text": [
      "I zn zm NLPvi\n"
     ]
    },
    {
     "data": {
      "text/plain": [
       "'I am an NLPer'"
      ]
     },
     "execution_count": 64,
     "metadata": {},
     "output_type": "execute_result"
    }
   ],
   "source": [
    "#08\n",
    "def cipher(sentense):\n",
    "    sentenseList=[]\n",
    "    result=''\n",
    "    \n",
    "    for i in range(len(sentense)):\n",
    "        if sentense[i].islower(): #islower:全て小文字の時True\n",
    "            sentenseList.insert(i,chr(219-ord(sentense[i])))\n",
    "            #insert:リストのi番目に要素を追加\n",
    "            #ord:一文字をUnicodeに変換\n",
    "        \n",
    "        else:\n",
    "            sentenseList.insert(i,sentense[i])\n",
    "    \n",
    "    for j in range(len(sentense)):\n",
    "        result+=sentenseList[j]\n",
    "        \n",
    "    return result\n",
    "\n",
    "txt=cipher(\"I am an NLPer\")\n",
    "print(txt)\n",
    "cipher(txt)"
   ]
  },
  {
   "cell_type": "code",
   "execution_count": 150,
   "id": "23ec43b8",
   "metadata": {},
   "outputs": [
    {
     "name": "stdout",
     "output_type": "stream",
     "text": [
      "I cduoln’t beielve that I could aucltaly udnasrentd what I was redniag : the pnoemhenal pewor of the hmuan mind .\n"
     ]
    }
   ],
   "source": [
    "#09\n",
    "import random\n",
    "\n",
    "def Typogrlycemia(sentense):\n",
    "    result=\"\"\n",
    "    w=\"\"\n",
    "    wordList=sentense.split(\" \")\n",
    "    for i in range(len(wordList)):\n",
    "        charList=[]\n",
    "        word=wordList[i]\n",
    "        for j in range(len(word)):\n",
    "            charList.insert(j,word[j])\n",
    "\n",
    "        if len(charList)<=4:\n",
    "            for k in charList:\n",
    "                w+=k\n",
    "        else:\n",
    "            newList=[]\n",
    "            cnt=len(charList)-1\n",
    "            lastch=\"\"\n",
    "            lastch=charList[cnt] #リストの最後の文字を保存しておく\n",
    "            charList.pop() #リストから最後の文字を取り除く\n",
    "            newList.insert(0,charList[0])\n",
    "            charList.pop(0)\n",
    "            for k in range(len(charList)):\n",
    "                rnum=random.randrange(0,len(charList)) #0〜charListの長さランダムな数字\n",
    "                newList.insert(rnum+1,charList[rnum])\n",
    "                charList.pop(rnum)\n",
    "            newList.insert(cnt,lastch)\n",
    "            for l in newList:\n",
    "                w+=l\n",
    "                \n",
    "        \n",
    "        result+=w\n",
    "        w=\"\"\n",
    "        result+=\" \"\n",
    "        \n",
    "    result.rstrip()\n",
    "    result2=result.rstrip() #最後の文字を文字列から削除\n",
    "    return(result2)\n",
    "    \n",
    "    \n",
    "print(Typogrlycemia(\"I couldn’t believe that I could actually understand what I was reading : the phenomenal power of the human mind .\"))"
   ]
  },
  {
   "cell_type": "code",
   "execution_count": null,
   "id": "344e6c2d",
   "metadata": {},
   "outputs": [],
   "source": []
  },
  {
   "cell_type": "code",
   "execution_count": null,
   "id": "b0c86024",
   "metadata": {},
   "outputs": [],
   "source": []
  }
 ],
 "metadata": {
  "kernelspec": {
   "display_name": "Python 3",
   "language": "python",
   "name": "python3"
  },
  "language_info": {
   "codemirror_mode": {
    "name": "ipython",
    "version": 3
   },
   "file_extension": ".py",
   "mimetype": "text/x-python",
   "name": "python",
   "nbconvert_exporter": "python",
   "pygments_lexer": "ipython3",
   "version": "3.8.8"
  }
 },
 "nbformat": 4,
 "nbformat_minor": 5
}
