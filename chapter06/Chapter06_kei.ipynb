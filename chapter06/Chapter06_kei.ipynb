{
  "nbformat": 4,
  "nbformat_minor": 0,
  "metadata": {
    "colab": {
      "name": "Chapter06_kei.ipynb",
      "provenance": [],
      "collapsed_sections": []
    },
    "kernelspec": {
      "name": "python3",
      "display_name": "Python 3"
    }
  },
  "cells": [
    {
      "cell_type": "markdown",
      "metadata": {
        "id": "L_PkjDeDt2Hs"
      },
      "source": [
        "# 6章 機械学習  \n",
        "本章では，Fabio Gasparetti氏が公開しているNews Aggregator Data Setを用い，ニュース記事の見出しを「ビジネス」「科学技術」「エンターテイメント」「健康」のカテゴリに分類するタスク（カテゴリ分類）に取り組む．"
      ]
    },
    {
      "cell_type": "markdown",
      "metadata": {
        "id": "xV-h7VC0uA2o"
      },
      "source": [
        "## 50. データの入手・整形\n",
        "[News Aggregator Data Set](https://archive.ics.uci.edu/ml/datasets/News+Aggregator)をダウンロードし、以下の要領で学習データ（train.txt），検証データ（valid.txt），評価データ（test.txt）を作成せよ．  \n",
        "\n",
        " 1. ダウンロードしたzipファイルを解凍し，readme.txtの説明を読む．\n",
        " 2. 情報源（publisher）が”Reuters”, “Huffington Post”, “Businessweek”, “Contactmusic.com”, “Daily Mail”の事例（記事）のみを抽出する．\n",
        " 3. 抽出された事例をランダムに並び替える．\n",
        " 4. 抽出された事例の80%を学習データ，残りの10%ずつを検証データと評価データに分割し，それぞれtrain.txt，valid.txt，test.txtというファイル名で保存する．ファイルには，１行に１事例を書き出すこととし，カテゴリ名と記事見出しのタブ区切り形式とせよ（このファイルは後に問題70で再利用する）．  \n",
        "\n",
        "学習データと評価データを作成したら，各カテゴリの事例数を確認せよ．"
      ]
    },
    {
      "cell_type": "code",
      "source": [
        "!wget https://archive.ics.uci.edu/ml/machine-learning-databases/00359/NewsAggregatorDataset.zip\n",
        "!unzip NewsAggregatorDataset"
      ],
      "metadata": {
        "colab": {
          "base_uri": "https://localhost:8080/"
        },
        "id": "j5m-hiOVjZuJ",
        "outputId": "16d4ee29-a129-43a6-983e-23043ffc5d6b"
      },
      "execution_count": 1,
      "outputs": [
        {
          "output_type": "stream",
          "name": "stdout",
          "text": [
            "--2022-02-17 11:39:38--  https://archive.ics.uci.edu/ml/machine-learning-databases/00359/NewsAggregatorDataset.zip\n",
            "Resolving archive.ics.uci.edu (archive.ics.uci.edu)... 128.195.10.252\n",
            "Connecting to archive.ics.uci.edu (archive.ics.uci.edu)|128.195.10.252|:443... connected.\n",
            "HTTP request sent, awaiting response... 200 OK\n",
            "Length: 29224203 (28M) [application/x-httpd-php]\n",
            "Saving to: ‘NewsAggregatorDataset.zip’\n",
            "\n",
            "NewsAggregatorDatas 100%[===================>]  27.87M  13.2MB/s    in 2.1s    \n",
            "\n",
            "2022-02-17 11:39:41 (13.2 MB/s) - ‘NewsAggregatorDataset.zip’ saved [29224203/29224203]\n",
            "\n",
            "Archive:  NewsAggregatorDataset.zip\n",
            "  inflating: 2pageSessions.csv       \n",
            "   creating: __MACOSX/\n",
            "  inflating: __MACOSX/._2pageSessions.csv  \n",
            "  inflating: newsCorpora.csv         \n",
            "  inflating: __MACOSX/._newsCorpora.csv  \n",
            "  inflating: readme.txt              \n",
            "  inflating: __MACOSX/._readme.txt   \n"
          ]
        }
      ]
    },
    {
      "cell_type": "code",
      "source": [
        "\n",
        "'''\n",
        "newsCorpora.csvはpublisher情報を含むデータセット.\n",
        "FILENAME #1: newsCorpora.csv (102.297.000 bytes)\n",
        "DESCRIPTION: News pages\n",
        "FORMAT: ID \\t TITLE \\t URL \\t PUBLISHER \\t CATEGORY \\t STORY \\t HOSTNAME \\t TIMESTAMP\n",
        "\n",
        "where:\n",
        "ID\t\tNumeric ID\n",
        "TITLE\t\tNews title 記事見出し\n",
        "URL\t\tUrl\n",
        "PUBLISHER\tPublisher name\n",
        "CATEGORY\tNews category (b = business, t = science and technology, e = entertainment, m = health)　カテゴリ\n",
        "STORY\t\tAlphanumeric ID of the cluster that includes news about the same story\n",
        "HOSTNAME\tUrl hostname\n",
        "TIMESTAMP \tApproximate time the news was published, as the number of milliseconds since the epoch 00:00:00 GMT, January 1, 1970\n",
        "'''\n",
        "filename = 'newsCorpora.csv'\n",
        "targetPublishers = ['Reuters', 'Huffington Post', 'Businessweek', 'Contactmusic.com', 'Daily Mail']\n",
        "extractedArticles = list()\n",
        "\n",
        "with open(filename, mode='r') as f:\n",
        "  for line in f:\n",
        "    formatItems = line.replace('\\n','').split('\\t')\n",
        "    if formatItems[3] in targetPublishers:\n",
        "      extractedArticles.append(formatItems)"
      ],
      "metadata": {
        "id": "vW1Rb05Mkrpt"
      },
      "execution_count": 2,
      "outputs": []
    },
    {
      "cell_type": "code",
      "source": [
        "extractedArticles[:2]"
      ],
      "metadata": {
        "colab": {
          "base_uri": "https://localhost:8080/"
        },
        "id": "oaGvXZc6pv7X",
        "outputId": "571c1068-8796-4b40-9769-5f200d665740"
      },
      "execution_count": 3,
      "outputs": [
        {
          "output_type": "execute_result",
          "data": {
            "text/plain": [
              "[['13',\n",
              "  'Europe reaches crunch point on banking union',\n",
              "  'http://in.reuters.com/article/2014/03/10/eu-banks-resoluton-idINL6N0M71NJ20140310',\n",
              "  'Reuters',\n",
              "  'b',\n",
              "  'dPhGU51DcrolUIMxbRm0InaHGA2XM',\n",
              "  'in.reuters.com',\n",
              "  '1394470501755'],\n",
              " ['14',\n",
              "  \"ECB FOCUS-Stronger euro drowns out ECB's message to keep rates low for  ...\",\n",
              "  'http://in.reuters.com/article/2014/03/10/ecb-policy-idINL6N0M71K320140310',\n",
              "  'Reuters',\n",
              "  'b',\n",
              "  'dPhGU51DcrolUIMxbRm0InaHGA2XM',\n",
              "  'in.reuters.com',\n",
              "  '1394470501948']]"
            ]
          },
          "metadata": {},
          "execution_count": 3
        }
      ]
    },
    {
      "cell_type": "code",
      "source": [
        "import numpy as np\n",
        "from sklearn.model_selection import train_test_split\n",
        "\n",
        "trainArticles, restArticles = train_test_split(extractedArticles, train_size=0.8, shuffle=True)#shuffle is true on default\n",
        "validArticles, testArticles = train_test_split(restArticles, train_size=0.5)\n",
        "\n",
        "print(len(trainArticles)/len(extractedArticles), len(validArticles)/len(extractedArticles), len(testArticles)/len(extractedArticles))\n",
        "\n",
        "for file in [['train.txt',trainArticles], ['valid.txt', validArticles],['test.txt',testArticles]]:\n",
        "  with open(file[0],'w') as f:\n",
        "    for article in file[1]:\n",
        "      f.write(\"{}\\t{}\\n\".format(article[4], article[1]))#カテゴリ\\t記事見出し"
      ],
      "metadata": {
        "colab": {
          "base_uri": "https://localhost:8080/"
        },
        "id": "CBICAukdpOlB",
        "outputId": "5221246c-4bb1-4bf2-a60c-b288f76f4c51"
      },
      "execution_count": 8,
      "outputs": [
        {
          "output_type": "stream",
          "name": "stdout",
          "text": [
            "0.7999401018268942 0.10002994908655286 0.10002994908655286\n"
          ]
        }
      ]
    },
    {
      "cell_type": "code",
      "source": [
        "#News category (b = business, t = science and technology, e = entertainment, m = health)\n",
        "!cat test.txt | cut -f 1 | sort | uniq -c\n",
        "!echo -----\n",
        "!cat train.txt | cut -f 1 | sort | uniq -c"
      ],
      "metadata": {
        "colab": {
          "base_uri": "https://localhost:8080/"
        },
        "id": "mNIE0FZ9y4tM",
        "outputId": "3034a308-38ab-4d2f-c1d2-2f871922138c"
      },
      "execution_count": 5,
      "outputs": [
        {
          "output_type": "stream",
          "name": "stdout",
          "text": [
            "    547 b\n",
            "    520 e\n",
            "     91 m\n",
            "    178 t\n",
            "-----\n",
            "   4507 b\n",
            "   4250 e\n",
            "    723 m\n",
            "   1204 t\n"
          ]
        }
      ]
    },
    {
      "cell_type": "code",
      "source": [
        "# 読込時のエラー回避のためダブルクォーテーションをシングルクォーテーションに置換\n",
        "!sed -e 's/\"/'\\''/g' ./newsCorpora.csv > ./newsCorpora_re.csv"
      ],
      "metadata": {
        "id": "R2qh5YpJnIxu"
      },
      "execution_count": 14,
      "outputs": []
    },
    {
      "cell_type": "code",
      "source": [
        "import pandas as pd\n",
        "from sklearn.model_selection import train_test_split\n",
        "\n",
        "# データの読込\n",
        "df = pd.read_csv('./newsCorpora_re.csv', header=None, sep='\\t', names=['ID', 'TITLE', 'URL', 'PUBLISHER', 'CATEGORY', 'STORY', 'HOSTNAME', 'TIMESTAMP'])\n",
        "\n",
        "# データの抽出\n",
        "df = df.loc[df['PUBLISHER'].isin(['Reuters', 'Huffington Post', 'Businessweek', 'Contactmusic.com', 'Daily Mail']), ['TITLE', 'CATEGORY']]\n",
        "\n",
        "# データの分割\n",
        "train, valid_test = train_test_split(df, test_size=0.2, shuffle=True, random_state=123, stratify=df['CATEGORY'])\n",
        "valid, test = train_test_split(valid_test, test_size=0.5, shuffle=True, random_state=123, stratify=valid_test['CATEGORY'])\n",
        "\n",
        "# データの保存\n",
        "train.to_csv('./train.txt', sep='\\t', index=False)\n",
        "valid.to_csv('./valid.txt', sep='\\t', index=False)\n",
        "test.to_csv('./test.txt', sep='\\t', index=False)\n",
        "\n",
        "# 事例数の確認\n",
        "print('【学習データ】')\n",
        "print(train['CATEGORY'].value_counts())\n",
        "print('【検証データ】')\n",
        "print(valid['CATEGORY'].value_counts())\n",
        "print('【評価データ】')\n",
        "print(test['CATEGORY'].value_counts())"
      ],
      "metadata": {
        "colab": {
          "base_uri": "https://localhost:8080/"
        },
        "id": "MPFnx16em6x0",
        "outputId": "02c3a390-7a6a-4c12-9555-d218ce976b5d"
      },
      "execution_count": 15,
      "outputs": [
        {
          "output_type": "stream",
          "name": "stdout",
          "text": [
            "【学習データ】\n",
            "b    4501\n",
            "e    4235\n",
            "t    1220\n",
            "m     728\n",
            "Name: CATEGORY, dtype: int64\n",
            "【検証データ】\n",
            "b    563\n",
            "e    529\n",
            "t    153\n",
            "m     91\n",
            "Name: CATEGORY, dtype: int64\n",
            "【評価データ】\n",
            "b    563\n",
            "e    530\n",
            "t    152\n",
            "m     91\n",
            "Name: CATEGORY, dtype: int64\n"
          ]
        }
      ]
    },
    {
      "cell_type": "markdown",
      "metadata": {
        "id": "u8gDrl6YHpZP"
      },
      "source": [
        "## 51. 特徴量抽出\n",
        "\n",
        "学習データ，検証データ，評価データから特徴量を抽出し，それぞれtrain.feature.txt，valid.feature.txt，test.feature.txtというファイル名で保存せよ． なお，カテゴリ分類に有用そうな特徴量は各自で自由に設計せよ．記事の見出しを単語列に変換したものが最低限のベースラインとなるであろう"
      ]
    },
    {
      "cell_type": "code",
      "source": [
        "import pandas as pd\n",
        "import string\n",
        "import re\n",
        "\n",
        "def preprocessing(text):\n",
        "  table = str.maketrans(string.punctuation, ' '*len(string.punctuation))\n",
        "  text = text.translate(table)  # 記号をスペースに置換\n",
        "  text = text.lower()  # 小文字化\n",
        "  text = re.sub('[0-9]+', '0', text)  # 数字列を0に置換\n",
        "\n",
        "  return text"
      ],
      "metadata": {
        "id": "bER8RPqn3MUP"
      },
      "execution_count": 16,
      "outputs": []
    },
    {
      "cell_type": "code",
      "source": [
        "trainArticles = pd.Series(trainArticles)\n",
        "validArticles = pd.Series(validArticles)\n",
        "testArticles = pd.Series(testArticles)\n",
        "\n",
        "# データの再結合\n",
        "df = pd.concat([train, valid, test], axis=0)\n",
        "df.reset_index(drop=True, inplace=True)  # indexを振りなおす\n",
        "\n",
        "# 前処理の実施\n",
        "df['TITLE'] = df['TITLE'].map(lambda x: preprocessing(x))\n",
        "\n",
        "print(df.head())"
      ],
      "metadata": {
        "colab": {
          "base_uri": "https://localhost:8080/"
        },
        "id": "EwHN9PljkXiZ",
        "outputId": "baa4164d-8d62-47d8-ce11-14d5212917ba"
      },
      "execution_count": 18,
      "outputs": [
        {
          "output_type": "stream",
          "name": "stdout",
          "text": [
            "                                               TITLE CATEGORY\n",
            "0  refile update 0 european car sales up for sixt...        b\n",
            "1  amazon plans to fight ftc over mobile app purc...        t\n",
            "2  kids still get codeine in emergency rooms desp...        m\n",
            "3  what on earth happened between solange and jay...        e\n",
            "4  nato missile defense is flight tested over hawaii        b\n"
          ]
        }
      ]
    },
    {
      "cell_type": "code",
      "source": [
        "from sklearn.feature_extraction.text import TfidfVectorizer #term frequency–inverse document frequency\n",
        "\n",
        "# データの分割\n",
        "train_valid = df[:len(train) + len(valid)]\n",
        "test = df[len(train) + len(valid):]\n",
        "\n",
        "# TfidfVectorizer: https://gotutiyan.hatenablog.com/entry/2020/09/10/181919\n",
        "vec_tfidf = TfidfVectorizer(min_df=10, ngram_range=(1, 2))  # ngram_rangeでTF-IDFを計算する単語の長さを指定 #min_dfはカウントする最低の頻出数\n",
        "\n",
        "\n",
        "# ベクトル化\n",
        "X_train_valid = vec_tfidf.fit_transform(train_valid['TITLE'])  # testの情報は使わない #fit_transform\n",
        "X_test = vec_tfidf.transform(test['TITLE'])#transform\n",
        "#fit, transform, fit_transformについて：https://mathwords.net/fittransform\n",
        "\n",
        "# ベクトルをデータフレームに変換\n",
        "X_train_valid = pd.DataFrame(X_train_valid.toarray(), columns=vec_tfidf.get_feature_names())\n",
        "X_test = pd.DataFrame(X_test.toarray(), columns=vec_tfidf.get_feature_names())\n",
        "\n",
        "# データの分割\n",
        "X_train = X_train_valid[:len(train)]\n",
        "X_valid = X_train_valid[len(train):]\n",
        "\n",
        "# データの保存\n",
        "X_train.to_csv('./X_train.txt', sep='\\t', index=False)\n",
        "X_valid.to_csv('./X_valid.txt', sep='\\t', index=False)\n",
        "X_test.to_csv('./X_test.txt', sep='\\t', index=False)\n",
        "\n",
        "print(X_train.head())"
      ],
      "metadata": {
        "colab": {
          "base_uri": "https://localhost:8080/"
        },
        "id": "y31D5UIXnhv6",
        "outputId": "3910a3d3-9105-4227-ee89-790ed3e0b726"
      },
      "execution_count": 19,
      "outputs": [
        {
          "output_type": "stream",
          "name": "stderr",
          "text": [
            "/usr/local/lib/python3.7/dist-packages/sklearn/utils/deprecation.py:87: FutureWarning: Function get_feature_names is deprecated; get_feature_names is deprecated in 1.0 and will be removed in 1.2. Please use get_feature_names_out instead.\n",
            "  warnings.warn(msg, category=FutureWarning)\n"
          ]
        },
        {
          "output_type": "stream",
          "name": "stdout",
          "text": [
            "    0m  0million  0nd   0s  0st  ...  yuan  zac  zac efron  zendaya  zone\n",
            "0  0.0       0.0  0.0  0.0  0.0  ...   0.0  0.0        0.0      0.0   0.0\n",
            "1  0.0       0.0  0.0  0.0  0.0  ...   0.0  0.0        0.0      0.0   0.0\n",
            "2  0.0       0.0  0.0  0.0  0.0  ...   0.0  0.0        0.0      0.0   0.0\n",
            "3  0.0       0.0  0.0  0.0  0.0  ...   0.0  0.0        0.0      0.0   0.0\n",
            "4  0.0       0.0  0.0  0.0  0.0  ...   0.0  0.0        0.0      0.0   0.0\n",
            "\n",
            "[5 rows x 2815 columns]\n"
          ]
        }
      ]
    },
    {
      "cell_type": "markdown",
      "metadata": {
        "id": "d87lKthmioJi"
      },
      "source": [
        "## 52. 学習\n",
        "\n",
        "51で構築した学習データを用いて，ロジスティック回帰モデルを学習せよ．"
      ]
    },
    {
      "cell_type": "code",
      "source": [
        "#ロジスティック回帰：https://gmo-research.jp/research-column/logistic-regression-analysis\n",
        "from sklearn.linear_model import LogisticRegression\n",
        "\n",
        "# モデルの学習\n",
        "lg = LogisticRegression(random_state=123, max_iter=10000)\n",
        "lg.fit(X_train, train['CATEGORY'])\n"
      ],
      "metadata": {
        "colab": {
          "base_uri": "https://localhost:8080/"
        },
        "id": "HFkKSk_n220E",
        "outputId": "e634b030-3cfe-49f3-d497-7a0b4a177838"
      },
      "execution_count": 21,
      "outputs": [
        {
          "output_type": "execute_result",
          "data": {
            "text/plain": [
              "LogisticRegression(max_iter=10000, random_state=123)"
            ]
          },
          "metadata": {},
          "execution_count": 21
        }
      ]
    },
    {
      "cell_type": "markdown",
      "metadata": {
        "id": "NxreDPbWGYVh"
      },
      "source": [
        "## 53. 予測\n",
        "\n",
        "52で学習したロジスティック回帰モデルを用い，与えられた記事見出しからカテゴリとその予測確率を計算するプログラムを実装せよ．"
      ]
    },
    {
      "cell_type": "code",
      "source": [
        "import numpy as np\n",
        "\n",
        "def score_lg(lg, X):\n",
        "  return [np.max(lg.predict_proba(X), axis=1), lg.predict(X)] #why axis=1?\n",
        "#predict, predict_proba: https://towardsdatascience.com/predict-vs-predict-proba-scikit-learn-bdc45daa5972"
      ],
      "metadata": {
        "id": "W34TwPp-5jvB"
      },
      "execution_count": 22,
      "outputs": []
    },
    {
      "cell_type": "code",
      "source": [
        "train_pred = score_lg(lg, X_train)\n",
        "test_pred = score_lg(lg, X_test)\n",
        "\n",
        "print(train_pred)\n"
      ],
      "metadata": {
        "colab": {
          "base_uri": "https://localhost:8080/"
        },
        "id": "LKIzFFJd5liE",
        "outputId": "72af0bba-1ee8-48d5-9288-921b7dde2ba8"
      },
      "execution_count": 23,
      "outputs": [
        {
          "output_type": "stream",
          "name": "stdout",
          "text": [
            "[array([0.84027948, 0.67904336, 0.55638881, ..., 0.86051   , 0.61359296,\n",
            "       0.90828249]), array(['b', 't', 'm', ..., 'b', 'm', 'e'], dtype=object)]\n"
          ]
        }
      ]
    },
    {
      "cell_type": "markdown",
      "metadata": {
        "id": "9H7mj0nVGk9O"
      },
      "source": [
        "## 54. 正解率の計測\n",
        "\n",
        "52で学習したロジスティック回帰モデルの正解率を，学習データおよび評価データ上で計測せよ．"
      ]
    },
    {
      "cell_type": "code",
      "source": [
        "#accuracy_score: https://scikit-learn.org/stable/modules/generated/sklearn.metrics.accuracy_score.html\n",
        "from sklearn.metrics import accuracy_score\n",
        "\n",
        "train_accuracy = accuracy_score(train['CATEGORY'], train_pred[1])\n",
        "test_accuracy = accuracy_score(test['CATEGORY'], test_pred[1])\n",
        "print(f'正解率（学習データ）：{train_accuracy:.3f}')\n",
        "print(f'正解率（評価データ）：{test_accuracy:.3f}')\n"
      ],
      "metadata": {
        "colab": {
          "base_uri": "https://localhost:8080/"
        },
        "id": "LW35LF558PML",
        "outputId": "1ec48e02-e1a6-460f-b919-ecd9333633e7"
      },
      "execution_count": 25,
      "outputs": [
        {
          "output_type": "stream",
          "name": "stdout",
          "text": [
            "正解率（学習データ）：0.927\n",
            "正解率（評価データ）：0.885\n"
          ]
        }
      ]
    },
    {
      "cell_type": "markdown",
      "metadata": {
        "id": "E7z3MRbDXoyD"
      },
      "source": [
        "## 55. 混同行列の作成\n",
        "\n",
        "52で学習したロジスティック回帰モデルの混同行列（confusion matrix）を，学習データおよび評価データ上で作成せよ．"
      ]
    },
    {
      "cell_type": "code",
      "source": [
        "#混合行列：https://qiita.com/TsutomuNakamura/items/a1a6a02cb9bb0dcbb37f\n",
        "#対角成分が正しい予測をした数。\n",
        "from sklearn.metrics import confusion_matrix\n",
        "import seaborn as sns\n",
        "import matplotlib.pyplot as plt\n",
        "\n",
        "# 学習データ\n",
        "train_cm = confusion_matrix(train['CATEGORY'], train_pred[1])\n",
        "print(train_cm)\n",
        "sns.heatmap(train_cm, annot=True, cmap='Blues')\n",
        "plt.show()\n",
        "\n",
        "# 評価データ\n",
        "test_cm = confusion_matrix(test['CATEGORY'], test_pred[1])\n",
        "print(test_cm)\n",
        "sns.heatmap(test_cm, annot=True, cmap='Blues')\n",
        "plt.show()\n",
        "\n",
        "#なんで5つのカテゴリへの分類で4カテゴリ分の行列になってるの？"
      ],
      "metadata": {
        "colab": {
          "base_uri": "https://localhost:8080/",
          "height": 655
        },
        "id": "b3XeCJLu8xef",
        "outputId": "fac00314-70b1-4762-bd06-4a98b85a252b"
      },
      "execution_count": 28,
      "outputs": [
        {
          "output_type": "stream",
          "name": "stdout",
          "text": [
            "[[4344   93    8   56]\n",
            " [  52 4173    2    8]\n",
            " [  96  125  494   13]\n",
            " [ 192  133    7  888]]\n"
          ]
        },
        {
          "output_type": "display_data",
          "data": {
            "image/png": "[encoded data removed]",
            "text/plain": [
              "<Figure size 432x288 with 2 Axes>"
            ]
          },
          "metadata": {
            "needs_background": "light"
          }
        },
        {
          "output_type": "stream",
          "name": "stdout",
          "text": [
            "[[528  20   2  13]\n",
            " [ 12 516   1   1]\n",
            " [ 11  26  52   2]\n",
            " [ 38  26   1  87]]\n"
          ]
        },
        {
          "output_type": "display_data",
          "data": {
            "image/png": "[encoded data removed]",
            "text/plain": [
              "<Figure size 432x288 with 2 Axes>"
            ]
          },
          "metadata": {
            "needs_background": "light"
          }
        }
      ]
    },
    {
      "cell_type": "markdown",
      "metadata": {
        "id": "7wi8b2onXHtY"
      },
      "source": [
        "## 56. 適合率，再現率，F1スコアの計測\n",
        "\n",
        "52で学習したロジスティック回帰モデルの適合率，再現率，F1スコアを，評価データ上で計測せよ．カテゴリごとに適合率，再現率，F1スコアを求め，カテゴリごとの性能をマイクロ平均（micro-average）とマクロ平均（macro-average）で統合せよ．"
      ]
    },
    {
      "cell_type": "markdown",
      "metadata": {
        "id": "YX-f4arThStO"
      },
      "source": [
        "### マイクロ平均とは\n",
        "**クラスごと**にF1値を計算し、平均したもの\n",
        "正解率の場合：𝑛𝑖回のテストのうち，𝑥𝑖回が正解の場合，マイクロ平均は次式：\n",
        "$\\frac{\\sum_{i=1}^{N} x_i}{\\sum_{i=1}^{N} n_i}$\n",
        "\n",
        "### マクロ平均とは\n",
        "**全クラス**のF1値を計算したもの\n",
        "正解率の場合：𝑛𝑖回のテストのうち，𝑥𝑖回が正解の場合，マクロ平均は次式：\n",
        "$\\frac{1}{N}\\sum_{i=1}^{N}\\frac{x_i}{n_i}$"
      ]
    },
    {
      "cell_type": "code",
      "source": [
        "# accuracy, precision, recall, f1-score: https://aiacademy.jp/texts/show/?id=34\n",
        "#f-score in general: https://ja.wikipedia.org/wiki/F%E5%80%A4_(%E8%A9%95%E4%BE%A1%E6%8C%87%E6%A8%99)\n",
        "from sklearn.metrics import precision_score, recall_score, f1_score\n",
        "\n",
        "def calculate_scores(y_true, y_pred):\n",
        "  # 適合率\n",
        "  precision = precision_score(test['CATEGORY'], test_pred[1], average=None, labels=['b', 'e', 't', 'm'])  # Noneを指定するとクラスごとの精度をndarrayで返す\n",
        "  precision = np.append(precision, precision_score(y_true, y_pred, average='micro'))  # 末尾にマイクロ平均を追加\n",
        "  precision = np.append(precision, precision_score(y_true, y_pred, average='macro'))  # 末尾にマクロ平均を追加\n",
        "\n",
        "  # 再現率\n",
        "  recall = recall_score(test['CATEGORY'], test_pred[1], average=None, labels=['b', 'e', 't', 'm'])\n",
        "  recall = np.append(recall, recall_score(y_true, y_pred, average='micro'))\n",
        "  recall = np.append(recall, recall_score(y_true, y_pred, average='macro'))\n",
        "\n",
        "  # F1スコア\n",
        "  f1 = f1_score(test['CATEGORY'], test_pred[1], average=None, labels=['b', 'e', 't', 'm'])\n",
        "  f1 = np.append(f1, f1_score(y_true, y_pred, average='micro'))\n",
        "  f1 = np.append(f1, f1_score(y_true, y_pred, average='macro'))\n",
        "\n",
        "  # 結果を結合してデータフレーム化\n",
        "  scores = pd.DataFrame({'適合率': precision, '再現率': recall, 'F1スコア': f1},\n",
        "                        index=['b', 'e', 't', 'm', 'マイクロ平均', 'マクロ平均'])\n",
        "\n",
        "  return scores\n"
      ],
      "metadata": {
        "id": "3o8znVYYALLX"
      },
      "execution_count": 29,
      "outputs": []
    },
    {
      "cell_type": "code",
      "source": [
        "print(calculate_scores(test['CATEGORY'], test_pred[1]))\n"
      ],
      "metadata": {
        "colab": {
          "base_uri": "https://localhost:8080/"
        },
        "id": "n2lsXEWvAdbc",
        "outputId": "2cde6298-c6e6-4fa8-b820-4ea2b88b9528"
      },
      "execution_count": 30,
      "outputs": [
        {
          "output_type": "stream",
          "name": "stdout",
          "text": [
            "             適合率       再現率     F1スコア\n",
            "b       0.896435  0.937833  0.916667\n",
            "e       0.877551  0.973585  0.923077\n",
            "t       0.844660  0.572368  0.682353\n",
            "m       0.928571  0.571429  0.707483\n",
            "マイクロ平均  0.885479  0.885479  0.885479\n",
            "マクロ平均   0.886804  0.763804  0.807395\n"
          ]
        }
      ]
    },
    {
      "cell_type": "markdown",
      "metadata": {
        "id": "oiU08ynGs27m"
      },
      "source": [
        "## 57. 特徴量の重みの確認\n",
        "\n",
        "52で学習したロジスティック回帰モデルの中で，重みの高い特徴量トップ10と，重みの低い特徴量トップ10を確認せよ．"
      ]
    },
    {
      "cell_type": "code",
      "source": [
        "features = X_train.columns.values\n",
        "index = [i for i in range(1, 11)]\n",
        "for c, coef in zip(lg.classes_, lg.coef_):#特徴量、その重み\n",
        "  print(f'【カテゴリ】{c}')\n",
        "  best10 = pd.DataFrame(features[np.argsort(coef)[::-1][:10]], columns=['重要度上位'], index=index).T# method T transposes dataframe\n",
        "  worst10 = pd.DataFrame(features[np.argsort(coef)[:10]], columns=['重要度下位'], index=index).T\n",
        "  display(pd.concat([best10, worst10], axis=0))\n",
        "  print('\\n')\n"
      ],
      "metadata": {
        "colab": {
          "base_uri": "https://localhost:8080/",
          "height": 610
        },
        "id": "SLNbQ_tvDUr_",
        "outputId": "803cc43a-9f09-4f7d-a6e9-4e7cfb0d9733"
      },
      "execution_count": 32,
      "outputs": [
        {
          "output_type": "stream",
          "name": "stdout",
          "text": [
            "【カテゴリ】b\n"
          ]
        },
        {
          "output_type": "display_data",
          "data": {
            "text/html": [
              "\n",
              "  <div id=\"df-5a3a4662-05ef-463f-b2f9-99158a9c7396\">\n",
              "    <div class=\"colab-df-container\">\n",
              "      <div>\n",
              "<style scoped>\n",
              "    .dataframe tbody tr th:only-of-type {\n",
              "        vertical-align: middle;\n",
              "    }\n",
              "\n",
              "    .dataframe tbody tr th {\n",
              "        vertical-align: top;\n",
              "    }\n",
              "\n",
              "    .dataframe thead th {\n",
              "        text-align: right;\n",
              "    }\n",
              "</style>\n",
              "<table border=\"1\" class=\"dataframe\">\n",
              "  <thead>\n",
              "    <tr style=\"text-align: right;\">\n",
              "      <th></th>\n",
              "      <th>1</th>\n",
              "      <th>2</th>\n",
              "      <th>3</th>\n",
              "      <th>4</th>\n",
              "      <th>5</th>\n",
              "      <th>6</th>\n",
              "      <th>7</th>\n",
              "      <th>8</th>\n",
              "      <th>9</th>\n",
              "      <th>10</th>\n",
              "    </tr>\n",
              "  </thead>\n",
              "  <tbody>\n",
              "    <tr>\n",
              "      <th>重要度上位</th>\n",
              "      <td>bank</td>\n",
              "      <td>fed</td>\n",
              "      <td>china</td>\n",
              "      <td>ecb</td>\n",
              "      <td>stocks</td>\n",
              "      <td>euro</td>\n",
              "      <td>obamacare</td>\n",
              "      <td>oil</td>\n",
              "      <td>yellen</td>\n",
              "      <td>dollar</td>\n",
              "    </tr>\n",
              "    <tr>\n",
              "      <th>重要度下位</th>\n",
              "      <td>video</td>\n",
              "      <td>ebola</td>\n",
              "      <td>the</td>\n",
              "      <td>her</td>\n",
              "      <td>and</td>\n",
              "      <td>she</td>\n",
              "      <td>apple</td>\n",
              "      <td>google</td>\n",
              "      <td>star</td>\n",
              "      <td>microsoft</td>\n",
              "    </tr>\n",
              "  </tbody>\n",
              "</table>\n",
              "</div>\n",
              "      <button class=\"colab-df-convert\" onclick=\"convertToInteractive('df-5a3a4662-05ef-463f-b2f9-99158a9c7396')\"\n",
              "              title=\"Convert this dataframe to an interactive table.\"\n",
              "              style=\"display:none;\">\n",
              "        \n",
              "  <svg xmlns=\"http://www.w3.org/2000/svg\" height=\"24px\"viewBox=\"0 0 24 24\"\n",
              "       width=\"24px\">\n",
              "    <path d=\"M0 0h24v24H0V0z\" fill=\"none\"/>\n",
              "    <path d=\"M18.56 5.44l.94 2.06.94-2.06 2.06-.94-2.06-.94-.94-2.06-.94 2.06-2.06.94zm-11 1L8.5 8.5l.94-2.06 2.06-.94-2.06-.94L8.5 2.5l-.94 2.06-2.06.94zm10 10l.94 2.06.94-2.06 2.06-.94-2.06-.94-.94-2.06-.94 2.06-2.06.94z\"/><path d=\"M17.41 7.96l-1.37-1.37c-.4-.4-.92-.59-1.43-.59-.52 0-1.04.2-1.43.59L10.3 9.45l-7.72 7.72c-.78.78-.78 2.05 0 2.83L4 21.41c.39.39.9.59 1.41.59.51 0 1.02-.2 1.41-.59l7.78-7.78 2.81-2.81c.8-.78.8-2.07 0-2.86zM5.41 20L4 18.59l7.72-7.72 1.47 1.35L5.41 20z\"/>\n",
              "  </svg>\n",
              "      </button>\n",
              "      \n",
              "  <style>\n",
              "    .colab-df-container {\n",
              "      display:flex;\n",
              "      flex-wrap:wrap;\n",
              "      gap: 12px;\n",
              "    }\n",
              "\n",
              "    .colab-df-convert {\n",
              "      background-color: #E8F0FE;\n",
              "      border: none;\n",
              "      border-radius: 50%;\n",
              "      cursor: pointer;\n",
              "      display: none;\n",
              "      fill: #1967D2;\n",
              "      height: 32px;\n",
              "      padding: 0 0 0 0;\n",
              "      width: 32px;\n",
              "    }\n",
              "\n",
              "    .colab-df-convert:hover {\n",
              "      background-color: #E2EBFA;\n",
              "      box-shadow: 0px 1px 2px rgba(60, 64, 67, 0.3), 0px 1px 3px 1px rgba(60, 64, 67, 0.15);\n",
              "      fill: #174EA6;\n",
              "    }\n",
              "\n",
              "    [theme=dark] .colab-df-convert {\n",
              "      background-color: #3B4455;\n",
              "      fill: #D2E3FC;\n",
              "    }\n",
              "\n",
              "    [theme=dark] .colab-df-convert:hover {\n",
              "      background-color: #434B5C;\n",
              "      box-shadow: 0px 1px 3px 1px rgba(0, 0, 0, 0.15);\n",
              "      filter: drop-shadow(0px 1px 2px rgba(0, 0, 0, 0.3));\n",
              "      fill: #FFFFFF;\n",
              "    }\n",
              "  </style>\n",
              "\n",
              "      <script>\n",
              "        const buttonEl =\n",
              "          document.querySelector('#df-5a3a4662-05ef-463f-b2f9-99158a9c7396 button.colab-df-convert');\n",
              "        buttonEl.style.display =\n",
              "          google.colab.kernel.accessAllowed ? 'block' : 'none';\n",
              "\n",
              "        async function convertToInteractive(key) {\n",
              "          const element = document.querySelector('#df-5a3a4662-05ef-463f-b2f9-99158a9c7396');\n",
              "          const dataTable =\n",
              "            await google.colab.kernel.invokeFunction('convertToInteractive',\n",
              "                                                     [key], {});\n",
              "          if (!dataTable) return;\n",
              "\n",
              "          const docLinkHtml = 'Like what you see? Visit the ' +\n",
              "            '<a target=\"_blank\" href=https://colab.research.google.com/notebooks/data_table.ipynb>data table notebook</a>'\n",
              "            + ' to learn more about interactive tables.';\n",
              "          element.innerHTML = '';\n",
              "          dataTable['output_type'] = 'display_data';\n",
              "          await google.colab.output.renderOutput(dataTable, element);\n",
              "          const docLink = document.createElement('div');\n",
              "          docLink.innerHTML = docLinkHtml;\n",
              "          element.appendChild(docLink);\n",
              "        }\n",
              "      </script>\n",
              "    </div>\n",
              "  </div>\n",
              "  "
            ],
            "text/plain": [
              "          1      2      3    4   ...         7       8       9          10\n",
              "重要度上位   bank    fed  china  ecb  ...  obamacare     oil  yellen     dollar\n",
              "重要度下位  video  ebola    the  her  ...      apple  google    star  microsoft\n",
              "\n",
              "[2 rows x 10 columns]"
            ]
          },
          "metadata": {}
        },
        {
          "output_type": "stream",
          "name": "stdout",
          "text": [
            "\n",
            "\n",
            "【カテゴリ】e\n"
          ]
        },
        {
          "output_type": "display_data",
          "data": {
            "text/html": [
              "\n",
              "  <div id=\"df-c6eec80e-4eba-417e-9ad7-565abdd716ff\">\n",
              "    <div class=\"colab-df-container\">\n",
              "      <div>\n",
              "<style scoped>\n",
              "    .dataframe tbody tr th:only-of-type {\n",
              "        vertical-align: middle;\n",
              "    }\n",
              "\n",
              "    .dataframe tbody tr th {\n",
              "        vertical-align: top;\n",
              "    }\n",
              "\n",
              "    .dataframe thead th {\n",
              "        text-align: right;\n",
              "    }\n",
              "</style>\n",
              "<table border=\"1\" class=\"dataframe\">\n",
              "  <thead>\n",
              "    <tr style=\"text-align: right;\">\n",
              "      <th></th>\n",
              "      <th>1</th>\n",
              "      <th>2</th>\n",
              "      <th>3</th>\n",
              "      <th>4</th>\n",
              "      <th>5</th>\n",
              "      <th>6</th>\n",
              "      <th>7</th>\n",
              "      <th>8</th>\n",
              "      <th>9</th>\n",
              "      <th>10</th>\n",
              "    </tr>\n",
              "  </thead>\n",
              "  <tbody>\n",
              "    <tr>\n",
              "      <th>重要度上位</th>\n",
              "      <td>kardashian</td>\n",
              "      <td>chris</td>\n",
              "      <td>her</td>\n",
              "      <td>movie</td>\n",
              "      <td>star</td>\n",
              "      <td>film</td>\n",
              "      <td>paul</td>\n",
              "      <td>he</td>\n",
              "      <td>wedding</td>\n",
              "      <td>she</td>\n",
              "    </tr>\n",
              "    <tr>\n",
              "      <th>重要度下位</th>\n",
              "      <td>us</td>\n",
              "      <td>update</td>\n",
              "      <td>google</td>\n",
              "      <td>study</td>\n",
              "      <td>china</td>\n",
              "      <td>gm</td>\n",
              "      <td>ceo</td>\n",
              "      <td>facebook</td>\n",
              "      <td>apple</td>\n",
              "      <td>says</td>\n",
              "    </tr>\n",
              "  </tbody>\n",
              "</table>\n",
              "</div>\n",
              "      <button class=\"colab-df-convert\" onclick=\"convertToInteractive('df-c6eec80e-4eba-417e-9ad7-565abdd716ff')\"\n",
              "              title=\"Convert this dataframe to an interactive table.\"\n",
              "              style=\"display:none;\">\n",
              "        \n",
              "  <svg xmlns=\"http://www.w3.org/2000/svg\" height=\"24px\"viewBox=\"0 0 24 24\"\n",
              "       width=\"24px\">\n",
              "    <path d=\"M0 0h24v24H0V0z\" fill=\"none\"/>\n",
              "    <path d=\"M18.56 5.44l.94 2.06.94-2.06 2.06-.94-2.06-.94-.94-2.06-.94 2.06-2.06.94zm-11 1L8.5 8.5l.94-2.06 2.06-.94-2.06-.94L8.5 2.5l-.94 2.06-2.06.94zm10 10l.94 2.06.94-2.06 2.06-.94-2.06-.94-.94-2.06-.94 2.06-2.06.94z\"/><path d=\"M17.41 7.96l-1.37-1.37c-.4-.4-.92-.59-1.43-.59-.52 0-1.04.2-1.43.59L10.3 9.45l-7.72 7.72c-.78.78-.78 2.05 0 2.83L4 21.41c.39.39.9.59 1.41.59.51 0 1.02-.2 1.41-.59l7.78-7.78 2.81-2.81c.8-.78.8-2.07 0-2.86zM5.41 20L4 18.59l7.72-7.72 1.47 1.35L5.41 20z\"/>\n",
              "  </svg>\n",
              "      </button>\n",
              "      \n",
              "  <style>\n",
              "    .colab-df-container {\n",
              "      display:flex;\n",
              "      flex-wrap:wrap;\n",
              "      gap: 12px;\n",
              "    }\n",
              "\n",
              "    .colab-df-convert {\n",
              "      background-color: #E8F0FE;\n",
              "      border: none;\n",
              "      border-radius: 50%;\n",
              "      cursor: pointer;\n",
              "      display: none;\n",
              "      fill: #1967D2;\n",
              "      height: 32px;\n",
              "      padding: 0 0 0 0;\n",
              "      width: 32px;\n",
              "    }\n",
              "\n",
              "    .colab-df-convert:hover {\n",
              "      background-color: #E2EBFA;\n",
              "      box-shadow: 0px 1px 2px rgba(60, 64, 67, 0.3), 0px 1px 3px 1px rgba(60, 64, 67, 0.15);\n",
              "      fill: #174EA6;\n",
              "    }\n",
              "\n",
              "    [theme=dark] .colab-df-convert {\n",
              "      background-color: #3B4455;\n",
              "      fill: #D2E3FC;\n",
              "    }\n",
              "\n",
              "    [theme=dark] .colab-df-convert:hover {\n",
              "      background-color: #434B5C;\n",
              "      box-shadow: 0px 1px 3px 1px rgba(0, 0, 0, 0.15);\n",
              "      filter: drop-shadow(0px 1px 2px rgba(0, 0, 0, 0.3));\n",
              "      fill: #FFFFFF;\n",
              "    }\n",
              "  </style>\n",
              "\n",
              "      <script>\n",
              "        const buttonEl =\n",
              "          document.querySelector('#df-c6eec80e-4eba-417e-9ad7-565abdd716ff button.colab-df-convert');\n",
              "        buttonEl.style.display =\n",
              "          google.colab.kernel.accessAllowed ? 'block' : 'none';\n",
              "\n",
              "        async function convertToInteractive(key) {\n",
              "          const element = document.querySelector('#df-c6eec80e-4eba-417e-9ad7-565abdd716ff');\n",
              "          const dataTable =\n",
              "            await google.colab.kernel.invokeFunction('convertToInteractive',\n",
              "                                                     [key], {});\n",
              "          if (!dataTable) return;\n",
              "\n",
              "          const docLinkHtml = 'Like what you see? Visit the ' +\n",
              "            '<a target=\"_blank\" href=https://colab.research.google.com/notebooks/data_table.ipynb>data table notebook</a>'\n",
              "            + ' to learn more about interactive tables.';\n",
              "          element.innerHTML = '';\n",
              "          dataTable['output_type'] = 'display_data';\n",
              "          await google.colab.output.renderOutput(dataTable, element);\n",
              "          const docLink = document.createElement('div');\n",
              "          docLink.innerHTML = docLinkHtml;\n",
              "          element.appendChild(docLink);\n",
              "        }\n",
              "      </script>\n",
              "    </div>\n",
              "  </div>\n",
              "  "
            ],
            "text/plain": [
              "               1       2       3      4   ...    7         8        9     10\n",
              "重要度上位  kardashian   chris     her  movie  ...  paul        he  wedding   she\n",
              "重要度下位          us  update  google  study  ...   ceo  facebook    apple  says\n",
              "\n",
              "[2 rows x 10 columns]"
            ]
          },
          "metadata": {}
        },
        {
          "output_type": "stream",
          "name": "stdout",
          "text": [
            "\n",
            "\n",
            "【カテゴリ】m\n"
          ]
        },
        {
          "output_type": "display_data",
          "data": {
            "text/html": [
              "\n",
              "  <div id=\"df-34564627-0356-4c99-800f-57cc4536742c\">\n",
              "    <div class=\"colab-df-container\">\n",
              "      <div>\n",
              "<style scoped>\n",
              "    .dataframe tbody tr th:only-of-type {\n",
              "        vertical-align: middle;\n",
              "    }\n",
              "\n",
              "    .dataframe tbody tr th {\n",
              "        vertical-align: top;\n",
              "    }\n",
              "\n",
              "    .dataframe thead th {\n",
              "        text-align: right;\n",
              "    }\n",
              "</style>\n",
              "<table border=\"1\" class=\"dataframe\">\n",
              "  <thead>\n",
              "    <tr style=\"text-align: right;\">\n",
              "      <th></th>\n",
              "      <th>1</th>\n",
              "      <th>2</th>\n",
              "      <th>3</th>\n",
              "      <th>4</th>\n",
              "      <th>5</th>\n",
              "      <th>6</th>\n",
              "      <th>7</th>\n",
              "      <th>8</th>\n",
              "      <th>9</th>\n",
              "      <th>10</th>\n",
              "    </tr>\n",
              "  </thead>\n",
              "  <tbody>\n",
              "    <tr>\n",
              "      <th>重要度上位</th>\n",
              "      <td>ebola</td>\n",
              "      <td>study</td>\n",
              "      <td>cancer</td>\n",
              "      <td>drug</td>\n",
              "      <td>mers</td>\n",
              "      <td>fda</td>\n",
              "      <td>cases</td>\n",
              "      <td>cdc</td>\n",
              "      <td>could</td>\n",
              "      <td>cigarettes</td>\n",
              "    </tr>\n",
              "    <tr>\n",
              "      <th>重要度下位</th>\n",
              "      <td>facebook</td>\n",
              "      <td>gm</td>\n",
              "      <td>ceo</td>\n",
              "      <td>apple</td>\n",
              "      <td>bank</td>\n",
              "      <td>deal</td>\n",
              "      <td>google</td>\n",
              "      <td>sales</td>\n",
              "      <td>climate</td>\n",
              "      <td>twitter</td>\n",
              "    </tr>\n",
              "  </tbody>\n",
              "</table>\n",
              "</div>\n",
              "      <button class=\"colab-df-convert\" onclick=\"convertToInteractive('df-34564627-0356-4c99-800f-57cc4536742c')\"\n",
              "              title=\"Convert this dataframe to an interactive table.\"\n",
              "              style=\"display:none;\">\n",
              "        \n",
              "  <svg xmlns=\"http://www.w3.org/2000/svg\" height=\"24px\"viewBox=\"0 0 24 24\"\n",
              "       width=\"24px\">\n",
              "    <path d=\"M0 0h24v24H0V0z\" fill=\"none\"/>\n",
              "    <path d=\"M18.56 5.44l.94 2.06.94-2.06 2.06-.94-2.06-.94-.94-2.06-.94 2.06-2.06.94zm-11 1L8.5 8.5l.94-2.06 2.06-.94-2.06-.94L8.5 2.5l-.94 2.06-2.06.94zm10 10l.94 2.06.94-2.06 2.06-.94-2.06-.94-.94-2.06-.94 2.06-2.06.94z\"/><path d=\"M17.41 7.96l-1.37-1.37c-.4-.4-.92-.59-1.43-.59-.52 0-1.04.2-1.43.59L10.3 9.45l-7.72 7.72c-.78.78-.78 2.05 0 2.83L4 21.41c.39.39.9.59 1.41.59.51 0 1.02-.2 1.41-.59l7.78-7.78 2.81-2.81c.8-.78.8-2.07 0-2.86zM5.41 20L4 18.59l7.72-7.72 1.47 1.35L5.41 20z\"/>\n",
              "  </svg>\n",
              "      </button>\n",
              "      \n",
              "  <style>\n",
              "    .colab-df-container {\n",
              "      display:flex;\n",
              "      flex-wrap:wrap;\n",
              "      gap: 12px;\n",
              "    }\n",
              "\n",
              "    .colab-df-convert {\n",
              "      background-color: #E8F0FE;\n",
              "      border: none;\n",
              "      border-radius: 50%;\n",
              "      cursor: pointer;\n",
              "      display: none;\n",
              "      fill: #1967D2;\n",
              "      height: 32px;\n",
              "      padding: 0 0 0 0;\n",
              "      width: 32px;\n",
              "    }\n",
              "\n",
              "    .colab-df-convert:hover {\n",
              "      background-color: #E2EBFA;\n",
              "      box-shadow: 0px 1px 2px rgba(60, 64, 67, 0.3), 0px 1px 3px 1px rgba(60, 64, 67, 0.15);\n",
              "      fill: #174EA6;\n",
              "    }\n",
              "\n",
              "    [theme=dark] .colab-df-convert {\n",
              "      background-color: #3B4455;\n",
              "      fill: #D2E3FC;\n",
              "    }\n",
              "\n",
              "    [theme=dark] .colab-df-convert:hover {\n",
              "      background-color: #434B5C;\n",
              "      box-shadow: 0px 1px 3px 1px rgba(0, 0, 0, 0.15);\n",
              "      filter: drop-shadow(0px 1px 2px rgba(0, 0, 0, 0.3));\n",
              "      fill: #FFFFFF;\n",
              "    }\n",
              "  </style>\n",
              "\n",
              "      <script>\n",
              "        const buttonEl =\n",
              "          document.querySelector('#df-34564627-0356-4c99-800f-57cc4536742c button.colab-df-convert');\n",
              "        buttonEl.style.display =\n",
              "          google.colab.kernel.accessAllowed ? 'block' : 'none';\n",
              "\n",
              "        async function convertToInteractive(key) {\n",
              "          const element = document.querySelector('#df-34564627-0356-4c99-800f-57cc4536742c');\n",
              "          const dataTable =\n",
              "            await google.colab.kernel.invokeFunction('convertToInteractive',\n",
              "                                                     [key], {});\n",
              "          if (!dataTable) return;\n",
              "\n",
              "          const docLinkHtml = 'Like what you see? Visit the ' +\n",
              "            '<a target=\"_blank\" href=https://colab.research.google.com/notebooks/data_table.ipynb>data table notebook</a>'\n",
              "            + ' to learn more about interactive tables.';\n",
              "          element.innerHTML = '';\n",
              "          dataTable['output_type'] = 'display_data';\n",
              "          await google.colab.output.renderOutput(dataTable, element);\n",
              "          const docLink = document.createElement('div');\n",
              "          docLink.innerHTML = docLinkHtml;\n",
              "          element.appendChild(docLink);\n",
              "        }\n",
              "      </script>\n",
              "    </div>\n",
              "  </div>\n",
              "  "
            ],
            "text/plain": [
              "             1      2       3      4   ...      7      8        9           10\n",
              "重要度上位     ebola  study  cancer   drug  ...   cases    cdc    could  cigarettes\n",
              "重要度下位  facebook     gm     ceo  apple  ...  google  sales  climate     twitter\n",
              "\n",
              "[2 rows x 10 columns]"
            ]
          },
          "metadata": {}
        },
        {
          "output_type": "stream",
          "name": "stdout",
          "text": [
            "\n",
            "\n",
            "【カテゴリ】t\n"
          ]
        },
        {
          "output_type": "display_data",
          "data": {
            "text/html": [
              "\n",
              "  <div id=\"df-39551ed9-5736-4dd9-9b13-ca19f1237ff4\">\n",
              "    <div class=\"colab-df-container\">\n",
              "      <div>\n",
              "<style scoped>\n",
              "    .dataframe tbody tr th:only-of-type {\n",
              "        vertical-align: middle;\n",
              "    }\n",
              "\n",
              "    .dataframe tbody tr th {\n",
              "        vertical-align: top;\n",
              "    }\n",
              "\n",
              "    .dataframe thead th {\n",
              "        text-align: right;\n",
              "    }\n",
              "</style>\n",
              "<table border=\"1\" class=\"dataframe\">\n",
              "  <thead>\n",
              "    <tr style=\"text-align: right;\">\n",
              "      <th></th>\n",
              "      <th>1</th>\n",
              "      <th>2</th>\n",
              "      <th>3</th>\n",
              "      <th>4</th>\n",
              "      <th>5</th>\n",
              "      <th>6</th>\n",
              "      <th>7</th>\n",
              "      <th>8</th>\n",
              "      <th>9</th>\n",
              "      <th>10</th>\n",
              "    </tr>\n",
              "  </thead>\n",
              "  <tbody>\n",
              "    <tr>\n",
              "      <th>重要度上位</th>\n",
              "      <td>google</td>\n",
              "      <td>facebook</td>\n",
              "      <td>apple</td>\n",
              "      <td>microsoft</td>\n",
              "      <td>climate</td>\n",
              "      <td>gm</td>\n",
              "      <td>nasa</td>\n",
              "      <td>tesla</td>\n",
              "      <td>comcast</td>\n",
              "      <td>heartbleed</td>\n",
              "    </tr>\n",
              "    <tr>\n",
              "      <th>重要度下位</th>\n",
              "      <td>stocks</td>\n",
              "      <td>fed</td>\n",
              "      <td>her</td>\n",
              "      <td>percent</td>\n",
              "      <td>drug</td>\n",
              "      <td>american</td>\n",
              "      <td>cancer</td>\n",
              "      <td>ukraine</td>\n",
              "      <td>still</td>\n",
              "      <td>shares</td>\n",
              "    </tr>\n",
              "  </tbody>\n",
              "</table>\n",
              "</div>\n",
              "      <button class=\"colab-df-convert\" onclick=\"convertToInteractive('df-39551ed9-5736-4dd9-9b13-ca19f1237ff4')\"\n",
              "              title=\"Convert this dataframe to an interactive table.\"\n",
              "              style=\"display:none;\">\n",
              "        \n",
              "  <svg xmlns=\"http://www.w3.org/2000/svg\" height=\"24px\"viewBox=\"0 0 24 24\"\n",
              "       width=\"24px\">\n",
              "    <path d=\"M0 0h24v24H0V0z\" fill=\"none\"/>\n",
              "    <path d=\"M18.56 5.44l.94 2.06.94-2.06 2.06-.94-2.06-.94-.94-2.06-.94 2.06-2.06.94zm-11 1L8.5 8.5l.94-2.06 2.06-.94-2.06-.94L8.5 2.5l-.94 2.06-2.06.94zm10 10l.94 2.06.94-2.06 2.06-.94-2.06-.94-.94-2.06-.94 2.06-2.06.94z\"/><path d=\"M17.41 7.96l-1.37-1.37c-.4-.4-.92-.59-1.43-.59-.52 0-1.04.2-1.43.59L10.3 9.45l-7.72 7.72c-.78.78-.78 2.05 0 2.83L4 21.41c.39.39.9.59 1.41.59.51 0 1.02-.2 1.41-.59l7.78-7.78 2.81-2.81c.8-.78.8-2.07 0-2.86zM5.41 20L4 18.59l7.72-7.72 1.47 1.35L5.41 20z\"/>\n",
              "  </svg>\n",
              "      </button>\n",
              "      \n",
              "  <style>\n",
              "    .colab-df-container {\n",
              "      display:flex;\n",
              "      flex-wrap:wrap;\n",
              "      gap: 12px;\n",
              "    }\n",
              "\n",
              "    .colab-df-convert {\n",
              "      background-color: #E8F0FE;\n",
              "      border: none;\n",
              "      border-radius: 50%;\n",
              "      cursor: pointer;\n",
              "      display: none;\n",
              "      fill: #1967D2;\n",
              "      height: 32px;\n",
              "      padding: 0 0 0 0;\n",
              "      width: 32px;\n",
              "    }\n",
              "\n",
              "    .colab-df-convert:hover {\n",
              "      background-color: #E2EBFA;\n",
              "      box-shadow: 0px 1px 2px rgba(60, 64, 67, 0.3), 0px 1px 3px 1px rgba(60, 64, 67, 0.15);\n",
              "      fill: #174EA6;\n",
              "    }\n",
              "\n",
              "    [theme=dark] .colab-df-convert {\n",
              "      background-color: #3B4455;\n",
              "      fill: #D2E3FC;\n",
              "    }\n",
              "\n",
              "    [theme=dark] .colab-df-convert:hover {\n",
              "      background-color: #434B5C;\n",
              "      box-shadow: 0px 1px 3px 1px rgba(0, 0, 0, 0.15);\n",
              "      filter: drop-shadow(0px 1px 2px rgba(0, 0, 0, 0.3));\n",
              "      fill: #FFFFFF;\n",
              "    }\n",
              "  </style>\n",
              "\n",
              "      <script>\n",
              "        const buttonEl =\n",
              "          document.querySelector('#df-39551ed9-5736-4dd9-9b13-ca19f1237ff4 button.colab-df-convert');\n",
              "        buttonEl.style.display =\n",
              "          google.colab.kernel.accessAllowed ? 'block' : 'none';\n",
              "\n",
              "        async function convertToInteractive(key) {\n",
              "          const element = document.querySelector('#df-39551ed9-5736-4dd9-9b13-ca19f1237ff4');\n",
              "          const dataTable =\n",
              "            await google.colab.kernel.invokeFunction('convertToInteractive',\n",
              "                                                     [key], {});\n",
              "          if (!dataTable) return;\n",
              "\n",
              "          const docLinkHtml = 'Like what you see? Visit the ' +\n",
              "            '<a target=\"_blank\" href=https://colab.research.google.com/notebooks/data_table.ipynb>data table notebook</a>'\n",
              "            + ' to learn more about interactive tables.';\n",
              "          element.innerHTML = '';\n",
              "          dataTable['output_type'] = 'display_data';\n",
              "          await google.colab.output.renderOutput(dataTable, element);\n",
              "          const docLink = document.createElement('div');\n",
              "          docLink.innerHTML = docLinkHtml;\n",
              "          element.appendChild(docLink);\n",
              "        }\n",
              "      </script>\n",
              "    </div>\n",
              "  </div>\n",
              "  "
            ],
            "text/plain": [
              "           1         2      3          4   ...      7        8        9           10\n",
              "重要度上位  google  facebook  apple  microsoft  ...    nasa    tesla  comcast  heartbleed\n",
              "重要度下位  stocks       fed    her    percent  ...  cancer  ukraine    still      shares\n",
              "\n",
              "[2 rows x 10 columns]"
            ]
          },
          "metadata": {}
        },
        {
          "output_type": "stream",
          "name": "stdout",
          "text": [
            "\n",
            "\n"
          ]
        }
      ]
    },
    {
      "cell_type": "markdown",
      "metadata": {
        "id": "TDGkKQupt5TM"
      },
      "source": [
        "##58. 正則化パラメータの変更\n",
        "\n",
        "ロジスティック回帰モデルを学習するとき，正則化パラメータを調整することで，学習時の過学習（overfitting）の度合いを制御できる．異なる正則化パラメータでロジスティック回帰モデルを学習し，学習データ，検証データ，および評価データ上の正解率を求めよ．実験の結果は，正則化パラメータを横軸，正解率を縦軸としたグラフにまとめよ．"
      ]
    },
    {
      "cell_type": "code",
      "source": [
        "#tqdm：ループ毎にプログレスバーが進む。\n",
        "#np.logspace(-5, 4, 10, base=10)): start -5, stop 4, number of samples 10, in base10\n",
        "\n",
        "#in logisticregression, C: (float, default=1.0)　Inverse of regularization strength; \n",
        "#must be a positive float. Like in support vector machines, smaller values specify stronger regularization.\n"
      ],
      "metadata": {
        "id": "Ltxh-EB3EyKF"
      },
      "execution_count": null,
      "outputs": []
    },
    {
      "cell_type": "code",
      "source": [
        "from tqdm import tqdm\n",
        "\n",
        "result = []\n",
        "for C in tqdm(np.logspace(-5, 4, 10, base=10)):\n",
        "  # モデルの学習\n",
        "  lg = LogisticRegression(random_state=123, max_iter=10000, C=C)\n",
        "  lg.fit(X_train, train['CATEGORY'])\n",
        "\n",
        "  # 予測値の取得\n",
        "  train_pred = score_lg(lg, X_train)\n",
        "  valid_pred = score_lg(lg, X_valid)\n",
        "  test_pred = score_lg(lg, X_test)\n",
        "\n",
        "  # 正解率の算出\n",
        "  train_accuracy = accuracy_score(train['CATEGORY'], train_pred[1])\n",
        "  valid_accuracy = accuracy_score(valid['CATEGORY'], valid_pred[1])\n",
        "  test_accuracy = accuracy_score(test['CATEGORY'], test_pred[1])\n",
        "\n",
        "  # 結果の格納\n",
        "  result.append([C, train_accuracy, valid_accuracy, test_accuracy])\n"
      ],
      "metadata": {
        "colab": {
          "base_uri": "https://localhost:8080/"
        },
        "id": "vZC3IuiqEZCa",
        "outputId": "3360b412-06ec-475b-f143-3d2517515544"
      },
      "execution_count": 33,
      "outputs": [
        {
          "output_type": "stream",
          "name": "stderr",
          "text": [
            "100%|██████████| 10/10 [14:56<00:00, 89.68s/it] \n"
          ]
        }
      ]
    },
    {
      "cell_type": "code",
      "source": [
        "# 視覚化\n",
        "result = np.array(result).T\n",
        "plt.plot(result[0], result[1], label='train')\n",
        "plt.plot(result[0], result[2], label='valid')\n",
        "plt.plot(result[0], result[3], label='test')\n",
        "plt.ylim(0, 1.1)\n",
        "plt.ylabel('Accuracy')\n",
        "plt.xscale ('log')\n",
        "plt.xlabel('C')\n",
        "plt.legend()\n",
        "plt.show()\n"
      ],
      "metadata": {
        "colab": {
          "base_uri": "https://localhost:8080/",
          "height": 283
        },
        "id": "8c_eKhleEcv9",
        "outputId": "0465cde5-7b7a-4722-f2c9-55f3d279d999"
      },
      "execution_count": 36,
      "outputs": [
        {
          "output_type": "display_data",
          "data": {
            "image/png": "[encoded data removed]",
            "text/plain": [
              "<Figure size 432x288 with 1 Axes>"
            ]
          },
          "metadata": {
            "needs_background": "light"
          }
        }
      ]
    },
    {
      "cell_type": "markdown",
      "metadata": {
        "id": "g63_5eGbIOFe"
      },
      "source": [
        "##59. ハイパーパラメータの探索\n",
        "\n",
        "学習アルゴリズムや学習パラメータを変えながら，カテゴリ分類モデルを学習せよ．検証データ上の正解率が最も高くなる学習アルゴリズム・パラメータを求めよ．また，その学習アルゴリズム・パラメータを用いたときの評価データ上の正解率を求めよ．"
      ]
    },
    {
      "cell_type": "code",
      "source": [
        "!pip install optuna"
      ],
      "metadata": {
        "colab": {
          "base_uri": "https://localhost:8080/"
        },
        "id": "E4hGwMncI80R",
        "outputId": "163cc126-c378-4325-8b16-bf4e8a8a2626"
      },
      "execution_count": 37,
      "outputs": [
        {
          "output_type": "stream",
          "name": "stdout",
          "text": [
            "Collecting optuna\n",
            "  Downloading optuna-2.10.0-py3-none-any.whl (308 kB)\n",
            "\u001b[K     |████████████████████████████████| 308 kB 4.2 MB/s \n",
            "\u001b[?25hCollecting alembic\n",
            "  Downloading alembic-1.7.6-py3-none-any.whl (210 kB)\n",
            "\u001b[K     |████████████████████████████████| 210 kB 63.0 MB/s \n",
            "\u001b[?25hCollecting colorlog\n",
            "  Downloading colorlog-6.6.0-py2.py3-none-any.whl (11 kB)\n",
            "Collecting cliff\n",
            "  Downloading cliff-3.10.0-py3-none-any.whl (80 kB)\n",
            "\u001b[K     |████████████████████████████████| 80 kB 9.0 MB/s \n",
            "\u001b[?25hRequirement already satisfied: tqdm in /usr/local/lib/python3.7/dist-packages (from optuna) (4.62.3)\n",
            "Requirement already satisfied: packaging>=20.0 in /usr/local/lib/python3.7/dist-packages (from optuna) (21.3)\n",
            "Requirement already satisfied: sqlalchemy>=1.1.0 in /usr/local/lib/python3.7/dist-packages (from optuna) (1.4.31)\n",
            "Requirement already satisfied: PyYAML in /usr/local/lib/python3.7/dist-packages (from optuna) (3.13)\n",
            "Collecting cmaes>=0.8.2\n",
            "  Downloading cmaes-0.8.2-py3-none-any.whl (15 kB)\n",
            "Requirement already satisfied: numpy in /usr/local/lib/python3.7/dist-packages (from optuna) (1.21.5)\n",
            "Requirement already satisfied: scipy!=1.4.0 in /usr/local/lib/python3.7/dist-packages (from optuna) (1.4.1)\n",
            "Requirement already satisfied: pyparsing!=3.0.5,>=2.0.2 in /usr/local/lib/python3.7/dist-packages (from packaging>=20.0->optuna) (3.0.7)\n",
            "Requirement already satisfied: greenlet!=0.4.17 in /usr/local/lib/python3.7/dist-packages (from sqlalchemy>=1.1.0->optuna) (1.1.2)\n",
            "Requirement already satisfied: importlib-metadata in /usr/local/lib/python3.7/dist-packages (from sqlalchemy>=1.1.0->optuna) (4.11.0)\n",
            "Collecting Mako\n",
            "  Downloading Mako-1.1.6-py2.py3-none-any.whl (75 kB)\n",
            "\u001b[K     |████████████████████████████████| 75 kB 4.5 MB/s \n",
            "\u001b[?25hRequirement already satisfied: importlib-resources in /usr/local/lib/python3.7/dist-packages (from alembic->optuna) (5.4.0)\n",
            "Collecting stevedore>=2.0.1\n",
            "  Downloading stevedore-3.5.0-py3-none-any.whl (49 kB)\n",
            "\u001b[K     |████████████████████████████████| 49 kB 5.1 MB/s \n",
            "\u001b[?25hCollecting pbr!=2.1.0,>=2.0.0\n",
            "  Downloading pbr-5.8.1-py2.py3-none-any.whl (113 kB)\n",
            "\u001b[K     |████████████████████████████████| 113 kB 49.8 MB/s \n",
            "\u001b[?25hCollecting cmd2>=1.0.0\n",
            "  Downloading cmd2-2.3.3-py3-none-any.whl (149 kB)\n",
            "\u001b[K     |████████████████████████████████| 149 kB 63.4 MB/s \n",
            "\u001b[?25hCollecting autopage>=0.4.0\n",
            "  Downloading autopage-0.5.0-py3-none-any.whl (29 kB)\n",
            "Requirement already satisfied: PrettyTable>=0.7.2 in /usr/local/lib/python3.7/dist-packages (from cliff->optuna) (3.0.0)\n",
            "Requirement already satisfied: wcwidth>=0.1.7 in /usr/local/lib/python3.7/dist-packages (from cmd2>=1.0.0->cliff->optuna) (0.2.5)\n",
            "Collecting pyperclip>=1.6\n",
            "  Downloading pyperclip-1.8.2.tar.gz (20 kB)\n",
            "Requirement already satisfied: attrs>=16.3.0 in /usr/local/lib/python3.7/dist-packages (from cmd2>=1.0.0->cliff->optuna) (21.4.0)\n",
            "Requirement already satisfied: typing-extensions in /usr/local/lib/python3.7/dist-packages (from cmd2>=1.0.0->cliff->optuna) (3.10.0.2)\n",
            "Requirement already satisfied: zipp>=0.5 in /usr/local/lib/python3.7/dist-packages (from importlib-metadata->sqlalchemy>=1.1.0->optuna) (3.7.0)\n",
            "Requirement already satisfied: MarkupSafe>=0.9.2 in /usr/local/lib/python3.7/dist-packages (from Mako->alembic->optuna) (2.0.1)\n",
            "Building wheels for collected packages: pyperclip\n",
            "  Building wheel for pyperclip (setup.py) ... \u001b[?25l\u001b[?25hdone\n",
            "  Created wheel for pyperclip: filename=pyperclip-1.8.2-py3-none-any.whl size=11137 sha256=fc517b1743df87f4ec1071cbd9c30abdab642de202074f9bf6fc17e8295ace04\n",
            "  Stored in directory: /root/.cache/pip/wheels/9f/18/84/8f69f8b08169c7bae2dde6bd7daf0c19fca8c8e500ee620a28\n",
            "Successfully built pyperclip\n",
            "Installing collected packages: pyperclip, pbr, stevedore, Mako, cmd2, autopage, colorlog, cmaes, cliff, alembic, optuna\n",
            "Successfully installed Mako-1.1.6 alembic-1.7.6 autopage-0.5.0 cliff-3.10.0 cmaes-0.8.2 cmd2-2.3.3 colorlog-6.6.0 optuna-2.10.0 pbr-5.8.1 pyperclip-1.8.2 stevedore-3.5.0\n"
          ]
        }
      ]
    },
    {
      "cell_type": "code",
      "source": [
        "#idea of optuna https://optuna.readthedocs.io/en/stable/tutorial/10_key_features/001_first.html#sphx-glr-tutorial-10-key-features-001-first-py\n",
        "import optuna\n",
        "\n",
        "# 最適化対象を関数で指定\n",
        "def objective_lg(trial):\n",
        "  # チューニング対象パラメータのセット\n",
        "  l1_ratio = trial.suggest_uniform('l1_ratio', 0, 1)\n",
        "  C = trial.suggest_loguniform('C', 1e-4, 1e4)\n",
        "\n",
        "  # モデルの学習\n",
        "  lg = LogisticRegression(random_state=123, \n",
        "                          max_iter=10000, \n",
        "                          penalty='elasticnet', \n",
        "                          solver='saga', \n",
        "                          l1_ratio=l1_ratio, \n",
        "                          C=C)\n",
        "  lg.fit(X_train, train['CATEGORY'])\n",
        "\n",
        "  # 予測値の取得\n",
        "  valid_pred = score_lg(lg, X_valid)\n",
        "\n",
        "  # 正解率の算出\n",
        "  valid_accuracy = accuracy_score(valid['CATEGORY'], valid_pred[1])    \n",
        "\n",
        "  return valid_accuracy \n"
      ],
      "metadata": {
        "id": "Fl4EG8bmJDDm"
      },
      "execution_count": 38,
      "outputs": []
    },
    {
      "cell_type": "code",
      "source": [
        "# 最適化\n",
        "study = optuna.create_study(direction='maximize')\n",
        "study.optimize(objective_lg, timeout=3600)\n",
        "\n",
        "# 結果の表示\n",
        "print('Best trial:')\n",
        "trial = study.best_trial\n",
        "print('  Value: {:.3f}'.format(trial.value))\n",
        "print('  Params: ')\n",
        "for key, value in trial.params.items():\n",
        "  print('    {}: {}'.format(key, value))\n"
      ],
      "metadata": {
        "colab": {
          "base_uri": "https://localhost:8080/"
        },
        "id": "27HiX5hJJGUO",
        "outputId": "710f6168-ce5a-436f-fccb-971eb9613062"
      },
      "execution_count": null,
      "outputs": [
        {
          "output_type": "stream",
          "name": "stderr",
          "text": [
            "\u001b[32m[I 2022-02-17 14:44:39,496]\u001b[0m A new study created in memory with name: no-name-bba85f49-0480-4ba2-b173-407f36045460\u001b[0m\n"
          ]
        }
      ]
    }
  ]
}