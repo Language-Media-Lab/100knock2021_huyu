{
 "cells": [
  {
   "cell_type": "markdown",
   "metadata": {
    "id": "L_PkjDeDt2Hs"
   },
   "source": [
    "# 6章 機械学習  \n",
    "本章では，Fabio Gasparetti氏が公開しているNews Aggregator Data Setを用い，ニュース記事の見出しを「ビジネス」「科学技術」「エンターテイメント」「健康」のカテゴリに分類するタスク（カテゴリ分類）に取り組む．"
   ]
  },
  {
   "cell_type": "markdown",
   "metadata": {
    "id": "xV-h7VC0uA2o"
   },
   "source": [
    "## 50. データの入手・整形\n",
    "[News Aggregator Data Set](https://archive.ics.uci.edu/ml/datasets/News+Aggregator)をダウンロードし、以下の要領で学習データ（train.txt），検証データ（valid.txt），評価データ（test.txt）を作成せよ．  \n",
    "\n",
    " 1. ダウンロードしたzipファイルを解凍し，readme.txtの説明を読む．\n",
    " 2. 情報源（publisher）が”Reuters”, “Huffington Post”, “Businessweek”, “Contactmusic.com”, “Daily Mail”の事例（記事）のみを抽出する．\n",
    " 3. 抽出された事例をランダムに並び替える．\n",
    " 4. 抽出された事例の80%を学習データ，残りの10%ずつを検証データと評価データに分割し，それぞれtrain.txt，valid.txt，test.txtというファイル名で保存する．ファイルには，１行に１事例を書き出すこととし，カテゴリ名と記事見出しのタブ区切り形式とせよ（このファイルは後に問題70で再利用する）．  \n",
    "\n",
    "学習データと評価データを作成したら，各カテゴリの事例数を確認せよ．"
   ]
  },
  {
   "cell_type": "code",
   "execution_count": 6,
   "metadata": {},
   "outputs": [
    {
     "name": "stdout",
     "output_type": "stream",
     "text": [
      "                                                    TITLE CATEGORY\n",
      "276134  Fitch Lowers South Africa Credit-Rating Outloo...        b\n",
      "382850  FOREX-Dollar rises on US rate speculation afte...        b\n",
      "370769  UPDATE 2-Mexico's lower house generally approv...        b\n",
      "12938   U.S. Navy SEALs take control of North Korean-f...        b\n",
      "318782  Beyonce - Beyonce And Jay Z Pay Tribute To Mic...        e\n",
      "...                                                   ...      ...\n",
      "175007  Fashion Designers Dolce, Gabbana Lose Appeal o...        e\n",
      "192346  UPDATE 2-Draghi says ECB poised to shore up ec...        b\n",
      "4495    Bank Austria may sell Ukraine unit within a ye...        b\n",
      "168520  The Voice's Blake Shelton shares Adam Levine's...        e\n",
      "242324  Tupac Shakur's Final Words Were 'F**k You,' Ot...        e\n",
      "\n",
      "[10672 rows x 2 columns]\n",
      "【train】\n",
      "b    4502\n",
      "e    4223\n",
      "t    1219\n",
      "m     728\n",
      "Name: CATEGORY, dtype: int64\n",
      "【valid】\n",
      "b    562\n",
      "e    528\n",
      "t    153\n",
      "m     91\n",
      "Name: CATEGORY, dtype: int64\n",
      "【test】\n",
      "b    563\n",
      "e    528\n",
      "t    152\n",
      "m     91\n",
      "Name: CATEGORY, dtype: int64\n"
     ]
    }
   ],
   "source": [
    "import pandas as pd\n",
    "from sklearn.model_selection import train_test_split\n",
    "\n",
    "df=pd.read_csv('./newsCorpora.csv',header=None,sep='\\t',names=['ID','TITLE','URL','PUBLISHER','CATEGORY','STORY','HOSTNAME','TIMESTAMP'])\n",
    "#データの読み込み\n",
    "#pd.read_csv(元データ,header,sep:区切り,names:区切りごとのタグ付け):csvファイルの読み込みとタグ付け\n",
    "\n",
    "df=df.loc[df['PUBLISHER'].isin(['Reuters','Huffington Post','Businessweek','Contactmusic.com','Daily Mail']),['TITLE','CATEGORY']]\n",
    "#データの抽出\n",
    "#loc[行名,列名]:単独および複数の値を選択、取得・変更\n",
    "#print(df)\n",
    "\n",
    "train,valid_test=train_test_split(df,test_size=0.2,shuffle=True,random_state=123,stratify=df['CATEGORY'])\n",
    "valid,test=train_test_split(valid_test,test_size=0.5,shuffle=True,random_state=123,stratify=valid_test['CATEGORY'])\n",
    "#データの分割\n",
    "#sklearn　train,test=train_test_split(df:元データ,test_size:割合,shuffle:シャッフルするか,random_state:乱数シードを指定,stratify:層化抽出):データを訓練用とテスト用に分割\n",
    "#random_state:乱数シードを固定。固定しないと毎回ランダムに分割される。モデルの性能を比較する場合、分割の仕方によって結果が異なってしまうのでランダムシードを同じに固定する必要がある。\n",
    "#stratify:均等に分割したいデータを指定するとそのデータの値の比率が一致するように分割される。\n",
    "#print(train)\n",
    "\n",
    "train.to_csv('./train.txt',sep='\\t',index=False)\n",
    "valid.to_csv('./valid.txt',sep='\\t',index=False)\n",
    "test.to_csv('./test.txt',sep='\\t',index=False)\n",
    "#ファイルに書き出し(今回はtxtで出力）\n",
    "#index:行名の有る無し\n",
    "\n",
    "print('【train】')\n",
    "print(train['CATEGORY'].value_counts())\n",
    "print('【valid】')\n",
    "print(valid['CATEGORY'].value_counts())\n",
    "print('【test】')\n",
    "print(test['CATEGORY'].value_counts())"
   ]
  },
  {
   "cell_type": "markdown",
   "metadata": {
    "id": "u8gDrl6YHpZP"
   },
   "source": [
    "## 51. 特徴量抽出\n",
    "\n",
    "学習データ，検証データ，評価データから特徴量を抽出し，それぞれtrain.feature.txt，valid.feature.txt，test.feature.txtというファイル名で保存せよ． なお，カテゴリ分類に有用そうな特徴量は各自で自由に設計せよ．記事の見出しを単語列に変換したものが最低限のベースラインとなるであろう"
   ]
  },
  {
   "cell_type": "code",
   "execution_count": 15,
   "metadata": {},
   "outputs": [
    {
     "name": "stdout",
     "output_type": "stream",
     "text": [
      "0    fitch lowers south africa credit rating outloo...\n",
      "1    forex dollar rises on us rate speculation afte...\n",
      "2    update 0 mexico s lower house generally approv...\n",
      "3    u s  navy seals take control of north korean f...\n",
      "4    beyonce   beyonce and jay z pay tribute to mic...\n",
      "Name: TITLE, dtype: object\n",
      "    0d   0m  0nd   0s  0st  0th  0th birthday   aa  abbvie  abc  ...  young  \\\n",
      "0  0.0  0.0  0.0  0.0  0.0  0.0           0.0  0.0     0.0  0.0  ...    0.0   \n",
      "1  0.0  0.0  0.0  0.0  0.0  0.0           0.0  0.0     0.0  0.0  ...    0.0   \n",
      "2  0.0  0.0  0.0  0.0  0.0  0.0           0.0  0.0     0.0  0.0  ...    0.0   \n",
      "3  0.0  0.0  0.0  0.0  0.0  0.0           0.0  0.0     0.0  0.0  ...    0.0   \n",
      "4  0.0  0.0  0.0  0.0  0.0  0.0           0.0  0.0     0.0  0.0  ...    0.0   \n",
      "\n",
      "   your  your mother   yr  yr high  yuan  zac  zac efron  zendaya  zone  \n",
      "0   0.0          0.0  0.0      0.0   0.0  0.0        0.0      0.0   0.0  \n",
      "1   0.0          0.0  0.0      0.0   0.0  0.0        0.0      0.0   0.0  \n",
      "2   0.0          0.0  0.0      0.0   0.0  0.0        0.0      0.0   0.0  \n",
      "3   0.0          0.0  0.0      0.0   0.0  0.0        0.0      0.0   0.0  \n",
      "4   0.0          0.0  0.0      0.0   0.0  0.0        0.0      0.0   0.0  \n",
      "\n",
      "[5 rows x 2826 columns]\n"
     ]
    }
   ],
   "source": [
    "import string\n",
    "import re\n",
    "\n",
    "def preprocessing(text):\n",
    "    #前処理\n",
    "    table=str.maketrans(string.punctuation,' '*len(string.punctuation))\n",
    "    #table=str.maketrans()→text=text.translate(table):文字の変換\n",
    "    #string.punctuation:句読点として扱われるASCII文字列\n",
    "    text=text.translate(table)\n",
    "    #記号をスペースに置換\n",
    "    text=text.lower()\n",
    "    #小文字化\n",
    "    text=re.sub('[0-9]+','0',text)\n",
    "    #数字列を0に置換\n",
    "    \n",
    "    return text\n",
    "\n",
    "df=pd.concat([train,valid,test],axis=0)\n",
    "#pd.concat([obj:連結するオブジェクトを指定],axis:連結方向（縦・横）の指定):データを結合\n",
    "#axis:0→縦、1→横\n",
    "df.reset_index(drop=True,inplace=True)\n",
    "#reset_index(drop:元のindexを削除,inplace:元のオブジェクトを変更):インデックスを連番に振り直し\n",
    "\n",
    "df['TITLE']=df['TITLE'].map(lambda x:preprocessing(x))\n",
    "#?\n",
    "\n",
    "print(df['TITLE'].head())\n",
    "\n",
    "from sklearn.feature_extraction.text import TfidfVectorizer\n",
    "\n",
    "train_valid=df[:len(train)+len(valid)]\n",
    "#上で連結したリストは[train+valid+test]の順。このうち:len(train)+len(valid)でtrain+validまでの部分を、len(train)+len(valid):でtestの部分を指定できる。\n",
    "test=df[len(train)+len(valid):]\n",
    "\n",
    "vec_tfidf=TfidfVectorizer(min_df=10,ngram_range=(1,2))\n",
    "#ngram_rangeでTF-IDFを計算する単語の長さを指定\n",
    "#min_df:使用されている文書の割合、または使用されている文書数がパラメータ以下ならその単語を排除する。あまりにも使用されていない単語を除去できる。\n",
    "\n",
    "X_train_valid=vec_tfidf.fit_transform(train_valid['TITLE'])\n",
    "#fit():入力の文書群を与えて語彙の獲得とidfの計算を行う。\n",
    "#transform():idfから文書をtf-idf行列を作成\n",
    "#fit_transform():fit()とtransform()を同時に行う。\n",
    "X_test=vec_tfidf.transform(test['TITLE'])\n",
    "\n",
    "X_train_valid=pd.DataFrame(X_train_valid.toarray(),columns=vec_tfidf.get_feature_names())\n",
    "#pd.DataFrame(values,columns:各行名,index:各列名）\n",
    "#toarray():出力の際にリストの形で出力\n",
    "#get_feature_names:特徴量名（語彙）を表示する。\n",
    "X_test=pd.DataFrame(X_test.toarray(),columns=vec_tfidf.get_feature_names())\n",
    "\n",
    "X_train=X_train_valid[:len(train)]\n",
    "X_valid=X_train_valid[len(train):]\n",
    "\n",
    "X_train.to_csv('./train.future.txt',sep='\\t',index=False)\n",
    "X_valid.to_csv('./valid.future.txt',sep='\\t',index=False)\n",
    "X_test.to_csv('./test.futre.txt',sep='\\t',index=False)\n",
    "\n",
    "print(X_train.head())"
   ]
  },
  {
   "cell_type": "markdown",
   "metadata": {
    "id": "d87lKthmioJi"
   },
   "source": [
    "## 52. 学習\n",
    "\n",
    "51で構築した学習データを用いて，ロジスティック回帰モデルを学習せよ．"
   ]
  },
  {
   "cell_type": "code",
   "execution_count": 19,
   "metadata": {},
   "outputs": [
    {
     "name": "stdout",
     "output_type": "stream",
     "text": [
      "coefficient =  [[-0.69078395 -0.02986315  0.26500599 ... -0.57074609 -0.39331912\n",
      "   0.46384801]\n",
      " [-0.27338113  0.4886754  -0.24032157 ...  1.10403159  0.70903827\n",
      "  -0.47935622]\n",
      " [ 0.39878715 -0.10100773 -0.07620882 ... -0.25629878 -0.13860723\n",
      "   0.06262639]\n",
      " [ 0.56537793 -0.35780452  0.0515244  ... -0.27698671 -0.17711192\n",
      "  -0.04711818]]\n",
      "intercept =  [ 0.69920576  1.02106104 -1.13275163 -0.58751517]\n"
     ]
    }
   ],
   "source": [
    "from sklearn.linear_model import LogisticRegression\n",
    "\n",
    "lg=LogisticRegression(random_state=123,max_iter=10000)\n",
    "#max_iter:学習回数\n",
    "lg.fit(X_train,train['CATEGORY'])\n",
    "#X_train:特徴量行列\n",
    "\n",
    "print(\"coefficient = \", lg.coef_)\n",
    "print(\"intercept = \", lg.intercept_)"
   ]
  },
  {
   "cell_type": "markdown",
   "metadata": {
    "id": "NxreDPbWGYVh"
   },
   "source": [
    "## 53. 予測\n",
    "\n",
    "52で学習したロジスティック回帰モデルを用い，与えられた記事見出しからカテゴリとその予測確率を計算するプログラムを実装せよ．"
   ]
  },
  {
   "cell_type": "code",
   "execution_count": 20,
   "metadata": {},
   "outputs": [
    {
     "name": "stdout",
     "output_type": "stream",
     "text": [
      "[array([0.9394302 , 0.98281993, 0.61624728, ..., 0.98332608, 0.80166168,\n",
      "       0.77274288]), array(['b', 'b', 'b', ..., 'b', 'e', 'e'], dtype=object)]\n"
     ]
    }
   ],
   "source": [
    "import numpy as np\n",
    "\n",
    "def score_lg(lg,X):\n",
    "    return[np.max(lg.predict_proba(X),axis=1),lg.predict(X)]\n",
    "#np.max:配列の最大値を取り出す\n",
    "#lg.predict_proba(X):各データがそれぞれのクラスに所属する確立を返す\n",
    "#lg.predict(X):Xをlg(ロジスティック回帰モデル）を用いて分類\n",
    "\n",
    "train_pred=score_lg(lg,X_train)\n",
    "test_pred=score_lg(lg,X_test)\n",
    "print(train_pred)"
   ]
  },
  {
   "cell_type": "markdown",
   "metadata": {
    "id": "9H7mj0nVGk9O"
   },
   "source": [
    "## 54. 正解率の計測\n",
    "\n",
    "52で学習したロジスティック回帰モデルの正解率を，学習データおよび評価データ上で計測せよ．"
   ]
  },
  {
   "cell_type": "code",
   "execution_count": 21,
   "metadata": {},
   "outputs": [
    {
     "name": "stdout",
     "output_type": "stream",
     "text": [
      "正解率（学習データ）：0.923\n",
      "正解率（評価データ）：0.886\n"
     ]
    }
   ],
   "source": [
    "from sklearn.metrics import accuracy_score\n",
    "\n",
    "train_accuracy=accuracy_score(train['CATEGORY'],train_pred[1])\n",
    "#acccuracy_sccore():正解率を返す。Accuracy=(TP+TN)/(TP+TN+FP+FN)\n",
    "test_accuracy=accuracy_score(test['CATEGORY'],test_pred[1])\n",
    "print(f'正解率（学習データ）：{train_accuracy:.3f}')\n",
    "print(f'正解率（評価データ）：{test_accuracy:.3f}')"
   ]
  },
  {
   "cell_type": "markdown",
   "metadata": {
    "id": "E7z3MRbDXoyD"
   },
   "source": [
    "## 55. 混同行列の作成\n",
    "\n",
    "52で学習したロジスティック回帰モデルの混同行列（confusion matrix）を，学習データおよび評価データ上で作成せよ．"
   ]
  },
  {
   "cell_type": "code",
   "execution_count": 25,
   "metadata": {},
   "outputs": [
    {
     "name": "stdout",
     "output_type": "stream",
     "text": [
      "[[4347   95    7   53]\n",
      " [  66 4146    3    8]\n",
      " [ 102  134  482   10]\n",
      " [ 188  145    8  878]]\n"
     ]
    },
    {
     "data": {
      "image/png": "[encoded data removed]",
      "text/plain": [
       "<Figure size 432x288 with 2 Axes>"
      ]
     },
     "metadata": {
      "needs_background": "light"
     },
     "output_type": "display_data"
    },
    {
     "name": "stdout",
     "output_type": "stream",
     "text": [
      "[[533  20   2   8]\n",
      " [ 12 513   1   2]\n",
      " [ 13  34  39   5]\n",
      " [ 28  26   1  97]]\n"
     ]
    },
    {
     "data": {
      "image/png": "[encoded data removed]",
      "text/plain": [
       "<Figure size 432x288 with 2 Axes>"
      ]
     },
     "metadata": {
      "needs_background": "light"
     },
     "output_type": "display_data"
    }
   ],
   "source": [
    "from sklearn.metrics import confusion_matrix\n",
    "import seaborn as sns\n",
    "import matplotlib.pyplot as plt\n",
    "\n",
    "train_cm=confusion_matrix(train['CATEGORY'],train_pred[1])\n",
    "print(train_cm)\n",
    "sns.heatmap(train_cm,annot=True,cmap='Blues')\n",
    "plt.show()\n",
    "#annot:グラフに数値を描画\n",
    "\n",
    "test_cm=confusion_matrix(test['CATEGORY'],test_pred[1])\n",
    "print(test_cm)\n",
    "sns.heatmap(test_cm,annot=True,cmap='Blues')\n",
    "plt.show()"
   ]
  },
  {
   "cell_type": "markdown",
   "metadata": {
    "id": "7wi8b2onXHtY"
   },
   "source": [
    "## 56. 適合率，再現率，F1スコアの計測\n",
    "\n",
    "52で学習したロジスティック回帰モデルの適合率，再現率，F1スコアを，評価データ上で計測せよ．カテゴリごとに適合率，再現率，F1スコアを求め，カテゴリごとの性能をマイクロ平均（micro-average）とマクロ平均（macro-average）で統合せよ．"
   ]
  },
  {
   "cell_type": "markdown",
   "metadata": {
    "id": "YX-f4arThStO"
   },
   "source": [
    "### マイクロ平均とは\n",
    "**クラスごと**にF1値を計算し、平均したもの\n",
    "正解率の場合：𝑛𝑖回のテストのうち，𝑥𝑖回が正解の場合，マイクロ平均は次式：\n",
    "$\\frac{\\sum_{i=1}^{N} x_i}{\\sum_{i=1}^{N} n_i}$\n",
    "\n",
    "### マクロ平均とは\n",
    "**全クラス**のF1値を計算したもの\n",
    "正解率の場合：𝑛𝑖回のテストのうち，𝑥𝑖回が正解の場合，マクロ平均は次式：\n",
    "$\\frac{1}{N}\\sum_{i=1}^{N}\\frac{x_i}{n_i}$"
   ]
  },
  {
   "cell_type": "code",
   "execution_count": 29,
   "metadata": {},
   "outputs": [
    {
     "name": "stdout",
     "output_type": "stream",
     "text": [
      "             適合率       再現率     F1スコア\n",
      "b       0.909556  0.946714  0.927763\n",
      "e       0.865093  0.971591  0.915254\n",
      "t       0.866071  0.638158  0.734848\n",
      "m       0.906977  0.428571  0.582090\n",
      "マイクロ平均  0.886057  0.886057  0.886057\n",
      "マクロ平均   0.886924  0.746259  0.789989\n"
     ]
    }
   ],
   "source": [
    "from sklearn.metrics import precision_score,recall_score,f1_score\n",
    "\n",
    "def calculate_scores(y_true,y_pred):\n",
    "    \n",
    "    #適合率（精度）:precision=TP/(TP+FP)\n",
    "    precision = precision_score(y_true, y_pred, average=None, labels=['b', 'e', 't', 'm'])  # Noneを指定するとクラスごとの精度をndarrayで返す\n",
    "    precision = np.append(precision, precision_score(y_true, y_pred, average='micro'))  # 末尾にマイクロ平均を追加\n",
    "    precision = np.append(precision, precision_score(y_true, y_pred, average='macro'))  # 末尾にマクロ平均を追加\n",
    "    \n",
    "    #再現率（検出率）:recall=TP/(TP+FN)\n",
    "    recall = recall_score(y_true, y_pred, average=None, labels=['b', 'e', 't', 'm'])\n",
    "    recall = np.append(recall, recall_score(y_true, y_pred, average='micro'))\n",
    "    recall = np.append(recall, recall_score(y_true, y_pred, average='macro'))\n",
    "    \n",
    "    #F1スコア:2*(precision*recall)/(precision+recall)\n",
    "    f1 = f1_score(y_true, y_pred, average=None, labels=['b', 'e', 't', 'm'])\n",
    "    f1 = np.append(f1, f1_score(y_true, y_pred, average='micro'))\n",
    "    f1 = np.append(f1, f1_score(y_true, y_pred, average='macro'))\n",
    "    \n",
    "    # 結果を結合してデータフレーム化\n",
    "    scores = pd.DataFrame({'適合率': precision, '再現率': recall, 'F1スコア': f1},index=['b', 'e', 't', 'm', 'マイクロ平均', 'マクロ平均'])\n",
    "\n",
    "    return scores\n",
    "\n",
    "print(calculate_scores(test['CATEGORY'], test_pred[1]))\n",
    "    "
   ]
  },
  {
   "cell_type": "markdown",
   "metadata": {
    "id": "oiU08ynGs27m"
   },
   "source": [
    "## 57. 特徴量の重みの確認\n",
    "\n",
    "52で学習したロジスティック回帰モデルの中で，重みの高い特徴量トップ10と，重みの低い特徴量トップ10を確認せよ．"
   ]
  },
  {
   "cell_type": "code",
   "execution_count": 27,
   "metadata": {},
   "outputs": [
    {
     "name": "stdout",
     "output_type": "stream",
     "text": [
      "【カテゴリ】b\n"
     ]
    },
    {
     "data": {
      "text/html": [
       "<div>\n",
       "<style scoped>\n",
       "    .dataframe tbody tr th:only-of-type {\n",
       "        vertical-align: middle;\n",
       "    }\n",
       "\n",
       "    .dataframe tbody tr th {\n",
       "        vertical-align: top;\n",
       "    }\n",
       "\n",
       "    .dataframe thead th {\n",
       "        text-align: right;\n",
       "    }\n",
       "</style>\n",
       "<table border=\"1\" class=\"dataframe\">\n",
       "  <thead>\n",
       "    <tr style=\"text-align: right;\">\n",
       "      <th></th>\n",
       "      <th>1</th>\n",
       "      <th>2</th>\n",
       "      <th>3</th>\n",
       "      <th>4</th>\n",
       "      <th>5</th>\n",
       "      <th>6</th>\n",
       "      <th>7</th>\n",
       "      <th>8</th>\n",
       "      <th>9</th>\n",
       "      <th>10</th>\n",
       "    </tr>\n",
       "  </thead>\n",
       "  <tbody>\n",
       "    <tr>\n",
       "      <th>重要度上位</th>\n",
       "      <td>bank</td>\n",
       "      <td>fed</td>\n",
       "      <td>china</td>\n",
       "      <td>ecb</td>\n",
       "      <td>stocks</td>\n",
       "      <td>ukraine</td>\n",
       "      <td>obamacare</td>\n",
       "      <td>euro</td>\n",
       "      <td>oil</td>\n",
       "      <td>yellen</td>\n",
       "    </tr>\n",
       "    <tr>\n",
       "      <th>重要度下位</th>\n",
       "      <td>her</td>\n",
       "      <td>video</td>\n",
       "      <td>ebola</td>\n",
       "      <td>the</td>\n",
       "      <td>and</td>\n",
       "      <td>she</td>\n",
       "      <td>aereo</td>\n",
       "      <td>study</td>\n",
       "      <td>google</td>\n",
       "      <td>virus</td>\n",
       "    </tr>\n",
       "  </tbody>\n",
       "</table>\n",
       "</div>"
      ],
      "text/plain": [
       "         1      2      3    4       5        6          7      8       9   \\\n",
       "重要度上位  bank    fed  china  ecb  stocks  ukraine  obamacare   euro     oil   \n",
       "重要度下位   her  video  ebola  the     and      she      aereo  study  google   \n",
       "\n",
       "           10  \n",
       "重要度上位  yellen  \n",
       "重要度下位   virus  "
      ]
     },
     "metadata": {},
     "output_type": "display_data"
    },
    {
     "name": "stdout",
     "output_type": "stream",
     "text": [
      "\n",
      "\n",
      "【カテゴリ】e\n"
     ]
    },
    {
     "data": {
      "text/html": [
       "<div>\n",
       "<style scoped>\n",
       "    .dataframe tbody tr th:only-of-type {\n",
       "        vertical-align: middle;\n",
       "    }\n",
       "\n",
       "    .dataframe tbody tr th {\n",
       "        vertical-align: top;\n",
       "    }\n",
       "\n",
       "    .dataframe thead th {\n",
       "        text-align: right;\n",
       "    }\n",
       "</style>\n",
       "<table border=\"1\" class=\"dataframe\">\n",
       "  <thead>\n",
       "    <tr style=\"text-align: right;\">\n",
       "      <th></th>\n",
       "      <th>1</th>\n",
       "      <th>2</th>\n",
       "      <th>3</th>\n",
       "      <th>4</th>\n",
       "      <th>5</th>\n",
       "      <th>6</th>\n",
       "      <th>7</th>\n",
       "      <th>8</th>\n",
       "      <th>9</th>\n",
       "      <th>10</th>\n",
       "    </tr>\n",
       "  </thead>\n",
       "  <tbody>\n",
       "    <tr>\n",
       "      <th>重要度上位</th>\n",
       "      <td>kardashian</td>\n",
       "      <td>chris</td>\n",
       "      <td>star</td>\n",
       "      <td>movie</td>\n",
       "      <td>he</td>\n",
       "      <td>her</td>\n",
       "      <td>she</td>\n",
       "      <td>film</td>\n",
       "      <td>jay</td>\n",
       "      <td>paul</td>\n",
       "    </tr>\n",
       "    <tr>\n",
       "      <th>重要度下位</th>\n",
       "      <td>us</td>\n",
       "      <td>update</td>\n",
       "      <td>google</td>\n",
       "      <td>study</td>\n",
       "      <td>gm</td>\n",
       "      <td>china</td>\n",
       "      <td>facebook</td>\n",
       "      <td>billion</td>\n",
       "      <td>ceo</td>\n",
       "      <td>could</td>\n",
       "    </tr>\n",
       "  </tbody>\n",
       "</table>\n",
       "</div>"
      ],
      "text/plain": [
       "               1       2       3      4   5      6         7        8    9   \\\n",
       "重要度上位  kardashian   chris    star  movie  he    her       she     film  jay   \n",
       "重要度下位          us  update  google  study  gm  china  facebook  billion  ceo   \n",
       "\n",
       "          10  \n",
       "重要度上位   paul  \n",
       "重要度下位  could  "
      ]
     },
     "metadata": {},
     "output_type": "display_data"
    },
    {
     "name": "stdout",
     "output_type": "stream",
     "text": [
      "\n",
      "\n",
      "【カテゴリ】m\n"
     ]
    },
    {
     "data": {
      "text/html": [
       "<div>\n",
       "<style scoped>\n",
       "    .dataframe tbody tr th:only-of-type {\n",
       "        vertical-align: middle;\n",
       "    }\n",
       "\n",
       "    .dataframe tbody tr th {\n",
       "        vertical-align: top;\n",
       "    }\n",
       "\n",
       "    .dataframe thead th {\n",
       "        text-align: right;\n",
       "    }\n",
       "</style>\n",
       "<table border=\"1\" class=\"dataframe\">\n",
       "  <thead>\n",
       "    <tr style=\"text-align: right;\">\n",
       "      <th></th>\n",
       "      <th>1</th>\n",
       "      <th>2</th>\n",
       "      <th>3</th>\n",
       "      <th>4</th>\n",
       "      <th>5</th>\n",
       "      <th>6</th>\n",
       "      <th>7</th>\n",
       "      <th>8</th>\n",
       "      <th>9</th>\n",
       "      <th>10</th>\n",
       "    </tr>\n",
       "  </thead>\n",
       "  <tbody>\n",
       "    <tr>\n",
       "      <th>重要度上位</th>\n",
       "      <td>ebola</td>\n",
       "      <td>study</td>\n",
       "      <td>drug</td>\n",
       "      <td>fda</td>\n",
       "      <td>cancer</td>\n",
       "      <td>mers</td>\n",
       "      <td>could</td>\n",
       "      <td>cases</td>\n",
       "      <td>health</td>\n",
       "      <td>cigarettes</td>\n",
       "    </tr>\n",
       "    <tr>\n",
       "      <th>重要度下位</th>\n",
       "      <td>facebook</td>\n",
       "      <td>gm</td>\n",
       "      <td>apple</td>\n",
       "      <td>bank</td>\n",
       "      <td>google</td>\n",
       "      <td>ceo</td>\n",
       "      <td>deal</td>\n",
       "      <td>climate</td>\n",
       "      <td>twitter</td>\n",
       "      <td>sales</td>\n",
       "    </tr>\n",
       "  </tbody>\n",
       "</table>\n",
       "</div>"
      ],
      "text/plain": [
       "             1      2      3     4       5     6      7        8        9   \\\n",
       "重要度上位     ebola  study   drug   fda  cancer  mers  could    cases   health   \n",
       "重要度下位  facebook     gm  apple  bank  google   ceo   deal  climate  twitter   \n",
       "\n",
       "               10  \n",
       "重要度上位  cigarettes  \n",
       "重要度下位       sales  "
      ]
     },
     "metadata": {},
     "output_type": "display_data"
    },
    {
     "name": "stdout",
     "output_type": "stream",
     "text": [
      "\n",
      "\n",
      "【カテゴリ】t\n"
     ]
    },
    {
     "data": {
      "text/html": [
       "<div>\n",
       "<style scoped>\n",
       "    .dataframe tbody tr th:only-of-type {\n",
       "        vertical-align: middle;\n",
       "    }\n",
       "\n",
       "    .dataframe tbody tr th {\n",
       "        vertical-align: top;\n",
       "    }\n",
       "\n",
       "    .dataframe thead th {\n",
       "        text-align: right;\n",
       "    }\n",
       "</style>\n",
       "<table border=\"1\" class=\"dataframe\">\n",
       "  <thead>\n",
       "    <tr style=\"text-align: right;\">\n",
       "      <th></th>\n",
       "      <th>1</th>\n",
       "      <th>2</th>\n",
       "      <th>3</th>\n",
       "      <th>4</th>\n",
       "      <th>5</th>\n",
       "      <th>6</th>\n",
       "      <th>7</th>\n",
       "      <th>8</th>\n",
       "      <th>9</th>\n",
       "      <th>10</th>\n",
       "    </tr>\n",
       "  </thead>\n",
       "  <tbody>\n",
       "    <tr>\n",
       "      <th>重要度上位</th>\n",
       "      <td>google</td>\n",
       "      <td>facebook</td>\n",
       "      <td>apple</td>\n",
       "      <td>microsoft</td>\n",
       "      <td>climate</td>\n",
       "      <td>gm</td>\n",
       "      <td>tesla</td>\n",
       "      <td>nasa</td>\n",
       "      <td>earth</td>\n",
       "      <td>heartbleed</td>\n",
       "    </tr>\n",
       "    <tr>\n",
       "      <th>重要度下位</th>\n",
       "      <td>stocks</td>\n",
       "      <td>fed</td>\n",
       "      <td>her</td>\n",
       "      <td>percent</td>\n",
       "      <td>drug</td>\n",
       "      <td>american</td>\n",
       "      <td>cancer</td>\n",
       "      <td>shares</td>\n",
       "      <td>still</td>\n",
       "      <td>ukraine</td>\n",
       "    </tr>\n",
       "  </tbody>\n",
       "</table>\n",
       "</div>"
      ],
      "text/plain": [
       "           1         2      3          4        5         6       7       8   \\\n",
       "重要度上位  google  facebook  apple  microsoft  climate        gm   tesla    nasa   \n",
       "重要度下位  stocks       fed    her    percent     drug  american  cancer  shares   \n",
       "\n",
       "          9           10  \n",
       "重要度上位  earth  heartbleed  \n",
       "重要度下位  still     ukraine  "
      ]
     },
     "metadata": {},
     "output_type": "display_data"
    },
    {
     "name": "stdout",
     "output_type": "stream",
     "text": [
      "\n",
      "\n"
     ]
    }
   ],
   "source": [
    "features = X_train.columns.values\n",
    "index = [i for i in range(1, 11)]\n",
    "for c, coef in zip(lg.classes_, lg.coef_):\n",
    "    print(f'【カテゴリ】{c}')\n",
    "    best10 = pd.DataFrame(features[np.argsort(coef)[::-1][:10]], columns=['重要度上位'], index=index).T\n",
    "    worst10 = pd.DataFrame(features[np.argsort(coef)[:10]], columns=['重要度下位'], index=index).T\n",
    "    display(pd.concat([best10, worst10], axis=0))\n",
    "    print('\\n')"
   ]
  },
  {
   "cell_type": "markdown",
   "metadata": {
    "id": "TDGkKQupt5TM"
   },
   "source": [
    "## 58. 正則化パラメータの変更\n",
    "\n",
    "ロジスティック回帰モデルを学習するとき，正則化パラメータを調整することで，学習時の過学習（overfitting）の度合いを制御できる．異なる正則化パラメータでロジスティック回帰モデルを学習し，学習データ，検証データ，および評価データ上の正解率を求めよ．実験の結果は，正則化パラメータを横軸，正解率を縦軸としたグラフにまとめよ．"
   ]
  },
  {
   "cell_type": "markdown",
   "metadata": {
    "id": "g63_5eGbIOFe"
   },
   "source": [
    "## 59. ハイパーパラメータの探索\n",
    "\n",
    "学習アルゴリズムや学習パラメータを変えながら，カテゴリ分類モデルを学習せよ．検証データ上の正解率が最も高くなる学習アルゴリズム・パラメータを求めよ．また，その学習アルゴリズム・パラメータを用いたときの評価データ上の正解率を求めよ．"
   ]
  },
  {
   "cell_type": "code",
   "execution_count": null,
   "metadata": {},
   "outputs": [],
   "source": []
  }
 ],
 "metadata": {
  "colab": {
   "collapsed_sections": [],
   "name": "Chapter06.ipynb",
   "provenance": []
  },
  "kernelspec": {
   "display_name": "Python 3",
   "language": "python",
   "name": "python3"
  },
  "language_info": {
   "codemirror_mode": {
    "name": "ipython",
    "version": 3
   },
   "file_extension": ".py",
   "mimetype": "text/x-python",
   "name": "python",
   "nbconvert_exporter": "python",
   "pygments_lexer": "ipython3",
   "version": "3.8.8"
  }
 },
 "nbformat": 4,
 "nbformat_minor": 1
}
